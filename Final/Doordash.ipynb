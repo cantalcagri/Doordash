{
 "cells": [
  {
   "cell_type": "code",
   "execution_count": 362,
   "id": "8f3cd5ec",
   "metadata": {},
   "outputs": [],
   "source": [
    "import numpy as np\n",
    "import pandas as pd\n",
    "import matplotlib.pyplot as plt\n",
    "import seaborn as sns\n",
    "plt.rcParams[\"figure.figsize\"] = (10,6)\n",
    "pd.set_option('display.max_columns', 100)\n",
    "import warnings\n",
    "warnings.filterwarnings('ignore')"
   ]
  },
  {
   "cell_type": "code",
   "execution_count": 363,
   "id": "ebdb19be",
   "metadata": {},
   "outputs": [],
   "source": [
    "df = pd.read_csv('historical_data.csv')"
   ]
  },
  {
   "cell_type": "code",
   "execution_count": 364,
   "id": "2f693050",
   "metadata": {},
   "outputs": [
    {
     "data": {
      "text/html": [
       "<div>\n",
       "<style scoped>\n",
       "    .dataframe tbody tr th:only-of-type {\n",
       "        vertical-align: middle;\n",
       "    }\n",
       "\n",
       "    .dataframe tbody tr th {\n",
       "        vertical-align: top;\n",
       "    }\n",
       "\n",
       "    .dataframe thead th {\n",
       "        text-align: right;\n",
       "    }\n",
       "</style>\n",
       "<table border=\"1\" class=\"dataframe\">\n",
       "  <thead>\n",
       "    <tr style=\"text-align: right;\">\n",
       "      <th></th>\n",
       "      <th>market_id</th>\n",
       "      <th>created_at</th>\n",
       "      <th>actual_delivery_time</th>\n",
       "      <th>store_id</th>\n",
       "      <th>subtotal</th>\n",
       "      <th>total_onshift_dashers</th>\n",
       "      <th>total_busy_dashers</th>\n",
       "      <th>total_outstanding_orders</th>\n",
       "      <th>estimated_store_to_consumer_driving_duration</th>\n",
       "    </tr>\n",
       "  </thead>\n",
       "  <tbody>\n",
       "    <tr>\n",
       "      <th>0</th>\n",
       "      <td>1.0</td>\n",
       "      <td>2015-02-06 22:24:17</td>\n",
       "      <td>2015-02-06 23:27:16</td>\n",
       "      <td>1845</td>\n",
       "      <td>3441</td>\n",
       "      <td>33.0</td>\n",
       "      <td>14.0</td>\n",
       "      <td>21.0</td>\n",
       "      <td>861.0</td>\n",
       "    </tr>\n",
       "    <tr>\n",
       "      <th>1</th>\n",
       "      <td>2.0</td>\n",
       "      <td>2015-02-10 21:49:25</td>\n",
       "      <td>2015-02-10 22:56:29</td>\n",
       "      <td>5477</td>\n",
       "      <td>1900</td>\n",
       "      <td>1.0</td>\n",
       "      <td>2.0</td>\n",
       "      <td>2.0</td>\n",
       "      <td>690.0</td>\n",
       "    </tr>\n",
       "    <tr>\n",
       "      <th>2</th>\n",
       "      <td>3.0</td>\n",
       "      <td>2015-01-22 20:39:28</td>\n",
       "      <td>2015-01-22 21:09:09</td>\n",
       "      <td>5477</td>\n",
       "      <td>1900</td>\n",
       "      <td>1.0</td>\n",
       "      <td>0.0</td>\n",
       "      <td>0.0</td>\n",
       "      <td>690.0</td>\n",
       "    </tr>\n",
       "    <tr>\n",
       "      <th>3</th>\n",
       "      <td>3.0</td>\n",
       "      <td>2015-02-03 21:21:45</td>\n",
       "      <td>2015-02-03 22:13:00</td>\n",
       "      <td>5477</td>\n",
       "      <td>6900</td>\n",
       "      <td>1.0</td>\n",
       "      <td>1.0</td>\n",
       "      <td>2.0</td>\n",
       "      <td>289.0</td>\n",
       "    </tr>\n",
       "    <tr>\n",
       "      <th>4</th>\n",
       "      <td>3.0</td>\n",
       "      <td>2015-02-15 02:40:36</td>\n",
       "      <td>2015-02-15 03:20:26</td>\n",
       "      <td>5477</td>\n",
       "      <td>3900</td>\n",
       "      <td>6.0</td>\n",
       "      <td>6.0</td>\n",
       "      <td>9.0</td>\n",
       "      <td>650.0</td>\n",
       "    </tr>\n",
       "  </tbody>\n",
       "</table>\n",
       "</div>"
      ],
      "text/plain": [
       "   market_id           created_at actual_delivery_time  store_id  subtotal  \\\n",
       "0        1.0  2015-02-06 22:24:17  2015-02-06 23:27:16      1845      3441   \n",
       "1        2.0  2015-02-10 21:49:25  2015-02-10 22:56:29      5477      1900   \n",
       "2        3.0  2015-01-22 20:39:28  2015-01-22 21:09:09      5477      1900   \n",
       "3        3.0  2015-02-03 21:21:45  2015-02-03 22:13:00      5477      6900   \n",
       "4        3.0  2015-02-15 02:40:36  2015-02-15 03:20:26      5477      3900   \n",
       "\n",
       "   total_onshift_dashers  total_busy_dashers  total_outstanding_orders  \\\n",
       "0                   33.0                14.0                      21.0   \n",
       "1                    1.0                 2.0                       2.0   \n",
       "2                    1.0                 0.0                       0.0   \n",
       "3                    1.0                 1.0                       2.0   \n",
       "4                    6.0                 6.0                       9.0   \n",
       "\n",
       "   estimated_store_to_consumer_driving_duration  \n",
       "0                                         861.0  \n",
       "1                                         690.0  \n",
       "2                                         690.0  \n",
       "3                                         289.0  \n",
       "4                                         650.0  "
      ]
     },
     "execution_count": 364,
     "metadata": {},
     "output_type": "execute_result"
    }
   ],
   "source": [
    "df.head()"
   ]
  },
  {
   "cell_type": "code",
   "execution_count": 365,
   "id": "2e974680",
   "metadata": {},
   "outputs": [
    {
     "name": "stdout",
     "output_type": "stream",
     "text": [
      "<class 'pandas.core.frame.DataFrame'>\n",
      "RangeIndex: 197428 entries, 0 to 197427\n",
      "Data columns (total 9 columns):\n",
      " #   Column                                        Non-Null Count   Dtype  \n",
      "---  ------                                        --------------   -----  \n",
      " 0   market_id                                     196441 non-null  float64\n",
      " 1   created_at                                    197428 non-null  object \n",
      " 2   actual_delivery_time                          197421 non-null  object \n",
      " 3   store_id                                      197428 non-null  int64  \n",
      " 4   subtotal                                      197428 non-null  int64  \n",
      " 5   total_onshift_dashers                         181166 non-null  float64\n",
      " 6   total_busy_dashers                            181166 non-null  float64\n",
      " 7   total_outstanding_orders                      181166 non-null  float64\n",
      " 8   estimated_store_to_consumer_driving_duration  196902 non-null  float64\n",
      "dtypes: float64(5), int64(2), object(2)\n",
      "memory usage: 13.6+ MB\n"
     ]
    }
   ],
   "source": [
    "df.info()"
   ]
  },
  {
   "cell_type": "markdown",
   "id": "b1edfe15",
   "metadata": {},
   "source": [
    "# Checking Null Values"
   ]
  },
  {
   "cell_type": "code",
   "execution_count": 366,
   "id": "64b1fd6a",
   "metadata": {},
   "outputs": [
    {
     "data": {
      "text/html": [
       "<div>\n",
       "<style scoped>\n",
       "    .dataframe tbody tr th:only-of-type {\n",
       "        vertical-align: middle;\n",
       "    }\n",
       "\n",
       "    .dataframe tbody tr th {\n",
       "        vertical-align: top;\n",
       "    }\n",
       "\n",
       "    .dataframe thead th {\n",
       "        text-align: right;\n",
       "    }\n",
       "</style>\n",
       "<table border=\"1\" class=\"dataframe\">\n",
       "  <thead>\n",
       "    <tr style=\"text-align: right;\">\n",
       "      <th></th>\n",
       "      <th>market_id</th>\n",
       "      <th>created_at</th>\n",
       "      <th>actual_delivery_time</th>\n",
       "      <th>store_id</th>\n",
       "      <th>subtotal</th>\n",
       "      <th>total_onshift_dashers</th>\n",
       "      <th>total_busy_dashers</th>\n",
       "      <th>total_outstanding_orders</th>\n",
       "      <th>estimated_store_to_consumer_driving_duration</th>\n",
       "    </tr>\n",
       "  </thead>\n",
       "  <tbody>\n",
       "    <tr>\n",
       "      <th>45</th>\n",
       "      <td>NaN</td>\n",
       "      <td>2015-02-09 03:27:37</td>\n",
       "      <td>2015-02-09 04:22:18</td>\n",
       "      <td>5054</td>\n",
       "      <td>2400</td>\n",
       "      <td>94.0</td>\n",
       "      <td>92.0</td>\n",
       "      <td>149.0</td>\n",
       "      <td>287.0</td>\n",
       "    </tr>\n",
       "    <tr>\n",
       "      <th>182</th>\n",
       "      <td>NaN</td>\n",
       "      <td>2015-02-01 05:32:34</td>\n",
       "      <td>2015-02-01 06:01:21</td>\n",
       "      <td>5081</td>\n",
       "      <td>1845</td>\n",
       "      <td>33.0</td>\n",
       "      <td>23.0</td>\n",
       "      <td>30.0</td>\n",
       "      <td>581.0</td>\n",
       "    </tr>\n",
       "    <tr>\n",
       "      <th>970</th>\n",
       "      <td>NaN</td>\n",
       "      <td>2015-02-17 02:17:43</td>\n",
       "      <td>2015-02-17 03:15:14</td>\n",
       "      <td>1148</td>\n",
       "      <td>3400</td>\n",
       "      <td>36.0</td>\n",
       "      <td>36.0</td>\n",
       "      <td>52.0</td>\n",
       "      <td>653.0</td>\n",
       "    </tr>\n",
       "    <tr>\n",
       "      <th>1126</th>\n",
       "      <td>NaN</td>\n",
       "      <td>2015-02-18 03:50:52</td>\n",
       "      <td>2015-02-18 04:15:09</td>\n",
       "      <td>1904</td>\n",
       "      <td>1395</td>\n",
       "      <td>89.0</td>\n",
       "      <td>71.0</td>\n",
       "      <td>72.0</td>\n",
       "      <td>315.0</td>\n",
       "    </tr>\n",
       "    <tr>\n",
       "      <th>1625</th>\n",
       "      <td>NaN</td>\n",
       "      <td>2015-02-17 03:49:46</td>\n",
       "      <td>2015-02-17 04:21:27</td>\n",
       "      <td>283</td>\n",
       "      <td>1699</td>\n",
       "      <td>44.0</td>\n",
       "      <td>40.0</td>\n",
       "      <td>69.0</td>\n",
       "      <td>597.0</td>\n",
       "    </tr>\n",
       "    <tr>\n",
       "      <th>...</th>\n",
       "      <td>...</td>\n",
       "      <td>...</td>\n",
       "      <td>...</td>\n",
       "      <td>...</td>\n",
       "      <td>...</td>\n",
       "      <td>...</td>\n",
       "      <td>...</td>\n",
       "      <td>...</td>\n",
       "      <td>...</td>\n",
       "    </tr>\n",
       "    <tr>\n",
       "      <th>196027</th>\n",
       "      <td>NaN</td>\n",
       "      <td>2015-01-24 02:59:19</td>\n",
       "      <td>2015-01-24 04:16:30</td>\n",
       "      <td>4862</td>\n",
       "      <td>1998</td>\n",
       "      <td>129.0</td>\n",
       "      <td>130.0</td>\n",
       "      <td>232.0</td>\n",
       "      <td>766.0</td>\n",
       "    </tr>\n",
       "    <tr>\n",
       "      <th>196561</th>\n",
       "      <td>NaN</td>\n",
       "      <td>2015-02-02 20:49:57</td>\n",
       "      <td>2015-02-02 21:26:34</td>\n",
       "      <td>4077</td>\n",
       "      <td>1975</td>\n",
       "      <td>33.0</td>\n",
       "      <td>34.0</td>\n",
       "      <td>40.0</td>\n",
       "      <td>577.0</td>\n",
       "    </tr>\n",
       "    <tr>\n",
       "      <th>197170</th>\n",
       "      <td>NaN</td>\n",
       "      <td>2015-02-01 01:29:54</td>\n",
       "      <td>2015-02-01 01:50:18</td>\n",
       "      <td>1409</td>\n",
       "      <td>2495</td>\n",
       "      <td>74.0</td>\n",
       "      <td>58.0</td>\n",
       "      <td>64.0</td>\n",
       "      <td>163.0</td>\n",
       "    </tr>\n",
       "    <tr>\n",
       "      <th>197171</th>\n",
       "      <td>NaN</td>\n",
       "      <td>2015-02-16 19:16:44</td>\n",
       "      <td>2015-02-16 19:56:03</td>\n",
       "      <td>1409</td>\n",
       "      <td>2830</td>\n",
       "      <td>50.0</td>\n",
       "      <td>49.0</td>\n",
       "      <td>56.0</td>\n",
       "      <td>587.0</td>\n",
       "    </tr>\n",
       "    <tr>\n",
       "      <th>197259</th>\n",
       "      <td>NaN</td>\n",
       "      <td>2015-02-10 01:32:37</td>\n",
       "      <td>2015-02-10 02:02:09</td>\n",
       "      <td>1340</td>\n",
       "      <td>849</td>\n",
       "      <td>25.0</td>\n",
       "      <td>13.0</td>\n",
       "      <td>20.0</td>\n",
       "      <td>1013.0</td>\n",
       "    </tr>\n",
       "  </tbody>\n",
       "</table>\n",
       "<p>987 rows × 9 columns</p>\n",
       "</div>"
      ],
      "text/plain": [
       "        market_id           created_at actual_delivery_time  store_id  \\\n",
       "45            NaN  2015-02-09 03:27:37  2015-02-09 04:22:18      5054   \n",
       "182           NaN  2015-02-01 05:32:34  2015-02-01 06:01:21      5081   \n",
       "970           NaN  2015-02-17 02:17:43  2015-02-17 03:15:14      1148   \n",
       "1126          NaN  2015-02-18 03:50:52  2015-02-18 04:15:09      1904   \n",
       "1625          NaN  2015-02-17 03:49:46  2015-02-17 04:21:27       283   \n",
       "...           ...                  ...                  ...       ...   \n",
       "196027        NaN  2015-01-24 02:59:19  2015-01-24 04:16:30      4862   \n",
       "196561        NaN  2015-02-02 20:49:57  2015-02-02 21:26:34      4077   \n",
       "197170        NaN  2015-02-01 01:29:54  2015-02-01 01:50:18      1409   \n",
       "197171        NaN  2015-02-16 19:16:44  2015-02-16 19:56:03      1409   \n",
       "197259        NaN  2015-02-10 01:32:37  2015-02-10 02:02:09      1340   \n",
       "\n",
       "        subtotal  total_onshift_dashers  total_busy_dashers  \\\n",
       "45          2400                   94.0                92.0   \n",
       "182         1845                   33.0                23.0   \n",
       "970         3400                   36.0                36.0   \n",
       "1126        1395                   89.0                71.0   \n",
       "1625        1699                   44.0                40.0   \n",
       "...          ...                    ...                 ...   \n",
       "196027      1998                  129.0               130.0   \n",
       "196561      1975                   33.0                34.0   \n",
       "197170      2495                   74.0                58.0   \n",
       "197171      2830                   50.0                49.0   \n",
       "197259       849                   25.0                13.0   \n",
       "\n",
       "        total_outstanding_orders  estimated_store_to_consumer_driving_duration  \n",
       "45                         149.0                                         287.0  \n",
       "182                         30.0                                         581.0  \n",
       "970                         52.0                                         653.0  \n",
       "1126                        72.0                                         315.0  \n",
       "1625                        69.0                                         597.0  \n",
       "...                          ...                                           ...  \n",
       "196027                     232.0                                         766.0  \n",
       "196561                      40.0                                         577.0  \n",
       "197170                      64.0                                         163.0  \n",
       "197171                      56.0                                         587.0  \n",
       "197259                      20.0                                        1013.0  \n",
       "\n",
       "[987 rows x 9 columns]"
      ]
     },
     "execution_count": 366,
     "metadata": {},
     "output_type": "execute_result"
    }
   ],
   "source": [
    "df[df.market_id.isnull()]"
   ]
  },
  {
   "cell_type": "code",
   "execution_count": 367,
   "id": "6ea0d6c7",
   "metadata": {},
   "outputs": [
    {
     "data": {
      "text/html": [
       "<div>\n",
       "<style scoped>\n",
       "    .dataframe tbody tr th:only-of-type {\n",
       "        vertical-align: middle;\n",
       "    }\n",
       "\n",
       "    .dataframe tbody tr th {\n",
       "        vertical-align: top;\n",
       "    }\n",
       "\n",
       "    .dataframe thead th {\n",
       "        text-align: right;\n",
       "    }\n",
       "</style>\n",
       "<table border=\"1\" class=\"dataframe\">\n",
       "  <thead>\n",
       "    <tr style=\"text-align: right;\">\n",
       "      <th></th>\n",
       "      <th>market_id</th>\n",
       "      <th>created_at</th>\n",
       "      <th>actual_delivery_time</th>\n",
       "      <th>store_id</th>\n",
       "      <th>subtotal</th>\n",
       "      <th>total_onshift_dashers</th>\n",
       "      <th>total_busy_dashers</th>\n",
       "      <th>total_outstanding_orders</th>\n",
       "      <th>estimated_store_to_consumer_driving_duration</th>\n",
       "    </tr>\n",
       "  </thead>\n",
       "  <tbody>\n",
       "    <tr>\n",
       "      <th>109</th>\n",
       "      <td>3.0</td>\n",
       "      <td>2015-02-10 21:51:54</td>\n",
       "      <td>NaN</td>\n",
       "      <td>1698</td>\n",
       "      <td>1125</td>\n",
       "      <td>7.0</td>\n",
       "      <td>5.0</td>\n",
       "      <td>4.0</td>\n",
       "      <td>488.0</td>\n",
       "    </tr>\n",
       "    <tr>\n",
       "      <th>7670</th>\n",
       "      <td>2.0</td>\n",
       "      <td>2015-02-08 02:54:42</td>\n",
       "      <td>NaN</td>\n",
       "      <td>2340</td>\n",
       "      <td>2860</td>\n",
       "      <td>131.0</td>\n",
       "      <td>123.0</td>\n",
       "      <td>197.0</td>\n",
       "      <td>723.0</td>\n",
       "    </tr>\n",
       "    <tr>\n",
       "      <th>78511</th>\n",
       "      <td>4.0</td>\n",
       "      <td>2015-02-15 02:15:45</td>\n",
       "      <td>NaN</td>\n",
       "      <td>901</td>\n",
       "      <td>5050</td>\n",
       "      <td>91.0</td>\n",
       "      <td>75.0</td>\n",
       "      <td>167.0</td>\n",
       "      <td>770.0</td>\n",
       "    </tr>\n",
       "    <tr>\n",
       "      <th>115982</th>\n",
       "      <td>4.0</td>\n",
       "      <td>2015-02-16 01:52:49</td>\n",
       "      <td>NaN</td>\n",
       "      <td>1107</td>\n",
       "      <td>2094</td>\n",
       "      <td>53.0</td>\n",
       "      <td>53.0</td>\n",
       "      <td>102.0</td>\n",
       "      <td>433.0</td>\n",
       "    </tr>\n",
       "    <tr>\n",
       "      <th>140635</th>\n",
       "      <td>2.0</td>\n",
       "      <td>2015-02-15 02:21:42</td>\n",
       "      <td>NaN</td>\n",
       "      <td>1661</td>\n",
       "      <td>4210</td>\n",
       "      <td>123.0</td>\n",
       "      <td>91.0</td>\n",
       "      <td>176.0</td>\n",
       "      <td>862.0</td>\n",
       "    </tr>\n",
       "    <tr>\n",
       "      <th>158967</th>\n",
       "      <td>2.0</td>\n",
       "      <td>2015-02-01 01:21:29</td>\n",
       "      <td>NaN</td>\n",
       "      <td>314</td>\n",
       "      <td>3447</td>\n",
       "      <td>90.0</td>\n",
       "      <td>88.0</td>\n",
       "      <td>109.0</td>\n",
       "      <td>572.0</td>\n",
       "    </tr>\n",
       "    <tr>\n",
       "      <th>170416</th>\n",
       "      <td>5.0</td>\n",
       "      <td>2015-02-01 01:36:33</td>\n",
       "      <td>NaN</td>\n",
       "      <td>2651</td>\n",
       "      <td>982</td>\n",
       "      <td>41.0</td>\n",
       "      <td>31.0</td>\n",
       "      <td>31.0</td>\n",
       "      <td>333.0</td>\n",
       "    </tr>\n",
       "  </tbody>\n",
       "</table>\n",
       "</div>"
      ],
      "text/plain": [
       "        market_id           created_at actual_delivery_time  store_id  \\\n",
       "109           3.0  2015-02-10 21:51:54                  NaN      1698   \n",
       "7670          2.0  2015-02-08 02:54:42                  NaN      2340   \n",
       "78511         4.0  2015-02-15 02:15:45                  NaN       901   \n",
       "115982        4.0  2015-02-16 01:52:49                  NaN      1107   \n",
       "140635        2.0  2015-02-15 02:21:42                  NaN      1661   \n",
       "158967        2.0  2015-02-01 01:21:29                  NaN       314   \n",
       "170416        5.0  2015-02-01 01:36:33                  NaN      2651   \n",
       "\n",
       "        subtotal  total_onshift_dashers  total_busy_dashers  \\\n",
       "109         1125                    7.0                 5.0   \n",
       "7670        2860                  131.0               123.0   \n",
       "78511       5050                   91.0                75.0   \n",
       "115982      2094                   53.0                53.0   \n",
       "140635      4210                  123.0                91.0   \n",
       "158967      3447                   90.0                88.0   \n",
       "170416       982                   41.0                31.0   \n",
       "\n",
       "        total_outstanding_orders  estimated_store_to_consumer_driving_duration  \n",
       "109                          4.0                                         488.0  \n",
       "7670                       197.0                                         723.0  \n",
       "78511                      167.0                                         770.0  \n",
       "115982                     102.0                                         433.0  \n",
       "140635                     176.0                                         862.0  \n",
       "158967                     109.0                                         572.0  \n",
       "170416                      31.0                                         333.0  "
      ]
     },
     "execution_count": 367,
     "metadata": {},
     "output_type": "execute_result"
    }
   ],
   "source": [
    "df[df.actual_delivery_time.isnull()]"
   ]
  },
  {
   "cell_type": "code",
   "execution_count": 368,
   "id": "60eb161d",
   "metadata": {},
   "outputs": [],
   "source": [
    "df = df.dropna(subset=['actual_delivery_time'])"
   ]
  },
  {
   "cell_type": "code",
   "execution_count": 369,
   "id": "ec0430c5",
   "metadata": {},
   "outputs": [
    {
     "data": {
      "text/html": [
       "<div>\n",
       "<style scoped>\n",
       "    .dataframe tbody tr th:only-of-type {\n",
       "        vertical-align: middle;\n",
       "    }\n",
       "\n",
       "    .dataframe tbody tr th {\n",
       "        vertical-align: top;\n",
       "    }\n",
       "\n",
       "    .dataframe thead th {\n",
       "        text-align: right;\n",
       "    }\n",
       "</style>\n",
       "<table border=\"1\" class=\"dataframe\">\n",
       "  <thead>\n",
       "    <tr style=\"text-align: right;\">\n",
       "      <th></th>\n",
       "      <th>market_id</th>\n",
       "      <th>created_at</th>\n",
       "      <th>actual_delivery_time</th>\n",
       "      <th>store_id</th>\n",
       "      <th>subtotal</th>\n",
       "      <th>total_onshift_dashers</th>\n",
       "      <th>total_busy_dashers</th>\n",
       "      <th>total_outstanding_orders</th>\n",
       "      <th>estimated_store_to_consumer_driving_duration</th>\n",
       "    </tr>\n",
       "  </thead>\n",
       "  <tbody>\n",
       "    <tr>\n",
       "      <th>160</th>\n",
       "      <td>6.0</td>\n",
       "      <td>2015-02-06 01:11:56</td>\n",
       "      <td>2015-02-06 01:42:51</td>\n",
       "      <td>976</td>\n",
       "      <td>575</td>\n",
       "      <td>NaN</td>\n",
       "      <td>NaN</td>\n",
       "      <td>NaN</td>\n",
       "      <td>671.0</td>\n",
       "    </tr>\n",
       "    <tr>\n",
       "      <th>161</th>\n",
       "      <td>6.0</td>\n",
       "      <td>2015-02-14 02:07:47</td>\n",
       "      <td>2015-02-14 03:17:37</td>\n",
       "      <td>976</td>\n",
       "      <td>1415</td>\n",
       "      <td>NaN</td>\n",
       "      <td>NaN</td>\n",
       "      <td>NaN</td>\n",
       "      <td>893.0</td>\n",
       "    </tr>\n",
       "    <tr>\n",
       "      <th>162</th>\n",
       "      <td>6.0</td>\n",
       "      <td>2015-01-31 21:58:30</td>\n",
       "      <td>2015-01-31 22:55:32</td>\n",
       "      <td>976</td>\n",
       "      <td>650</td>\n",
       "      <td>NaN</td>\n",
       "      <td>NaN</td>\n",
       "      <td>NaN</td>\n",
       "      <td>479.0</td>\n",
       "    </tr>\n",
       "    <tr>\n",
       "      <th>163</th>\n",
       "      <td>6.0</td>\n",
       "      <td>2015-02-08 03:28:59</td>\n",
       "      <td>2015-02-08 05:32:11</td>\n",
       "      <td>976</td>\n",
       "      <td>1550</td>\n",
       "      <td>NaN</td>\n",
       "      <td>NaN</td>\n",
       "      <td>NaN</td>\n",
       "      <td>1104.0</td>\n",
       "    </tr>\n",
       "    <tr>\n",
       "      <th>164</th>\n",
       "      <td>6.0</td>\n",
       "      <td>2015-01-23 19:29:17</td>\n",
       "      <td>2015-01-23 20:25:25</td>\n",
       "      <td>976</td>\n",
       "      <td>1110</td>\n",
       "      <td>NaN</td>\n",
       "      <td>NaN</td>\n",
       "      <td>NaN</td>\n",
       "      <td>584.0</td>\n",
       "    </tr>\n",
       "    <tr>\n",
       "      <th>...</th>\n",
       "      <td>...</td>\n",
       "      <td>...</td>\n",
       "      <td>...</td>\n",
       "      <td>...</td>\n",
       "      <td>...</td>\n",
       "      <td>...</td>\n",
       "      <td>...</td>\n",
       "      <td>...</td>\n",
       "      <td>...</td>\n",
       "    </tr>\n",
       "    <tr>\n",
       "      <th>197196</th>\n",
       "      <td>3.0</td>\n",
       "      <td>2015-02-10 19:55:29</td>\n",
       "      <td>2015-02-10 20:33:13</td>\n",
       "      <td>5382</td>\n",
       "      <td>1792</td>\n",
       "      <td>NaN</td>\n",
       "      <td>NaN</td>\n",
       "      <td>NaN</td>\n",
       "      <td>725.0</td>\n",
       "    </tr>\n",
       "    <tr>\n",
       "      <th>197197</th>\n",
       "      <td>3.0</td>\n",
       "      <td>2015-02-06 03:05:38</td>\n",
       "      <td>2015-02-06 03:58:16</td>\n",
       "      <td>5382</td>\n",
       "      <td>2923</td>\n",
       "      <td>NaN</td>\n",
       "      <td>NaN</td>\n",
       "      <td>NaN</td>\n",
       "      <td>683.0</td>\n",
       "    </tr>\n",
       "    <tr>\n",
       "      <th>197198</th>\n",
       "      <td>3.0</td>\n",
       "      <td>2015-01-23 03:57:56</td>\n",
       "      <td>2015-01-23 04:43:17</td>\n",
       "      <td>5382</td>\n",
       "      <td>3297</td>\n",
       "      <td>NaN</td>\n",
       "      <td>NaN</td>\n",
       "      <td>NaN</td>\n",
       "      <td>725.0</td>\n",
       "    </tr>\n",
       "    <tr>\n",
       "      <th>197199</th>\n",
       "      <td>3.0</td>\n",
       "      <td>2015-01-24 03:15:41</td>\n",
       "      <td>2015-01-24 04:04:19</td>\n",
       "      <td>5382</td>\n",
       "      <td>2776</td>\n",
       "      <td>NaN</td>\n",
       "      <td>NaN</td>\n",
       "      <td>NaN</td>\n",
       "      <td>820.0</td>\n",
       "    </tr>\n",
       "    <tr>\n",
       "      <th>197421</th>\n",
       "      <td>1.0</td>\n",
       "      <td>2015-01-30 03:35:01</td>\n",
       "      <td>2015-01-30 04:42:19</td>\n",
       "      <td>2956</td>\n",
       "      <td>979</td>\n",
       "      <td>NaN</td>\n",
       "      <td>NaN</td>\n",
       "      <td>NaN</td>\n",
       "      <td>614.0</td>\n",
       "    </tr>\n",
       "  </tbody>\n",
       "</table>\n",
       "<p>16262 rows × 9 columns</p>\n",
       "</div>"
      ],
      "text/plain": [
       "        market_id           created_at actual_delivery_time  store_id  \\\n",
       "160           6.0  2015-02-06 01:11:56  2015-02-06 01:42:51       976   \n",
       "161           6.0  2015-02-14 02:07:47  2015-02-14 03:17:37       976   \n",
       "162           6.0  2015-01-31 21:58:30  2015-01-31 22:55:32       976   \n",
       "163           6.0  2015-02-08 03:28:59  2015-02-08 05:32:11       976   \n",
       "164           6.0  2015-01-23 19:29:17  2015-01-23 20:25:25       976   \n",
       "...           ...                  ...                  ...       ...   \n",
       "197196        3.0  2015-02-10 19:55:29  2015-02-10 20:33:13      5382   \n",
       "197197        3.0  2015-02-06 03:05:38  2015-02-06 03:58:16      5382   \n",
       "197198        3.0  2015-01-23 03:57:56  2015-01-23 04:43:17      5382   \n",
       "197199        3.0  2015-01-24 03:15:41  2015-01-24 04:04:19      5382   \n",
       "197421        1.0  2015-01-30 03:35:01  2015-01-30 04:42:19      2956   \n",
       "\n",
       "        subtotal  total_onshift_dashers  total_busy_dashers  \\\n",
       "160          575                    NaN                 NaN   \n",
       "161         1415                    NaN                 NaN   \n",
       "162          650                    NaN                 NaN   \n",
       "163         1550                    NaN                 NaN   \n",
       "164         1110                    NaN                 NaN   \n",
       "...          ...                    ...                 ...   \n",
       "197196      1792                    NaN                 NaN   \n",
       "197197      2923                    NaN                 NaN   \n",
       "197198      3297                    NaN                 NaN   \n",
       "197199      2776                    NaN                 NaN   \n",
       "197421       979                    NaN                 NaN   \n",
       "\n",
       "        total_outstanding_orders  estimated_store_to_consumer_driving_duration  \n",
       "160                          NaN                                         671.0  \n",
       "161                          NaN                                         893.0  \n",
       "162                          NaN                                         479.0  \n",
       "163                          NaN                                        1104.0  \n",
       "164                          NaN                                         584.0  \n",
       "...                          ...                                           ...  \n",
       "197196                       NaN                                         725.0  \n",
       "197197                       NaN                                         683.0  \n",
       "197198                       NaN                                         725.0  \n",
       "197199                       NaN                                         820.0  \n",
       "197421                       NaN                                         614.0  \n",
       "\n",
       "[16262 rows x 9 columns]"
      ]
     },
     "execution_count": 369,
     "metadata": {},
     "output_type": "execute_result"
    }
   ],
   "source": [
    "df[df.total_outstanding_orders.isnull()]"
   ]
  },
  {
   "cell_type": "code",
   "execution_count": 370,
   "id": "f1f36f0d",
   "metadata": {},
   "outputs": [],
   "source": [
    "df = df.dropna(subset=['total_outstanding_orders'])"
   ]
  },
  {
   "cell_type": "code",
   "execution_count": 371,
   "id": "825bbbbd",
   "metadata": {},
   "outputs": [
    {
     "data": {
      "text/plain": [
       "92       NaN\n",
       "403      NaN\n",
       "735      NaN\n",
       "1056     NaN\n",
       "1418     NaN\n",
       "          ..\n",
       "195980   NaN\n",
       "196097   NaN\n",
       "197096   NaN\n",
       "197209   NaN\n",
       "197416   NaN\n",
       "Name: estimated_store_to_consumer_driving_duration, Length: 482, dtype: float64"
      ]
     },
     "execution_count": 371,
     "metadata": {},
     "output_type": "execute_result"
    }
   ],
   "source": [
    "df[df.estimated_store_to_consumer_driving_duration.isnull()]['estimated_store_to_consumer_driving_duration']"
   ]
  },
  {
   "cell_type": "code",
   "execution_count": 372,
   "id": "9e616135",
   "metadata": {},
   "outputs": [],
   "source": [
    "df = df.dropna(subset=['estimated_store_to_consumer_driving_duration'])"
   ]
  },
  {
   "cell_type": "code",
   "execution_count": 373,
   "id": "f9e424ac",
   "metadata": {},
   "outputs": [],
   "source": [
    "df = df.dropna(subset=['market_id'])"
   ]
  },
  {
   "cell_type": "code",
   "execution_count": 374,
   "id": "00e0e328",
   "metadata": {},
   "outputs": [
    {
     "name": "stdout",
     "output_type": "stream",
     "text": [
      "<class 'pandas.core.frame.DataFrame'>\n",
      "Int64Index: 179759 entries, 0 to 197427\n",
      "Data columns (total 9 columns):\n",
      " #   Column                                        Non-Null Count   Dtype  \n",
      "---  ------                                        --------------   -----  \n",
      " 0   market_id                                     179759 non-null  float64\n",
      " 1   created_at                                    179759 non-null  object \n",
      " 2   actual_delivery_time                          179759 non-null  object \n",
      " 3   store_id                                      179759 non-null  int64  \n",
      " 4   subtotal                                      179759 non-null  int64  \n",
      " 5   total_onshift_dashers                         179759 non-null  float64\n",
      " 6   total_busy_dashers                            179759 non-null  float64\n",
      " 7   total_outstanding_orders                      179759 non-null  float64\n",
      " 8   estimated_store_to_consumer_driving_duration  179759 non-null  float64\n",
      "dtypes: float64(5), int64(2), object(2)\n",
      "memory usage: 13.7+ MB\n"
     ]
    }
   ],
   "source": [
    "df.info()"
   ]
  },
  {
   "cell_type": "code",
   "execution_count": 375,
   "id": "a8132f7c",
   "metadata": {},
   "outputs": [],
   "source": [
    "df1 = df.copy()"
   ]
  },
  {
   "cell_type": "code",
   "execution_count": 376,
   "id": "e541f342",
   "metadata": {
    "scrolled": true
   },
   "outputs": [
    {
     "data": {
      "text/html": [
       "<div>\n",
       "<style scoped>\n",
       "    .dataframe tbody tr th:only-of-type {\n",
       "        vertical-align: middle;\n",
       "    }\n",
       "\n",
       "    .dataframe tbody tr th {\n",
       "        vertical-align: top;\n",
       "    }\n",
       "\n",
       "    .dataframe thead th {\n",
       "        text-align: right;\n",
       "    }\n",
       "</style>\n",
       "<table border=\"1\" class=\"dataframe\">\n",
       "  <thead>\n",
       "    <tr style=\"text-align: right;\">\n",
       "      <th></th>\n",
       "      <th>count</th>\n",
       "      <th>mean</th>\n",
       "      <th>std</th>\n",
       "      <th>min</th>\n",
       "      <th>25%</th>\n",
       "      <th>50%</th>\n",
       "      <th>75%</th>\n",
       "      <th>max</th>\n",
       "    </tr>\n",
       "  </thead>\n",
       "  <tbody>\n",
       "    <tr>\n",
       "      <th>market_id</th>\n",
       "      <td>179759.0</td>\n",
       "      <td>2.748669</td>\n",
       "      <td>1.331756</td>\n",
       "      <td>1.0</td>\n",
       "      <td>2.0</td>\n",
       "      <td>2.0</td>\n",
       "      <td>4.0</td>\n",
       "      <td>6.0</td>\n",
       "    </tr>\n",
       "    <tr>\n",
       "      <th>store_id</th>\n",
       "      <td>179759.0</td>\n",
       "      <td>3545.087456</td>\n",
       "      <td>2057.688645</td>\n",
       "      <td>1.0</td>\n",
       "      <td>1686.0</td>\n",
       "      <td>3614.0</td>\n",
       "      <td>5323.0</td>\n",
       "      <td>6987.0</td>\n",
       "    </tr>\n",
       "    <tr>\n",
       "      <th>subtotal</th>\n",
       "      <td>179759.0</td>\n",
       "      <td>2699.223460</td>\n",
       "      <td>1829.165815</td>\n",
       "      <td>0.0</td>\n",
       "      <td>1418.0</td>\n",
       "      <td>2225.0</td>\n",
       "      <td>3415.0</td>\n",
       "      <td>26800.0</td>\n",
       "    </tr>\n",
       "    <tr>\n",
       "      <th>total_onshift_dashers</th>\n",
       "      <td>179759.0</td>\n",
       "      <td>44.820037</td>\n",
       "      <td>34.541868</td>\n",
       "      <td>-4.0</td>\n",
       "      <td>17.0</td>\n",
       "      <td>37.0</td>\n",
       "      <td>65.0</td>\n",
       "      <td>171.0</td>\n",
       "    </tr>\n",
       "    <tr>\n",
       "      <th>total_busy_dashers</th>\n",
       "      <td>179759.0</td>\n",
       "      <td>41.754193</td>\n",
       "      <td>32.160043</td>\n",
       "      <td>-5.0</td>\n",
       "      <td>15.0</td>\n",
       "      <td>34.0</td>\n",
       "      <td>62.0</td>\n",
       "      <td>154.0</td>\n",
       "    </tr>\n",
       "    <tr>\n",
       "      <th>total_outstanding_orders</th>\n",
       "      <td>179759.0</td>\n",
       "      <td>58.067513</td>\n",
       "      <td>52.683946</td>\n",
       "      <td>-6.0</td>\n",
       "      <td>17.0</td>\n",
       "      <td>41.0</td>\n",
       "      <td>85.0</td>\n",
       "      <td>285.0</td>\n",
       "    </tr>\n",
       "    <tr>\n",
       "      <th>estimated_store_to_consumer_driving_duration</th>\n",
       "      <td>179759.0</td>\n",
       "      <td>545.889218</td>\n",
       "      <td>218.578610</td>\n",
       "      <td>0.0</td>\n",
       "      <td>383.0</td>\n",
       "      <td>544.0</td>\n",
       "      <td>703.0</td>\n",
       "      <td>2088.0</td>\n",
       "    </tr>\n",
       "  </tbody>\n",
       "</table>\n",
       "</div>"
      ],
      "text/plain": [
       "                                                 count         mean  \\\n",
       "market_id                                     179759.0     2.748669   \n",
       "store_id                                      179759.0  3545.087456   \n",
       "subtotal                                      179759.0  2699.223460   \n",
       "total_onshift_dashers                         179759.0    44.820037   \n",
       "total_busy_dashers                            179759.0    41.754193   \n",
       "total_outstanding_orders                      179759.0    58.067513   \n",
       "estimated_store_to_consumer_driving_duration  179759.0   545.889218   \n",
       "\n",
       "                                                      std  min     25%  \\\n",
       "market_id                                        1.331756  1.0     2.0   \n",
       "store_id                                      2057.688645  1.0  1686.0   \n",
       "subtotal                                      1829.165815  0.0  1418.0   \n",
       "total_onshift_dashers                           34.541868 -4.0    17.0   \n",
       "total_busy_dashers                              32.160043 -5.0    15.0   \n",
       "total_outstanding_orders                        52.683946 -6.0    17.0   \n",
       "estimated_store_to_consumer_driving_duration   218.578610  0.0   383.0   \n",
       "\n",
       "                                                 50%     75%      max  \n",
       "market_id                                        2.0     4.0      6.0  \n",
       "store_id                                      3614.0  5323.0   6987.0  \n",
       "subtotal                                      2225.0  3415.0  26800.0  \n",
       "total_onshift_dashers                           37.0    65.0    171.0  \n",
       "total_busy_dashers                              34.0    62.0    154.0  \n",
       "total_outstanding_orders                        41.0    85.0    285.0  \n",
       "estimated_store_to_consumer_driving_duration   544.0   703.0   2088.0  "
      ]
     },
     "execution_count": 376,
     "metadata": {},
     "output_type": "execute_result"
    }
   ],
   "source": [
    "df.describe().T"
   ]
  },
  {
   "cell_type": "markdown",
   "id": "8e017156",
   "metadata": {},
   "source": [
    "- total_onshift_dashers, total_busy_dashers, total_outstanding_orders same values less than 0. I will drop those rows"
   ]
  },
  {
   "cell_type": "code",
   "execution_count": 377,
   "id": "6293d7f6",
   "metadata": {
    "scrolled": true
   },
   "outputs": [
    {
     "data": {
      "text/html": [
       "<div>\n",
       "<style scoped>\n",
       "    .dataframe tbody tr th:only-of-type {\n",
       "        vertical-align: middle;\n",
       "    }\n",
       "\n",
       "    .dataframe tbody tr th {\n",
       "        vertical-align: top;\n",
       "    }\n",
       "\n",
       "    .dataframe thead th {\n",
       "        text-align: right;\n",
       "    }\n",
       "</style>\n",
       "<table border=\"1\" class=\"dataframe\">\n",
       "  <thead>\n",
       "    <tr style=\"text-align: right;\">\n",
       "      <th></th>\n",
       "      <th>market_id</th>\n",
       "      <th>created_at</th>\n",
       "      <th>actual_delivery_time</th>\n",
       "      <th>store_id</th>\n",
       "      <th>subtotal</th>\n",
       "      <th>total_onshift_dashers</th>\n",
       "      <th>total_busy_dashers</th>\n",
       "      <th>total_outstanding_orders</th>\n",
       "      <th>estimated_store_to_consumer_driving_duration</th>\n",
       "    </tr>\n",
       "  </thead>\n",
       "  <tbody>\n",
       "    <tr>\n",
       "      <th>6034</th>\n",
       "      <td>3.0</td>\n",
       "      <td>2015-02-14 01:48:58</td>\n",
       "      <td>2015-02-14 03:00:13</td>\n",
       "      <td>90</td>\n",
       "      <td>3538</td>\n",
       "      <td>-2.0</td>\n",
       "      <td>2.0</td>\n",
       "      <td>10.0</td>\n",
       "      <td>266.0</td>\n",
       "    </tr>\n",
       "    <tr>\n",
       "      <th>12888</th>\n",
       "      <td>3.0</td>\n",
       "      <td>2015-01-21 21:02:32</td>\n",
       "      <td>2015-01-21 21:41:03</td>\n",
       "      <td>2649</td>\n",
       "      <td>986</td>\n",
       "      <td>-2.0</td>\n",
       "      <td>5.0</td>\n",
       "      <td>1.0</td>\n",
       "      <td>787.0</td>\n",
       "    </tr>\n",
       "    <tr>\n",
       "      <th>26395</th>\n",
       "      <td>3.0</td>\n",
       "      <td>2015-02-08 18:28:15</td>\n",
       "      <td>2015-02-08 19:17:31</td>\n",
       "      <td>2772</td>\n",
       "      <td>1327</td>\n",
       "      <td>-1.0</td>\n",
       "      <td>6.0</td>\n",
       "      <td>6.0</td>\n",
       "      <td>368.0</td>\n",
       "    </tr>\n",
       "    <tr>\n",
       "      <th>30897</th>\n",
       "      <td>3.0</td>\n",
       "      <td>2015-02-07 19:55:46</td>\n",
       "      <td>2015-02-07 20:46:27</td>\n",
       "      <td>793</td>\n",
       "      <td>1202</td>\n",
       "      <td>-1.0</td>\n",
       "      <td>9.0</td>\n",
       "      <td>5.0</td>\n",
       "      <td>773.0</td>\n",
       "    </tr>\n",
       "    <tr>\n",
       "      <th>33154</th>\n",
       "      <td>1.0</td>\n",
       "      <td>2015-02-02 22:27:36</td>\n",
       "      <td>2015-02-03 00:08:43</td>\n",
       "      <td>1337</td>\n",
       "      <td>2831</td>\n",
       "      <td>-1.0</td>\n",
       "      <td>13.0</td>\n",
       "      <td>16.0</td>\n",
       "      <td>394.0</td>\n",
       "    </tr>\n",
       "  </tbody>\n",
       "</table>\n",
       "</div>"
      ],
      "text/plain": [
       "       market_id           created_at actual_delivery_time  store_id  \\\n",
       "6034         3.0  2015-02-14 01:48:58  2015-02-14 03:00:13        90   \n",
       "12888        3.0  2015-01-21 21:02:32  2015-01-21 21:41:03      2649   \n",
       "26395        3.0  2015-02-08 18:28:15  2015-02-08 19:17:31      2772   \n",
       "30897        3.0  2015-02-07 19:55:46  2015-02-07 20:46:27       793   \n",
       "33154        1.0  2015-02-02 22:27:36  2015-02-03 00:08:43      1337   \n",
       "\n",
       "       subtotal  total_onshift_dashers  total_busy_dashers  \\\n",
       "6034       3538                   -2.0                 2.0   \n",
       "12888       986                   -2.0                 5.0   \n",
       "26395      1327                   -1.0                 6.0   \n",
       "30897      1202                   -1.0                 9.0   \n",
       "33154      2831                   -1.0                13.0   \n",
       "\n",
       "       total_outstanding_orders  estimated_store_to_consumer_driving_duration  \n",
       "6034                       10.0                                         266.0  \n",
       "12888                       1.0                                         787.0  \n",
       "26395                       6.0                                         368.0  \n",
       "30897                       5.0                                         773.0  \n",
       "33154                      16.0                                         394.0  "
      ]
     },
     "execution_count": 377,
     "metadata": {},
     "output_type": "execute_result"
    }
   ],
   "source": [
    "df[df.total_onshift_dashers < 0].head()"
   ]
  },
  {
   "cell_type": "code",
   "execution_count": 378,
   "id": "51a5a617",
   "metadata": {},
   "outputs": [],
   "source": [
    "df = df[(df.total_onshift_dashers > 0) | (df.total_busy_dashers > 0) | (df.total_outstanding_orders > 0)]"
   ]
  },
  {
   "cell_type": "markdown",
   "id": "ba58f0f6",
   "metadata": {},
   "source": [
    "- Dropped negative values fo total_onshift_dashers, total_busy_dashers, total_outstanding_orders"
   ]
  },
  {
   "cell_type": "code",
   "execution_count": 379,
   "id": "889f8070",
   "metadata": {},
   "outputs": [],
   "source": [
    "df = df[(df.total_onshift_dashers > 0) | (df.total_busy_dashers > 0) | (df.total_outstanding_orders > 0)]"
   ]
  },
  {
   "cell_type": "code",
   "execution_count": 380,
   "id": "9fce2ce5",
   "metadata": {},
   "outputs": [
    {
     "data": {
      "text/plain": [
       "(176367, 9)"
      ]
     },
     "execution_count": 380,
     "metadata": {},
     "output_type": "execute_result"
    }
   ],
   "source": [
    "df.shape"
   ]
  },
  {
   "cell_type": "markdown",
   "id": "7170a264",
   "metadata": {},
   "source": [
    "# Checking Ourliers"
   ]
  },
  {
   "cell_type": "code",
   "execution_count": 381,
   "id": "faca0392",
   "metadata": {},
   "outputs": [
    {
     "data": {
      "text/plain": [
       "<AxesSubplot:xlabel='total_outstanding_orders'>"
      ]
     },
     "execution_count": 381,
     "metadata": {},
     "output_type": "execute_result"
    },
    {
     "data": {
      "image/png": "[encoded data removed]",
      "text/plain": [
       "<Figure size 720x432 with 1 Axes>"
      ]
     },
     "metadata": {
      "needs_background": "light"
     },
     "output_type": "display_data"
    }
   ],
   "source": [
    "sns.boxplot(df.total_outstanding_orders)"
   ]
  },
  {
   "cell_type": "code",
   "execution_count": 382,
   "id": "33d83e47",
   "metadata": {},
   "outputs": [
    {
     "data": {
      "text/plain": [
       "<AxesSubplot:xlabel='total_busy_dashers'>"
      ]
     },
     "execution_count": 382,
     "metadata": {},
     "output_type": "execute_result"
    },
    {
     "data": {
      "image/png": "[encoded data removed]",
      "text/plain": [
       "<Figure size 720x432 with 1 Axes>"
      ]
     },
     "metadata": {
      "needs_background": "light"
     },
     "output_type": "display_data"
    }
   ],
   "source": [
    "sns.boxplot(df.total_busy_dashers)"
   ]
  },
  {
   "cell_type": "code",
   "execution_count": 383,
   "id": "7a928553",
   "metadata": {},
   "outputs": [
    {
     "data": {
      "text/plain": [
       "<AxesSubplot:xlabel='total_onshift_dashers'>"
      ]
     },
     "execution_count": 383,
     "metadata": {},
     "output_type": "execute_result"
    },
    {
     "data": {
      "image/png": "[encoded data removed]",
      "text/plain": [
       "<Figure size 720x432 with 1 Axes>"
      ]
     },
     "metadata": {
      "needs_background": "light"
     },
     "output_type": "display_data"
    }
   ],
   "source": [
    "sns.boxplot(df.total_onshift_dashers)"
   ]
  },
  {
   "cell_type": "code",
   "execution_count": 384,
   "id": "d7872ddc",
   "metadata": {},
   "outputs": [
    {
     "data": {
      "text/plain": [
       "<AxesSubplot:xlabel='estimated_store_to_consumer_driving_duration'>"
      ]
     },
     "execution_count": 384,
     "metadata": {},
     "output_type": "execute_result"
    },
    {
     "data": {
      "image/png": "[encoded data removed]",
      "text/plain": [
       "<Figure size 720x432 with 1 Axes>"
      ]
     },
     "metadata": {
      "needs_background": "light"
     },
     "output_type": "display_data"
    }
   ],
   "source": [
    "sns.boxplot(df.estimated_store_to_consumer_driving_duration)"
   ]
  },
  {
   "cell_type": "code",
   "execution_count": 385,
   "id": "33e31219",
   "metadata": {},
   "outputs": [
    {
     "data": {
      "text/html": [
       "<div>\n",
       "<style scoped>\n",
       "    .dataframe tbody tr th:only-of-type {\n",
       "        vertical-align: middle;\n",
       "    }\n",
       "\n",
       "    .dataframe tbody tr th {\n",
       "        vertical-align: top;\n",
       "    }\n",
       "\n",
       "    .dataframe thead th {\n",
       "        text-align: right;\n",
       "    }\n",
       "</style>\n",
       "<table border=\"1\" class=\"dataframe\">\n",
       "  <thead>\n",
       "    <tr style=\"text-align: right;\">\n",
       "      <th></th>\n",
       "      <th>market_id</th>\n",
       "      <th>created_at</th>\n",
       "      <th>actual_delivery_time</th>\n",
       "      <th>store_id</th>\n",
       "      <th>subtotal</th>\n",
       "      <th>total_onshift_dashers</th>\n",
       "      <th>total_busy_dashers</th>\n",
       "      <th>total_outstanding_orders</th>\n",
       "      <th>estimated_store_to_consumer_driving_duration</th>\n",
       "    </tr>\n",
       "  </thead>\n",
       "  <tbody>\n",
       "    <tr>\n",
       "      <th>1942</th>\n",
       "      <td>3.0</td>\n",
       "      <td>2015-01-25 03:05:25</td>\n",
       "      <td>2015-01-25 04:13:48</td>\n",
       "      <td>2223</td>\n",
       "      <td>9814</td>\n",
       "      <td>12.0</td>\n",
       "      <td>11.0</td>\n",
       "      <td>18.0</td>\n",
       "      <td>31.0</td>\n",
       "    </tr>\n",
       "    <tr>\n",
       "      <th>2599</th>\n",
       "      <td>1.0</td>\n",
       "      <td>2015-01-23 01:58:18</td>\n",
       "      <td>2015-01-23 02:28:11</td>\n",
       "      <td>6025</td>\n",
       "      <td>2650</td>\n",
       "      <td>46.0</td>\n",
       "      <td>46.0</td>\n",
       "      <td>49.0</td>\n",
       "      <td>33.0</td>\n",
       "    </tr>\n",
       "    <tr>\n",
       "      <th>3696</th>\n",
       "      <td>1.0</td>\n",
       "      <td>2015-02-03 21:46:41</td>\n",
       "      <td>2015-02-03 22:23:34</td>\n",
       "      <td>6025</td>\n",
       "      <td>1200</td>\n",
       "      <td>21.0</td>\n",
       "      <td>22.0</td>\n",
       "      <td>24.0</td>\n",
       "      <td>54.0</td>\n",
       "    </tr>\n",
       "    <tr>\n",
       "      <th>4078</th>\n",
       "      <td>4.0</td>\n",
       "      <td>2015-02-16 05:27:49</td>\n",
       "      <td>2015-02-16 05:43:15</td>\n",
       "      <td>1699</td>\n",
       "      <td>1850</td>\n",
       "      <td>14.0</td>\n",
       "      <td>11.0</td>\n",
       "      <td>14.0</td>\n",
       "      <td>56.0</td>\n",
       "    </tr>\n",
       "    <tr>\n",
       "      <th>4097</th>\n",
       "      <td>4.0</td>\n",
       "      <td>2015-01-27 21:24:52</td>\n",
       "      <td>2015-01-27 21:54:44</td>\n",
       "      <td>1699</td>\n",
       "      <td>1500</td>\n",
       "      <td>33.0</td>\n",
       "      <td>21.0</td>\n",
       "      <td>21.0</td>\n",
       "      <td>57.0</td>\n",
       "    </tr>\n",
       "    <tr>\n",
       "      <th>...</th>\n",
       "      <td>...</td>\n",
       "      <td>...</td>\n",
       "      <td>...</td>\n",
       "      <td>...</td>\n",
       "      <td>...</td>\n",
       "      <td>...</td>\n",
       "      <td>...</td>\n",
       "      <td>...</td>\n",
       "      <td>...</td>\n",
       "    </tr>\n",
       "    <tr>\n",
       "      <th>195048</th>\n",
       "      <td>1.0</td>\n",
       "      <td>2015-02-16 20:28:47</td>\n",
       "      <td>2015-02-16 20:54:31</td>\n",
       "      <td>3976</td>\n",
       "      <td>1095</td>\n",
       "      <td>24.0</td>\n",
       "      <td>23.0</td>\n",
       "      <td>33.0</td>\n",
       "      <td>33.0</td>\n",
       "    </tr>\n",
       "    <tr>\n",
       "      <th>195072</th>\n",
       "      <td>4.0</td>\n",
       "      <td>2015-02-10 20:37:59</td>\n",
       "      <td>2015-02-10 21:07:54</td>\n",
       "      <td>3976</td>\n",
       "      <td>1699</td>\n",
       "      <td>25.0</td>\n",
       "      <td>24.0</td>\n",
       "      <td>26.0</td>\n",
       "      <td>36.0</td>\n",
       "    </tr>\n",
       "    <tr>\n",
       "      <th>195315</th>\n",
       "      <td>2.0</td>\n",
       "      <td>2015-02-09 01:40:50</td>\n",
       "      <td>2015-02-09 02:19:25</td>\n",
       "      <td>5789</td>\n",
       "      <td>3795</td>\n",
       "      <td>115.0</td>\n",
       "      <td>75.0</td>\n",
       "      <td>127.0</td>\n",
       "      <td>51.0</td>\n",
       "    </tr>\n",
       "    <tr>\n",
       "      <th>196172</th>\n",
       "      <td>2.0</td>\n",
       "      <td>2015-02-10 20:41:59</td>\n",
       "      <td>2015-02-10 21:11:32</td>\n",
       "      <td>4862</td>\n",
       "      <td>896</td>\n",
       "      <td>58.0</td>\n",
       "      <td>50.0</td>\n",
       "      <td>65.0</td>\n",
       "      <td>56.0</td>\n",
       "    </tr>\n",
       "    <tr>\n",
       "      <th>197004</th>\n",
       "      <td>5.0</td>\n",
       "      <td>2015-02-08 20:59:00</td>\n",
       "      <td>2015-02-08 21:37:04</td>\n",
       "      <td>5030</td>\n",
       "      <td>3470</td>\n",
       "      <td>11.0</td>\n",
       "      <td>10.0</td>\n",
       "      <td>11.0</td>\n",
       "      <td>57.0</td>\n",
       "    </tr>\n",
       "  </tbody>\n",
       "</table>\n",
       "<p>289 rows × 9 columns</p>\n",
       "</div>"
      ],
      "text/plain": [
       "        market_id           created_at actual_delivery_time  store_id  \\\n",
       "1942          3.0  2015-01-25 03:05:25  2015-01-25 04:13:48      2223   \n",
       "2599          1.0  2015-01-23 01:58:18  2015-01-23 02:28:11      6025   \n",
       "3696          1.0  2015-02-03 21:46:41  2015-02-03 22:23:34      6025   \n",
       "4078          4.0  2015-02-16 05:27:49  2015-02-16 05:43:15      1699   \n",
       "4097          4.0  2015-01-27 21:24:52  2015-01-27 21:54:44      1699   \n",
       "...           ...                  ...                  ...       ...   \n",
       "195048        1.0  2015-02-16 20:28:47  2015-02-16 20:54:31      3976   \n",
       "195072        4.0  2015-02-10 20:37:59  2015-02-10 21:07:54      3976   \n",
       "195315        2.0  2015-02-09 01:40:50  2015-02-09 02:19:25      5789   \n",
       "196172        2.0  2015-02-10 20:41:59  2015-02-10 21:11:32      4862   \n",
       "197004        5.0  2015-02-08 20:59:00  2015-02-08 21:37:04      5030   \n",
       "\n",
       "        subtotal  total_onshift_dashers  total_busy_dashers  \\\n",
       "1942        9814                   12.0                11.0   \n",
       "2599        2650                   46.0                46.0   \n",
       "3696        1200                   21.0                22.0   \n",
       "4078        1850                   14.0                11.0   \n",
       "4097        1500                   33.0                21.0   \n",
       "...          ...                    ...                 ...   \n",
       "195048      1095                   24.0                23.0   \n",
       "195072      1699                   25.0                24.0   \n",
       "195315      3795                  115.0                75.0   \n",
       "196172       896                   58.0                50.0   \n",
       "197004      3470                   11.0                10.0   \n",
       "\n",
       "        total_outstanding_orders  estimated_store_to_consumer_driving_duration  \n",
       "1942                        18.0                                          31.0  \n",
       "2599                        49.0                                          33.0  \n",
       "3696                        24.0                                          54.0  \n",
       "4078                        14.0                                          56.0  \n",
       "4097                        21.0                                          57.0  \n",
       "...                          ...                                           ...  \n",
       "195048                      33.0                                          33.0  \n",
       "195072                      26.0                                          36.0  \n",
       "195315                     127.0                                          51.0  \n",
       "196172                      65.0                                          56.0  \n",
       "197004                      11.0                                          57.0  \n",
       "\n",
       "[289 rows x 9 columns]"
      ]
     },
     "execution_count": 385,
     "metadata": {},
     "output_type": "execute_result"
    }
   ],
   "source": [
    "df[df.estimated_store_to_consumer_driving_duration <60]"
   ]
  },
  {
   "cell_type": "markdown",
   "id": "b3921732",
   "metadata": {},
   "source": [
    "- Dropped estimated_store_to_consumer_driving_duration values less than 60 seconds"
   ]
  },
  {
   "cell_type": "code",
   "execution_count": 386,
   "id": "468dadac",
   "metadata": {},
   "outputs": [],
   "source": [
    "df = df[df.estimated_store_to_consumer_driving_duration >60]"
   ]
  },
  {
   "cell_type": "markdown",
   "id": "f32708f3",
   "metadata": {},
   "source": [
    "- Changed order created time and delivered time type as dateframe to analyze the data easily"
   ]
  },
  {
   "cell_type": "code",
   "execution_count": 387,
   "id": "7980e621",
   "metadata": {},
   "outputs": [],
   "source": [
    "df['created_at'] =  pd.to_datetime(df['created_at'])"
   ]
  },
  {
   "cell_type": "code",
   "execution_count": 388,
   "id": "ef9bf6ec",
   "metadata": {},
   "outputs": [],
   "source": [
    "df['actual_delivery_time'] =  pd.to_datetime(df['actual_delivery_time'])"
   ]
  },
  {
   "cell_type": "markdown",
   "id": "394a6432",
   "metadata": {},
   "source": [
    "- Created Target feature as a duration in seconds"
   ]
  },
  {
   "cell_type": "code",
   "execution_count": 389,
   "id": "0865f815",
   "metadata": {},
   "outputs": [],
   "source": [
    "df['duration'] = df.actual_delivery_time - df.created_at"
   ]
  },
  {
   "cell_type": "code",
   "execution_count": 390,
   "id": "4ed50321",
   "metadata": {},
   "outputs": [],
   "source": [
    "df['duration'] = df['duration'].dt.total_seconds()"
   ]
  },
  {
   "cell_type": "code",
   "execution_count": 391,
   "id": "d70e7917",
   "metadata": {
    "scrolled": false
   },
   "outputs": [
    {
     "data": {
      "text/plain": [
       "0         3779.0\n",
       "1         4024.0\n",
       "2         1781.0\n",
       "3         3075.0\n",
       "4         2390.0\n",
       "           ...  \n",
       "197423    3907.0\n",
       "197424    3383.0\n",
       "197425    3008.0\n",
       "197426    3907.0\n",
       "197427    2228.0\n",
       "Name: duration, Length: 176064, dtype: float64"
      ]
     },
     "execution_count": 391,
     "metadata": {},
     "output_type": "execute_result"
    }
   ],
   "source": [
    "df['duration']"
   ]
  },
  {
   "cell_type": "markdown",
   "id": "732c28fc",
   "metadata": {},
   "source": [
    "# Analyze Duration Values"
   ]
  },
  {
   "cell_type": "code",
   "execution_count": 392,
   "id": "73c140ff",
   "metadata": {},
   "outputs": [
    {
     "data": {
      "text/html": [
       "<div>\n",
       "<style scoped>\n",
       "    .dataframe tbody tr th:only-of-type {\n",
       "        vertical-align: middle;\n",
       "    }\n",
       "\n",
       "    .dataframe tbody tr th {\n",
       "        vertical-align: top;\n",
       "    }\n",
       "\n",
       "    .dataframe thead th {\n",
       "        text-align: right;\n",
       "    }\n",
       "</style>\n",
       "<table border=\"1\" class=\"dataframe\">\n",
       "  <thead>\n",
       "    <tr style=\"text-align: right;\">\n",
       "      <th></th>\n",
       "      <th>market_id</th>\n",
       "      <th>created_at</th>\n",
       "      <th>actual_delivery_time</th>\n",
       "      <th>store_id</th>\n",
       "      <th>subtotal</th>\n",
       "      <th>total_onshift_dashers</th>\n",
       "      <th>total_busy_dashers</th>\n",
       "      <th>total_outstanding_orders</th>\n",
       "      <th>estimated_store_to_consumer_driving_duration</th>\n",
       "      <th>duration</th>\n",
       "    </tr>\n",
       "  </thead>\n",
       "  <tbody>\n",
       "    <tr>\n",
       "      <th>2517</th>\n",
       "      <td>4.0</td>\n",
       "      <td>2015-01-29 20:44:13</td>\n",
       "      <td>2015-01-30 01:57:42</td>\n",
       "      <td>6045</td>\n",
       "      <td>779</td>\n",
       "      <td>77.0</td>\n",
       "      <td>72.0</td>\n",
       "      <td>109.0</td>\n",
       "      <td>649.0</td>\n",
       "      <td>18809.0</td>\n",
       "    </tr>\n",
       "    <tr>\n",
       "      <th>2921</th>\n",
       "      <td>2.0</td>\n",
       "      <td>2015-01-30 20:42:02</td>\n",
       "      <td>2015-01-30 23:41:42</td>\n",
       "      <td>1997</td>\n",
       "      <td>1299</td>\n",
       "      <td>49.0</td>\n",
       "      <td>35.0</td>\n",
       "      <td>45.0</td>\n",
       "      <td>372.0</td>\n",
       "      <td>10780.0</td>\n",
       "    </tr>\n",
       "    <tr>\n",
       "      <th>5567</th>\n",
       "      <td>3.0</td>\n",
       "      <td>2015-02-03 21:30:37</td>\n",
       "      <td>2015-02-04 01:07:53</td>\n",
       "      <td>4766</td>\n",
       "      <td>5034</td>\n",
       "      <td>25.0</td>\n",
       "      <td>24.0</td>\n",
       "      <td>25.0</td>\n",
       "      <td>260.0</td>\n",
       "      <td>13036.0</td>\n",
       "    </tr>\n",
       "    <tr>\n",
       "      <th>7188</th>\n",
       "      <td>4.0</td>\n",
       "      <td>2015-02-12 02:11:02</td>\n",
       "      <td>2015-02-12 05:18:56</td>\n",
       "      <td>3388</td>\n",
       "      <td>4195</td>\n",
       "      <td>104.0</td>\n",
       "      <td>104.0</td>\n",
       "      <td>172.0</td>\n",
       "      <td>446.0</td>\n",
       "      <td>11274.0</td>\n",
       "    </tr>\n",
       "    <tr>\n",
       "      <th>10579</th>\n",
       "      <td>5.0</td>\n",
       "      <td>2015-01-23 04:55:18</td>\n",
       "      <td>2015-01-23 07:56:26</td>\n",
       "      <td>410</td>\n",
       "      <td>2700</td>\n",
       "      <td>19.0</td>\n",
       "      <td>6.0</td>\n",
       "      <td>6.0</td>\n",
       "      <td>662.0</td>\n",
       "      <td>10868.0</td>\n",
       "    </tr>\n",
       "    <tr>\n",
       "      <th>...</th>\n",
       "      <td>...</td>\n",
       "      <td>...</td>\n",
       "      <td>...</td>\n",
       "      <td>...</td>\n",
       "      <td>...</td>\n",
       "      <td>...</td>\n",
       "      <td>...</td>\n",
       "      <td>...</td>\n",
       "      <td>...</td>\n",
       "      <td>...</td>\n",
       "    </tr>\n",
       "    <tr>\n",
       "      <th>193893</th>\n",
       "      <td>1.0</td>\n",
       "      <td>2015-02-13 17:02:00</td>\n",
       "      <td>2015-02-13 21:44:23</td>\n",
       "      <td>1339</td>\n",
       "      <td>1100</td>\n",
       "      <td>2.0</td>\n",
       "      <td>2.0</td>\n",
       "      <td>0.0</td>\n",
       "      <td>384.0</td>\n",
       "      <td>16943.0</td>\n",
       "    </tr>\n",
       "    <tr>\n",
       "      <th>193894</th>\n",
       "      <td>1.0</td>\n",
       "      <td>2015-02-07 19:21:38</td>\n",
       "      <td>2015-02-08 01:36:50</td>\n",
       "      <td>1339</td>\n",
       "      <td>1950</td>\n",
       "      <td>11.0</td>\n",
       "      <td>11.0</td>\n",
       "      <td>8.0</td>\n",
       "      <td>756.0</td>\n",
       "      <td>22512.0</td>\n",
       "    </tr>\n",
       "    <tr>\n",
       "      <th>194328</th>\n",
       "      <td>5.0</td>\n",
       "      <td>2015-02-02 21:47:17</td>\n",
       "      <td>2015-02-03 00:41:35</td>\n",
       "      <td>212</td>\n",
       "      <td>875</td>\n",
       "      <td>9.0</td>\n",
       "      <td>11.0</td>\n",
       "      <td>15.0</td>\n",
       "      <td>704.0</td>\n",
       "      <td>10458.0</td>\n",
       "    </tr>\n",
       "    <tr>\n",
       "      <th>194831</th>\n",
       "      <td>1.0</td>\n",
       "      <td>2015-02-02 02:32:55</td>\n",
       "      <td>2015-02-02 06:20:40</td>\n",
       "      <td>6340</td>\n",
       "      <td>8725</td>\n",
       "      <td>18.0</td>\n",
       "      <td>21.0</td>\n",
       "      <td>30.0</td>\n",
       "      <td>1218.0</td>\n",
       "      <td>13665.0</td>\n",
       "    </tr>\n",
       "    <tr>\n",
       "      <th>196925</th>\n",
       "      <td>1.0</td>\n",
       "      <td>2015-02-05 02:11:36</td>\n",
       "      <td>2015-02-05 05:04:44</td>\n",
       "      <td>5658</td>\n",
       "      <td>8025</td>\n",
       "      <td>24.0</td>\n",
       "      <td>24.0</td>\n",
       "      <td>23.0</td>\n",
       "      <td>1085.0</td>\n",
       "      <td>10388.0</td>\n",
       "    </tr>\n",
       "  </tbody>\n",
       "</table>\n",
       "<p>162 rows × 10 columns</p>\n",
       "</div>"
      ],
      "text/plain": [
       "        market_id          created_at actual_delivery_time  store_id  \\\n",
       "2517          4.0 2015-01-29 20:44:13  2015-01-30 01:57:42      6045   \n",
       "2921          2.0 2015-01-30 20:42:02  2015-01-30 23:41:42      1997   \n",
       "5567          3.0 2015-02-03 21:30:37  2015-02-04 01:07:53      4766   \n",
       "7188          4.0 2015-02-12 02:11:02  2015-02-12 05:18:56      3388   \n",
       "10579         5.0 2015-01-23 04:55:18  2015-01-23 07:56:26       410   \n",
       "...           ...                 ...                  ...       ...   \n",
       "193893        1.0 2015-02-13 17:02:00  2015-02-13 21:44:23      1339   \n",
       "193894        1.0 2015-02-07 19:21:38  2015-02-08 01:36:50      1339   \n",
       "194328        5.0 2015-02-02 21:47:17  2015-02-03 00:41:35       212   \n",
       "194831        1.0 2015-02-02 02:32:55  2015-02-02 06:20:40      6340   \n",
       "196925        1.0 2015-02-05 02:11:36  2015-02-05 05:04:44      5658   \n",
       "\n",
       "        subtotal  total_onshift_dashers  total_busy_dashers  \\\n",
       "2517         779                   77.0                72.0   \n",
       "2921        1299                   49.0                35.0   \n",
       "5567        5034                   25.0                24.0   \n",
       "7188        4195                  104.0               104.0   \n",
       "10579       2700                   19.0                 6.0   \n",
       "...          ...                    ...                 ...   \n",
       "193893      1100                    2.0                 2.0   \n",
       "193894      1950                   11.0                11.0   \n",
       "194328       875                    9.0                11.0   \n",
       "194831      8725                   18.0                21.0   \n",
       "196925      8025                   24.0                24.0   \n",
       "\n",
       "        total_outstanding_orders  \\\n",
       "2517                       109.0   \n",
       "2921                        45.0   \n",
       "5567                        25.0   \n",
       "7188                       172.0   \n",
       "10579                        6.0   \n",
       "...                          ...   \n",
       "193893                       0.0   \n",
       "193894                       8.0   \n",
       "194328                      15.0   \n",
       "194831                      30.0   \n",
       "196925                      23.0   \n",
       "\n",
       "        estimated_store_to_consumer_driving_duration  duration  \n",
       "2517                                           649.0   18809.0  \n",
       "2921                                           372.0   10780.0  \n",
       "5567                                           260.0   13036.0  \n",
       "7188                                           446.0   11274.0  \n",
       "10579                                          662.0   10868.0  \n",
       "...                                              ...       ...  \n",
       "193893                                         384.0   16943.0  \n",
       "193894                                         756.0   22512.0  \n",
       "194328                                         704.0   10458.0  \n",
       "194831                                        1218.0   13665.0  \n",
       "196925                                        1085.0   10388.0  \n",
       "\n",
       "[162 rows x 10 columns]"
      ]
     },
     "execution_count": 392,
     "metadata": {},
     "output_type": "execute_result"
    }
   ],
   "source": [
    "df[df.duration > 10000]"
   ]
  },
  {
   "cell_type": "code",
   "execution_count": 393,
   "id": "48213c64",
   "metadata": {},
   "outputs": [
    {
     "data": {
      "text/plain": [
       "<AxesSubplot:xlabel='duration', ylabel='Count'>"
      ]
     },
     "execution_count": 393,
     "metadata": {},
     "output_type": "execute_result"
    },
    {
     "data": {
      "image/png": "[encoded data removed]",
      "text/plain": [
       "<Figure size 720x432 with 1 Axes>"
      ]
     },
     "metadata": {
      "needs_background": "light"
     },
     "output_type": "display_data"
    }
   ],
   "source": [
    "sns.histplot(df.duration.sort_values())"
   ]
  },
  {
   "cell_type": "markdown",
   "id": "1998a3e4",
   "metadata": {},
   "source": [
    "- There are some outlier, and I will drop outliers"
   ]
  },
  {
   "cell_type": "code",
   "execution_count": 394,
   "id": "f82ce589",
   "metadata": {},
   "outputs": [],
   "source": [
    "df = df[df.duration < 6000]"
   ]
  },
  {
   "cell_type": "markdown",
   "id": "455751e7",
   "metadata": {},
   "source": [
    "# Checking each stores average delivery duration"
   ]
  },
  {
   "cell_type": "code",
   "execution_count": 395,
   "id": "0ba0fc49",
   "metadata": {},
   "outputs": [],
   "source": [
    "store_ave_time = df.groupby('store_id')['duration'].mean().sort_values()"
   ]
  },
  {
   "cell_type": "code",
   "execution_count": 396,
   "id": "ca0bf5e7",
   "metadata": {},
   "outputs": [
    {
     "data": {
      "text/plain": [
       "store_id\n",
       "2539     860.000000\n",
       "5102    1083.000000\n",
       "5825    1116.000000\n",
       "5480    1224.500000\n",
       "743     1281.666667\n",
       "           ...     \n",
       "2612    5816.000000\n",
       "3952    5819.000000\n",
       "242     5850.000000\n",
       "887     5859.000000\n",
       "5926    5929.000000\n",
       "Name: duration, Length: 5593, dtype: float64"
      ]
     },
     "execution_count": 396,
     "metadata": {},
     "output_type": "execute_result"
    }
   ],
   "source": [
    "store_ave_time"
   ]
  },
  {
   "cell_type": "code",
   "execution_count": 397,
   "id": "fb8ee0b0",
   "metadata": {
    "scrolled": true
   },
   "outputs": [
    {
     "data": {
      "text/plain": [
       "<AxesSubplot:xlabel='duration', ylabel='Count'>"
      ]
     },
     "execution_count": 397,
     "metadata": {},
     "output_type": "execute_result"
    },
    {
     "data": {
      "image/png": "[encoded data removed]",
      "text/plain": [
       "<Figure size 720x432 with 1 Axes>"
      ]
     },
     "metadata": {
      "needs_background": "light"
     },
     "output_type": "display_data"
    }
   ],
   "source": [
    "sns.histplot(store_ave_time)"
   ]
  },
  {
   "cell_type": "markdown",
   "id": "16a0c754",
   "metadata": {},
   "source": [
    "- Created new feature as a Store Speed according to average delivery time of each stores"
   ]
  },
  {
   "cell_type": "code",
   "execution_count": 398,
   "id": "3cc14837",
   "metadata": {},
   "outputs": [],
   "source": [
    "def store_speed(st_id):\n",
    "    \n",
    "    if df[df.store_id==st_id]['duration'].mean() <= 2000:\n",
    "        val = 'Fast'\n",
    "    elif df[df.store_id==st_id]['duration'].mean() <= 4000:\n",
    "        val = 'Normal'\n",
    "    else:\n",
    "        val = 'Slow'\n",
    "    return val"
   ]
  },
  {
   "cell_type": "code",
   "execution_count": 399,
   "id": "eedd1392",
   "metadata": {},
   "outputs": [],
   "source": [
    "df['Store_Speed'] = df['store_id'].apply(store_speed)"
   ]
  },
  {
   "cell_type": "markdown",
   "id": "f6905d23",
   "metadata": {},
   "source": [
    "- Created new feature for the order hours"
   ]
  },
  {
   "cell_type": "code",
   "execution_count": 400,
   "id": "54ce804f",
   "metadata": {},
   "outputs": [],
   "source": [
    "df['orders_hours'] = df.created_at.dt.hour"
   ]
  },
  {
   "cell_type": "code",
   "execution_count": 401,
   "id": "5f5537c3",
   "metadata": {},
   "outputs": [
    {
     "data": {
      "text/plain": [
       "0         22\n",
       "1         21\n",
       "2         20\n",
       "3         21\n",
       "4          2\n",
       "          ..\n",
       "197423     0\n",
       "197424     0\n",
       "197425     4\n",
       "197426    18\n",
       "197427    19\n",
       "Name: orders_hours, Length: 173429, dtype: int64"
      ]
     },
     "execution_count": 401,
     "metadata": {},
     "output_type": "execute_result"
    }
   ],
   "source": [
    "df['orders_hours']"
   ]
  },
  {
   "cell_type": "code",
   "execution_count": 402,
   "id": "f4b68727",
   "metadata": {},
   "outputs": [
    {
     "data": {
      "text/plain": [
       "<AxesSubplot:xlabel='orders_hours', ylabel='duration'>"
      ]
     },
     "execution_count": 402,
     "metadata": {},
     "output_type": "execute_result"
    },
    {
     "data": {
      "image/png": "[encoded data removed]",
      "text/plain": [
       "<Figure size 720x432 with 1 Axes>"
      ]
     },
     "metadata": {
      "needs_background": "light"
     },
     "output_type": "display_data"
    }
   ],
   "source": [
    "sns.scatterplot(x=df.orders_hours, y=df.duration)"
   ]
  },
  {
   "cell_type": "code",
   "execution_count": 403,
   "id": "2ded856a",
   "metadata": {
    "scrolled": true
   },
   "outputs": [
    {
     "data": {
      "text/plain": [
       "<AxesSubplot:xlabel='orders_hours', ylabel='total_outstanding_orders'>"
      ]
     },
     "execution_count": 403,
     "metadata": {},
     "output_type": "execute_result"
    },
    {
     "data": {
      "image/png": "[encoded data removed]",
      "text/plain": [
       "<Figure size 720x432 with 1 Axes>"
      ]
     },
     "metadata": {
      "needs_background": "light"
     },
     "output_type": "display_data"
    }
   ],
   "source": [
    "sns.scatterplot(x=df.orders_hours, y=df.total_outstanding_orders)"
   ]
  },
  {
   "cell_type": "code",
   "execution_count": 404,
   "id": "bd88e68a",
   "metadata": {},
   "outputs": [
    {
     "data": {
      "text/plain": [
       "83.13748095425825"
      ]
     },
     "execution_count": 404,
     "metadata": {},
     "output_type": "execute_result"
    }
   ],
   "source": [
    "df[(df.orders_hours >=1) & (df.orders_hours <5)].total_outstanding_orders.mean()"
   ]
  },
  {
   "cell_type": "code",
   "execution_count": 405,
   "id": "09d05ffc",
   "metadata": {},
   "outputs": [
    {
     "data": {
      "text/plain": [
       "61.67786858171822"
      ]
     },
     "execution_count": 405,
     "metadata": {},
     "output_type": "execute_result"
    }
   ],
   "source": [
    "df[(df.orders_hours >=1) & (df.orders_hours <5)].total_onshift_dashers.mean()"
   ]
  },
  {
   "cell_type": "code",
   "execution_count": 406,
   "id": "9ee59d5b",
   "metadata": {},
   "outputs": [
    {
     "data": {
      "text/plain": [
       "42.16516705467816"
      ]
     },
     "execution_count": 406,
     "metadata": {},
     "output_type": "execute_result"
    }
   ],
   "source": [
    "df[((df.orders_hours >=5) & (df.orders_hours <6)) | ((df.orders_hours >=19) & (df.orders_hours <21))].total_outstanding_orders.mean()"
   ]
  },
  {
   "cell_type": "code",
   "execution_count": 407,
   "id": "248fe16d",
   "metadata": {},
   "outputs": [
    {
     "data": {
      "text/plain": [
       "33.365380985339456"
      ]
     },
     "execution_count": 407,
     "metadata": {},
     "output_type": "execute_result"
    }
   ],
   "source": [
    "df[((df.orders_hours >=5) & (df.orders_hours <6)) | ((df.orders_hours >=19) & (df.orders_hours <21))].total_onshift_dashers.mean()"
   ]
  },
  {
   "cell_type": "code",
   "execution_count": 408,
   "id": "80340cfe",
   "metadata": {},
   "outputs": [
    {
     "data": {
      "text/plain": [
       "45.80445023611968"
      ]
     },
     "execution_count": 408,
     "metadata": {},
     "output_type": "execute_result"
    }
   ],
   "source": [
    "df.total_onshift_dashers.mean()"
   ]
  },
  {
   "cell_type": "code",
   "execution_count": 409,
   "id": "068d1370",
   "metadata": {
    "scrolled": true
   },
   "outputs": [
    {
     "data": {
      "text/plain": [
       "59.13977477815129"
      ]
     },
     "execution_count": 409,
     "metadata": {},
     "output_type": "execute_result"
    }
   ],
   "source": [
    "df.total_outstanding_orders.mean()"
   ]
  },
  {
   "cell_type": "markdown",
   "id": "b3224cd6",
   "metadata": {},
   "source": [
    "- Created a new feature for the time orders created"
   ]
  },
  {
   "cell_type": "code",
   "execution_count": 410,
   "id": "859e4a02",
   "metadata": {},
   "outputs": [],
   "source": [
    "def f(data):\n",
    "    if (data >20 ) or (data == 0):\n",
    "        val = 'Midnight'\n",
    "    elif (data >18) and (data < 21):\n",
    "        val = 'Night'\n",
    "    elif (data > 0) and (data < 6):\n",
    "        val = 'Morning'       \n",
    "    else:\n",
    "        val = 'Daytime'\n",
    "    return val\n"
   ]
  },
  {
   "cell_type": "code",
   "execution_count": 411,
   "id": "75c58f00",
   "metadata": {},
   "outputs": [],
   "source": [
    "df['Time_Category'] = df['orders_hours'].apply(f)"
   ]
  },
  {
   "cell_type": "code",
   "execution_count": 412,
   "id": "d8731637",
   "metadata": {},
   "outputs": [
    {
     "data": {
      "text/html": [
       "<div>\n",
       "<style scoped>\n",
       "    .dataframe tbody tr th:only-of-type {\n",
       "        vertical-align: middle;\n",
       "    }\n",
       "\n",
       "    .dataframe tbody tr th {\n",
       "        vertical-align: top;\n",
       "    }\n",
       "\n",
       "    .dataframe thead th {\n",
       "        text-align: right;\n",
       "    }\n",
       "</style>\n",
       "<table border=\"1\" class=\"dataframe\">\n",
       "  <thead>\n",
       "    <tr style=\"text-align: right;\">\n",
       "      <th></th>\n",
       "      <th>market_id</th>\n",
       "      <th>created_at</th>\n",
       "      <th>actual_delivery_time</th>\n",
       "      <th>store_id</th>\n",
       "      <th>subtotal</th>\n",
       "      <th>total_onshift_dashers</th>\n",
       "      <th>total_busy_dashers</th>\n",
       "      <th>total_outstanding_orders</th>\n",
       "      <th>estimated_store_to_consumer_driving_duration</th>\n",
       "      <th>duration</th>\n",
       "      <th>Store_Speed</th>\n",
       "      <th>orders_hours</th>\n",
       "      <th>Time_Category</th>\n",
       "    </tr>\n",
       "  </thead>\n",
       "  <tbody>\n",
       "    <tr>\n",
       "      <th>32996</th>\n",
       "      <td>2.0</td>\n",
       "      <td>2015-01-28 02:39:17</td>\n",
       "      <td>2015-01-28 03:33:10</td>\n",
       "      <td>3893</td>\n",
       "      <td>5909</td>\n",
       "      <td>88.0</td>\n",
       "      <td>56.0</td>\n",
       "      <td>92.0</td>\n",
       "      <td>679.0</td>\n",
       "      <td>3233.0</td>\n",
       "      <td>Normal</td>\n",
       "      <td>2</td>\n",
       "      <td>Morning</td>\n",
       "    </tr>\n",
       "    <tr>\n",
       "      <th>142241</th>\n",
       "      <td>2.0</td>\n",
       "      <td>2015-02-11 17:32:32</td>\n",
       "      <td>2015-02-11 18:03:24</td>\n",
       "      <td>772</td>\n",
       "      <td>1350</td>\n",
       "      <td>13.0</td>\n",
       "      <td>13.0</td>\n",
       "      <td>16.0</td>\n",
       "      <td>643.0</td>\n",
       "      <td>1852.0</td>\n",
       "      <td>Normal</td>\n",
       "      <td>17</td>\n",
       "      <td>Daytime</td>\n",
       "    </tr>\n",
       "    <tr>\n",
       "      <th>24030</th>\n",
       "      <td>2.0</td>\n",
       "      <td>2015-02-11 04:47:10</td>\n",
       "      <td>2015-02-11 05:09:42</td>\n",
       "      <td>1869</td>\n",
       "      <td>995</td>\n",
       "      <td>45.0</td>\n",
       "      <td>41.0</td>\n",
       "      <td>41.0</td>\n",
       "      <td>637.0</td>\n",
       "      <td>1352.0</td>\n",
       "      <td>Normal</td>\n",
       "      <td>4</td>\n",
       "      <td>Morning</td>\n",
       "    </tr>\n",
       "    <tr>\n",
       "      <th>81563</th>\n",
       "      <td>1.0</td>\n",
       "      <td>2015-02-09 01:52:54</td>\n",
       "      <td>2015-02-09 02:32:14</td>\n",
       "      <td>2025</td>\n",
       "      <td>1363</td>\n",
       "      <td>25.0</td>\n",
       "      <td>21.0</td>\n",
       "      <td>33.0</td>\n",
       "      <td>202.0</td>\n",
       "      <td>2360.0</td>\n",
       "      <td>Normal</td>\n",
       "      <td>1</td>\n",
       "      <td>Morning</td>\n",
       "    </tr>\n",
       "  </tbody>\n",
       "</table>\n",
       "</div>"
      ],
      "text/plain": [
       "        market_id          created_at actual_delivery_time  store_id  \\\n",
       "32996         2.0 2015-01-28 02:39:17  2015-01-28 03:33:10      3893   \n",
       "142241        2.0 2015-02-11 17:32:32  2015-02-11 18:03:24       772   \n",
       "24030         2.0 2015-02-11 04:47:10  2015-02-11 05:09:42      1869   \n",
       "81563         1.0 2015-02-09 01:52:54  2015-02-09 02:32:14      2025   \n",
       "\n",
       "        subtotal  total_onshift_dashers  total_busy_dashers  \\\n",
       "32996       5909                   88.0                56.0   \n",
       "142241      1350                   13.0                13.0   \n",
       "24030        995                   45.0                41.0   \n",
       "81563       1363                   25.0                21.0   \n",
       "\n",
       "        total_outstanding_orders  \\\n",
       "32996                       92.0   \n",
       "142241                      16.0   \n",
       "24030                       41.0   \n",
       "81563                       33.0   \n",
       "\n",
       "        estimated_store_to_consumer_driving_duration  duration Store_Speed  \\\n",
       "32996                                          679.0    3233.0      Normal   \n",
       "142241                                         643.0    1852.0      Normal   \n",
       "24030                                          637.0    1352.0      Normal   \n",
       "81563                                          202.0    2360.0      Normal   \n",
       "\n",
       "        orders_hours Time_Category  \n",
       "32996              2       Morning  \n",
       "142241            17       Daytime  \n",
       "24030              4       Morning  \n",
       "81563              1       Morning  "
      ]
     },
     "execution_count": 412,
     "metadata": {},
     "output_type": "execute_result"
    }
   ],
   "source": [
    "df.sample(4)"
   ]
  },
  {
   "cell_type": "code",
   "execution_count": 413,
   "id": "bdac922e",
   "metadata": {
    "scrolled": true
   },
   "outputs": [
    {
     "data": {
      "text/plain": [
       "<AxesSubplot:xlabel='orders_hours', ylabel='Time_Category'>"
      ]
     },
     "execution_count": 413,
     "metadata": {},
     "output_type": "execute_result"
    },
    {
     "data": {
      "image/png": "[encoded data removed]",
      "text/plain": [
       "<Figure size 720x432 with 1 Axes>"
      ]
     },
     "metadata": {
      "needs_background": "light"
     },
     "output_type": "display_data"
    }
   ],
   "source": [
    "sns.scatterplot(x=df.orders_hours, y=df.Time_Category)"
   ]
  },
  {
   "cell_type": "markdown",
   "id": "73bd9adb",
   "metadata": {},
   "source": [
    "- Created new feature as an unassigned_order, difference between total_outstanding_orders and total_onshift_dashers"
   ]
  },
  {
   "cell_type": "code",
   "execution_count": 414,
   "id": "599c30b0",
   "metadata": {},
   "outputs": [],
   "source": [
    "df['unassigned_orders'] = df.total_outstanding_orders - df.total_onshift_dashers"
   ]
  },
  {
   "cell_type": "code",
   "execution_count": 415,
   "id": "0f221231",
   "metadata": {},
   "outputs": [],
   "source": [
    "df['market_id'] = df['market_id'].astype(object)"
   ]
  },
  {
   "cell_type": "code",
   "execution_count": 416,
   "id": "5821f464",
   "metadata": {},
   "outputs": [],
   "source": [
    "df['orders_hours'] = df['orders_hours'].astype(object)"
   ]
  },
  {
   "cell_type": "code",
   "execution_count": 417,
   "id": "2e0c77cd",
   "metadata": {},
   "outputs": [
    {
     "name": "stdout",
     "output_type": "stream",
     "text": [
      "<class 'pandas.core.frame.DataFrame'>\n",
      "Int64Index: 173429 entries, 0 to 197427\n",
      "Data columns (total 14 columns):\n",
      " #   Column                                        Non-Null Count   Dtype         \n",
      "---  ------                                        --------------   -----         \n",
      " 0   market_id                                     173429 non-null  object        \n",
      " 1   created_at                                    173429 non-null  datetime64[ns]\n",
      " 2   actual_delivery_time                          173429 non-null  datetime64[ns]\n",
      " 3   store_id                                      173429 non-null  int64         \n",
      " 4   subtotal                                      173429 non-null  int64         \n",
      " 5   total_onshift_dashers                         173429 non-null  float64       \n",
      " 6   total_busy_dashers                            173429 non-null  float64       \n",
      " 7   total_outstanding_orders                      173429 non-null  float64       \n",
      " 8   estimated_store_to_consumer_driving_duration  173429 non-null  float64       \n",
      " 9   duration                                      173429 non-null  float64       \n",
      " 10  Store_Speed                                   173429 non-null  object        \n",
      " 11  orders_hours                                  173429 non-null  object        \n",
      " 12  Time_Category                                 173429 non-null  object        \n",
      " 13  unassigned_orders                             173429 non-null  float64       \n",
      "dtypes: datetime64[ns](2), float64(6), int64(2), object(4)\n",
      "memory usage: 19.8+ MB\n"
     ]
    }
   ],
   "source": [
    "df.info()"
   ]
  },
  {
   "cell_type": "code",
   "execution_count": 418,
   "id": "f80c1221",
   "metadata": {
    "scrolled": true
   },
   "outputs": [
    {
     "data": {
      "text/plain": [
       "<AxesSubplot:>"
      ]
     },
     "execution_count": 418,
     "metadata": {},
     "output_type": "execute_result"
    },
    {
     "data": {
      "image/png": "[encoded data removed]",
      "text/plain": [
       "<Figure size 720x432 with 2 Axes>"
      ]
     },
     "metadata": {
      "needs_background": "light"
     },
     "output_type": "display_data"
    }
   ],
   "source": [
    "sns.heatmap(df.corr(), annot = True )"
   ]
  },
  {
   "cell_type": "code",
   "execution_count": 310,
   "id": "0b88b0b7",
   "metadata": {},
   "outputs": [],
   "source": [
    "df.drop(['created_at','actual_delivery_time', 'total_outstanding_orders'], inplace=True, axis = 1)"
   ]
  },
  {
   "cell_type": "code",
   "execution_count": 311,
   "id": "f298cb6b",
   "metadata": {},
   "outputs": [],
   "source": [
    "df = pd.get_dummies(df)"
   ]
  },
  {
   "cell_type": "code",
   "execution_count": 312,
   "id": "aca5aff2",
   "metadata": {},
   "outputs": [
    {
     "data": {
      "text/html": [
       "<div>\n",
       "<style scoped>\n",
       "    .dataframe tbody tr th:only-of-type {\n",
       "        vertical-align: middle;\n",
       "    }\n",
       "\n",
       "    .dataframe tbody tr th {\n",
       "        vertical-align: top;\n",
       "    }\n",
       "\n",
       "    .dataframe thead th {\n",
       "        text-align: right;\n",
       "    }\n",
       "</style>\n",
       "<table border=\"1\" class=\"dataframe\">\n",
       "  <thead>\n",
       "    <tr style=\"text-align: right;\">\n",
       "      <th></th>\n",
       "      <th>store_id</th>\n",
       "      <th>subtotal</th>\n",
       "      <th>total_onshift_dashers</th>\n",
       "      <th>total_busy_dashers</th>\n",
       "      <th>estimated_store_to_consumer_driving_duration</th>\n",
       "      <th>duration</th>\n",
       "      <th>unassigned_orders</th>\n",
       "      <th>market_id_1.0</th>\n",
       "      <th>market_id_2.0</th>\n",
       "      <th>market_id_3.0</th>\n",
       "      <th>market_id_4.0</th>\n",
       "      <th>market_id_5.0</th>\n",
       "      <th>market_id_6.0</th>\n",
       "      <th>Store_Speed_Fast</th>\n",
       "      <th>Store_Speed_Normal</th>\n",
       "      <th>Store_Speed_Slow</th>\n",
       "      <th>orders_hours_0</th>\n",
       "      <th>orders_hours_1</th>\n",
       "      <th>orders_hours_2</th>\n",
       "      <th>orders_hours_3</th>\n",
       "      <th>orders_hours_4</th>\n",
       "      <th>orders_hours_5</th>\n",
       "      <th>orders_hours_6</th>\n",
       "      <th>orders_hours_7</th>\n",
       "      <th>orders_hours_14</th>\n",
       "      <th>orders_hours_15</th>\n",
       "      <th>orders_hours_16</th>\n",
       "      <th>orders_hours_17</th>\n",
       "      <th>orders_hours_18</th>\n",
       "      <th>orders_hours_19</th>\n",
       "      <th>orders_hours_20</th>\n",
       "      <th>orders_hours_21</th>\n",
       "      <th>orders_hours_22</th>\n",
       "      <th>orders_hours_23</th>\n",
       "      <th>Time_Category_Daytime</th>\n",
       "      <th>Time_Category_Midnight</th>\n",
       "      <th>Time_Category_Morning</th>\n",
       "      <th>Time_Category_Night</th>\n",
       "    </tr>\n",
       "  </thead>\n",
       "  <tbody>\n",
       "    <tr>\n",
       "      <th>0</th>\n",
       "      <td>1845</td>\n",
       "      <td>3441</td>\n",
       "      <td>33.0</td>\n",
       "      <td>14.0</td>\n",
       "      <td>861.0</td>\n",
       "      <td>3779.0</td>\n",
       "      <td>-12.0</td>\n",
       "      <td>1</td>\n",
       "      <td>0</td>\n",
       "      <td>0</td>\n",
       "      <td>0</td>\n",
       "      <td>0</td>\n",
       "      <td>0</td>\n",
       "      <td>0</td>\n",
       "      <td>1</td>\n",
       "      <td>0</td>\n",
       "      <td>0</td>\n",
       "      <td>0</td>\n",
       "      <td>0</td>\n",
       "      <td>0</td>\n",
       "      <td>0</td>\n",
       "      <td>0</td>\n",
       "      <td>0</td>\n",
       "      <td>0</td>\n",
       "      <td>0</td>\n",
       "      <td>0</td>\n",
       "      <td>0</td>\n",
       "      <td>0</td>\n",
       "      <td>0</td>\n",
       "      <td>0</td>\n",
       "      <td>0</td>\n",
       "      <td>0</td>\n",
       "      <td>1</td>\n",
       "      <td>0</td>\n",
       "      <td>0</td>\n",
       "      <td>1</td>\n",
       "      <td>0</td>\n",
       "      <td>0</td>\n",
       "    </tr>\n",
       "    <tr>\n",
       "      <th>1</th>\n",
       "      <td>5477</td>\n",
       "      <td>1900</td>\n",
       "      <td>1.0</td>\n",
       "      <td>2.0</td>\n",
       "      <td>690.0</td>\n",
       "      <td>4024.0</td>\n",
       "      <td>1.0</td>\n",
       "      <td>0</td>\n",
       "      <td>1</td>\n",
       "      <td>0</td>\n",
       "      <td>0</td>\n",
       "      <td>0</td>\n",
       "      <td>0</td>\n",
       "      <td>0</td>\n",
       "      <td>1</td>\n",
       "      <td>0</td>\n",
       "      <td>0</td>\n",
       "      <td>0</td>\n",
       "      <td>0</td>\n",
       "      <td>0</td>\n",
       "      <td>0</td>\n",
       "      <td>0</td>\n",
       "      <td>0</td>\n",
       "      <td>0</td>\n",
       "      <td>0</td>\n",
       "      <td>0</td>\n",
       "      <td>0</td>\n",
       "      <td>0</td>\n",
       "      <td>0</td>\n",
       "      <td>0</td>\n",
       "      <td>0</td>\n",
       "      <td>1</td>\n",
       "      <td>0</td>\n",
       "      <td>0</td>\n",
       "      <td>0</td>\n",
       "      <td>1</td>\n",
       "      <td>0</td>\n",
       "      <td>0</td>\n",
       "    </tr>\n",
       "    <tr>\n",
       "      <th>2</th>\n",
       "      <td>5477</td>\n",
       "      <td>1900</td>\n",
       "      <td>1.0</td>\n",
       "      <td>0.0</td>\n",
       "      <td>690.0</td>\n",
       "      <td>1781.0</td>\n",
       "      <td>-1.0</td>\n",
       "      <td>0</td>\n",
       "      <td>0</td>\n",
       "      <td>1</td>\n",
       "      <td>0</td>\n",
       "      <td>0</td>\n",
       "      <td>0</td>\n",
       "      <td>0</td>\n",
       "      <td>1</td>\n",
       "      <td>0</td>\n",
       "      <td>0</td>\n",
       "      <td>0</td>\n",
       "      <td>0</td>\n",
       "      <td>0</td>\n",
       "      <td>0</td>\n",
       "      <td>0</td>\n",
       "      <td>0</td>\n",
       "      <td>0</td>\n",
       "      <td>0</td>\n",
       "      <td>0</td>\n",
       "      <td>0</td>\n",
       "      <td>0</td>\n",
       "      <td>0</td>\n",
       "      <td>0</td>\n",
       "      <td>1</td>\n",
       "      <td>0</td>\n",
       "      <td>0</td>\n",
       "      <td>0</td>\n",
       "      <td>0</td>\n",
       "      <td>0</td>\n",
       "      <td>0</td>\n",
       "      <td>1</td>\n",
       "    </tr>\n",
       "    <tr>\n",
       "      <th>3</th>\n",
       "      <td>5477</td>\n",
       "      <td>6900</td>\n",
       "      <td>1.0</td>\n",
       "      <td>1.0</td>\n",
       "      <td>289.0</td>\n",
       "      <td>3075.0</td>\n",
       "      <td>1.0</td>\n",
       "      <td>0</td>\n",
       "      <td>0</td>\n",
       "      <td>1</td>\n",
       "      <td>0</td>\n",
       "      <td>0</td>\n",
       "      <td>0</td>\n",
       "      <td>0</td>\n",
       "      <td>1</td>\n",
       "      <td>0</td>\n",
       "      <td>0</td>\n",
       "      <td>0</td>\n",
       "      <td>0</td>\n",
       "      <td>0</td>\n",
       "      <td>0</td>\n",
       "      <td>0</td>\n",
       "      <td>0</td>\n",
       "      <td>0</td>\n",
       "      <td>0</td>\n",
       "      <td>0</td>\n",
       "      <td>0</td>\n",
       "      <td>0</td>\n",
       "      <td>0</td>\n",
       "      <td>0</td>\n",
       "      <td>0</td>\n",
       "      <td>1</td>\n",
       "      <td>0</td>\n",
       "      <td>0</td>\n",
       "      <td>0</td>\n",
       "      <td>1</td>\n",
       "      <td>0</td>\n",
       "      <td>0</td>\n",
       "    </tr>\n",
       "    <tr>\n",
       "      <th>4</th>\n",
       "      <td>5477</td>\n",
       "      <td>3900</td>\n",
       "      <td>6.0</td>\n",
       "      <td>6.0</td>\n",
       "      <td>650.0</td>\n",
       "      <td>2390.0</td>\n",
       "      <td>3.0</td>\n",
       "      <td>0</td>\n",
       "      <td>0</td>\n",
       "      <td>1</td>\n",
       "      <td>0</td>\n",
       "      <td>0</td>\n",
       "      <td>0</td>\n",
       "      <td>0</td>\n",
       "      <td>1</td>\n",
       "      <td>0</td>\n",
       "      <td>0</td>\n",
       "      <td>0</td>\n",
       "      <td>1</td>\n",
       "      <td>0</td>\n",
       "      <td>0</td>\n",
       "      <td>0</td>\n",
       "      <td>0</td>\n",
       "      <td>0</td>\n",
       "      <td>0</td>\n",
       "      <td>0</td>\n",
       "      <td>0</td>\n",
       "      <td>0</td>\n",
       "      <td>0</td>\n",
       "      <td>0</td>\n",
       "      <td>0</td>\n",
       "      <td>0</td>\n",
       "      <td>0</td>\n",
       "      <td>0</td>\n",
       "      <td>0</td>\n",
       "      <td>0</td>\n",
       "      <td>1</td>\n",
       "      <td>0</td>\n",
       "    </tr>\n",
       "  </tbody>\n",
       "</table>\n",
       "</div>"
      ],
      "text/plain": [
       "   store_id  subtotal  total_onshift_dashers  total_busy_dashers  \\\n",
       "0      1845      3441                   33.0                14.0   \n",
       "1      5477      1900                    1.0                 2.0   \n",
       "2      5477      1900                    1.0                 0.0   \n",
       "3      5477      6900                    1.0                 1.0   \n",
       "4      5477      3900                    6.0                 6.0   \n",
       "\n",
       "   estimated_store_to_consumer_driving_duration  duration  unassigned_orders  \\\n",
       "0                                         861.0    3779.0              -12.0   \n",
       "1                                         690.0    4024.0                1.0   \n",
       "2                                         690.0    1781.0               -1.0   \n",
       "3                                         289.0    3075.0                1.0   \n",
       "4                                         650.0    2390.0                3.0   \n",
       "\n",
       "   market_id_1.0  market_id_2.0  market_id_3.0  market_id_4.0  market_id_5.0  \\\n",
       "0              1              0              0              0              0   \n",
       "1              0              1              0              0              0   \n",
       "2              0              0              1              0              0   \n",
       "3              0              0              1              0              0   \n",
       "4              0              0              1              0              0   \n",
       "\n",
       "   market_id_6.0  Store_Speed_Fast  Store_Speed_Normal  Store_Speed_Slow  \\\n",
       "0              0                 0                   1                 0   \n",
       "1              0                 0                   1                 0   \n",
       "2              0                 0                   1                 0   \n",
       "3              0                 0                   1                 0   \n",
       "4              0                 0                   1                 0   \n",
       "\n",
       "   orders_hours_0  orders_hours_1  orders_hours_2  orders_hours_3  \\\n",
       "0               0               0               0               0   \n",
       "1               0               0               0               0   \n",
       "2               0               0               0               0   \n",
       "3               0               0               0               0   \n",
       "4               0               0               1               0   \n",
       "\n",
       "   orders_hours_4  orders_hours_5  orders_hours_6  orders_hours_7  \\\n",
       "0               0               0               0               0   \n",
       "1               0               0               0               0   \n",
       "2               0               0               0               0   \n",
       "3               0               0               0               0   \n",
       "4               0               0               0               0   \n",
       "\n",
       "   orders_hours_14  orders_hours_15  orders_hours_16  orders_hours_17  \\\n",
       "0                0                0                0                0   \n",
       "1                0                0                0                0   \n",
       "2                0                0                0                0   \n",
       "3                0                0                0                0   \n",
       "4                0                0                0                0   \n",
       "\n",
       "   orders_hours_18  orders_hours_19  orders_hours_20  orders_hours_21  \\\n",
       "0                0                0                0                0   \n",
       "1                0                0                0                1   \n",
       "2                0                0                1                0   \n",
       "3                0                0                0                1   \n",
       "4                0                0                0                0   \n",
       "\n",
       "   orders_hours_22  orders_hours_23  Time_Category_Daytime  \\\n",
       "0                1                0                      0   \n",
       "1                0                0                      0   \n",
       "2                0                0                      0   \n",
       "3                0                0                      0   \n",
       "4                0                0                      0   \n",
       "\n",
       "   Time_Category_Midnight  Time_Category_Morning  Time_Category_Night  \n",
       "0                       1                      0                    0  \n",
       "1                       1                      0                    0  \n",
       "2                       0                      0                    1  \n",
       "3                       1                      0                    0  \n",
       "4                       0                      1                    0  "
      ]
     },
     "execution_count": 312,
     "metadata": {},
     "output_type": "execute_result"
    }
   ],
   "source": [
    "df.head()"
   ]
  },
  {
   "cell_type": "code",
   "execution_count": 313,
   "id": "c2f24c8e",
   "metadata": {},
   "outputs": [],
   "source": [
    "X = df.drop('duration', axis = 1)\n",
    "y = df.duration"
   ]
  },
  {
   "cell_type": "code",
   "execution_count": null,
   "id": "ec7cc138",
   "metadata": {},
   "outputs": [],
   "source": []
  },
  {
   "cell_type": "code",
   "execution_count": 314,
   "id": "54c130c1",
   "metadata": {},
   "outputs": [],
   "source": [
    "from sklearn.model_selection import train_test_split\n",
    "X_train, X_test, y_train, y_test = train_test_split(X, y, test_size=0.1, random_state=101)"
   ]
  },
  {
   "cell_type": "code",
   "execution_count": 315,
   "id": "a8c763c2",
   "metadata": {},
   "outputs": [],
   "source": [
    "from sklearn.preprocessing import StandardScaler, MinMaxScaler, RobustScaler\n",
    "\n",
    "scaler = MinMaxScaler()"
   ]
  },
  {
   "cell_type": "code",
   "execution_count": 316,
   "id": "6f3a7d19",
   "metadata": {},
   "outputs": [
    {
     "data": {
      "text/plain": [
       "MinMaxScaler()"
      ]
     },
     "execution_count": 316,
     "metadata": {},
     "output_type": "execute_result"
    }
   ],
   "source": [
    "scaler.fit(X_train)"
   ]
  },
  {
   "cell_type": "code",
   "execution_count": 317,
   "id": "b386aa0e",
   "metadata": {},
   "outputs": [
    {
     "data": {
      "text/plain": [
       "array([[0.91425709, 0.12817164, 0.68571429, ..., 0.        , 1.        ,\n",
       "        0.        ],\n",
       "       [0.04866877, 0.11044776, 0.21714286, ..., 0.        , 1.        ,\n",
       "        0.        ],\n",
       "       [0.59390209, 0.14985075, 0.04      , ..., 0.        , 0.        ,\n",
       "        0.        ],\n",
       "       ...,\n",
       "       [0.40352133, 0.09664179, 0.05142857, ..., 0.        , 0.        ,\n",
       "        0.        ],\n",
       "       [0.13154881, 0.1511194 , 0.46857143, ..., 0.        , 1.        ,\n",
       "        0.        ],\n",
       "       [0.87732608, 0.13246269, 0.09714286, ..., 0.        , 0.        ,\n",
       "        0.        ]])"
      ]
     },
     "execution_count": 317,
     "metadata": {},
     "output_type": "execute_result"
    }
   ],
   "source": [
    "X_train_scaled = scaler.transform(X_train)\n",
    "X_train_scaled"
   ]
  },
  {
   "cell_type": "code",
   "execution_count": 318,
   "id": "933371db",
   "metadata": {},
   "outputs": [
    {
     "data": {
      "text/plain": [
       "array([[0.54566275, 0.24608209, 0.41142857, ..., 0.        , 1.        ,\n",
       "        0.        ],\n",
       "       [0.79573433, 0.09496269, 0.26857143, ..., 0.        , 1.        ,\n",
       "        0.        ],\n",
       "       [0.91883768, 0.10970149, 0.80571429, ..., 0.        , 1.        ,\n",
       "        0.        ],\n",
       "       ...,\n",
       "       [0.85800172, 0.10037313, 0.10857143, ..., 0.        , 1.        ,\n",
       "        0.        ],\n",
       "       [0.05525336, 0.09048507, 0.11428571, ..., 1.        , 0.        ,\n",
       "        0.        ],\n",
       "       [0.19667907, 0.09794776, 0.36571429, ..., 0.        , 0.        ,\n",
       "        1.        ]])"
      ]
     },
     "execution_count": 318,
     "metadata": {},
     "output_type": "execute_result"
    }
   ],
   "source": [
    "X_test_scaled = scaler.transform(X_test)\n",
    "X_test_scaled"
   ]
  },
  {
   "cell_type": "code",
   "execution_count": 319,
   "id": "81113cc8",
   "metadata": {},
   "outputs": [],
   "source": [
    "from sklearn.linear_model import LinearRegression\n",
    "\n",
    "lm = LinearRegression()"
   ]
  },
  {
   "cell_type": "code",
   "execution_count": 320,
   "id": "c5920db3",
   "metadata": {},
   "outputs": [
    {
     "data": {
      "text/plain": [
       "LinearRegression()"
      ]
     },
     "execution_count": 320,
     "metadata": {},
     "output_type": "execute_result"
    }
   ],
   "source": [
    "lm.fit(X_train_scaled, y_train)"
   ]
  },
  {
   "cell_type": "code",
   "execution_count": 321,
   "id": "97e88e77",
   "metadata": {},
   "outputs": [],
   "source": [
    "y_pred = lm.predict(X_test_scaled)\n",
    "y_train_pred = lm.predict(X_train_scaled)"
   ]
  },
  {
   "cell_type": "code",
   "execution_count": 322,
   "id": "f9e5d301",
   "metadata": {},
   "outputs": [],
   "source": [
    "from sklearn.metrics import mean_absolute_error, mean_squared_error, r2_score\n",
    "\n",
    "def train_val(y_train, y_train_pred, y_test, y_pred, i):\n",
    "    \n",
    "    scores = {\n",
    "        \n",
    "    i+\"_train\": {\n",
    "    \"R2\" : r2_score(y_train, y_train_pred),\n",
    "    \"mae\" : mean_absolute_error(y_train, y_train_pred),\n",
    "    \"mse\" : mean_squared_error(y_train, y_train_pred),                          \n",
    "    \"rmse\" : np.sqrt(mean_squared_error(y_train, y_train_pred))\n",
    "                },\n",
    "    \n",
    "    i+\"_test\": {\n",
    "    \"R2\" : r2_score(y_test, y_pred),\n",
    "    \"mae\" : mean_absolute_error(y_test, y_pred),\n",
    "    \"mse\" : mean_squared_error(y_test, y_pred),\n",
    "    \"rmse\" : np.sqrt(mean_squared_error(y_test, y_pred))\n",
    "               }\n",
    "        \n",
    "            }\n",
    "    return pd.DataFrame(scores)"
   ]
  },
  {
   "cell_type": "code",
   "execution_count": 323,
   "id": "acb8f4fe",
   "metadata": {},
   "outputs": [
    {
     "data": {
      "text/html": [
       "<div>\n",
       "<style scoped>\n",
       "    .dataframe tbody tr th:only-of-type {\n",
       "        vertical-align: middle;\n",
       "    }\n",
       "\n",
       "    .dataframe tbody tr th {\n",
       "        vertical-align: top;\n",
       "    }\n",
       "\n",
       "    .dataframe thead th {\n",
       "        text-align: right;\n",
       "    }\n",
       "</style>\n",
       "<table border=\"1\" class=\"dataframe\">\n",
       "  <thead>\n",
       "    <tr style=\"text-align: right;\">\n",
       "      <th></th>\n",
       "      <th>linear_train</th>\n",
       "      <th>linear_test</th>\n",
       "    </tr>\n",
       "  </thead>\n",
       "  <tbody>\n",
       "    <tr>\n",
       "      <th>R2</th>\n",
       "      <td>0.301212</td>\n",
       "      <td>0.297431</td>\n",
       "    </tr>\n",
       "    <tr>\n",
       "      <th>mae</th>\n",
       "      <td>616.782989</td>\n",
       "      <td>625.288135</td>\n",
       "    </tr>\n",
       "    <tr>\n",
       "      <th>mse</th>\n",
       "      <td>625214.074978</td>\n",
       "      <td>645857.474629</td>\n",
       "    </tr>\n",
       "    <tr>\n",
       "      <th>rmse</th>\n",
       "      <td>790.704796</td>\n",
       "      <td>803.652583</td>\n",
       "    </tr>\n",
       "  </tbody>\n",
       "</table>\n",
       "</div>"
      ],
      "text/plain": [
       "       linear_train    linear_test\n",
       "R2         0.301212       0.297431\n",
       "mae      616.782989     625.288135\n",
       "mse   625214.074978  645857.474629\n",
       "rmse     790.704796     803.652583"
      ]
     },
     "execution_count": 323,
     "metadata": {},
     "output_type": "execute_result"
    }
   ],
   "source": [
    "ls =train_val(y_train, y_train_pred, y_test, y_pred, \"linear\")\n",
    "ls"
   ]
  },
  {
   "cell_type": "code",
   "execution_count": 324,
   "id": "aff933d7",
   "metadata": {},
   "outputs": [
    {
     "data": {
      "text/plain": [
       "array([-1.25182822e+01,  2.46491823e+03, -4.71907198e+02, -8.01345270e+02,\n",
       "        1.79476026e+03,  3.47882935e+03,  8.24975285e+14,  8.24975285e+14,\n",
       "        8.24975285e+14,  8.24975285e+14,  8.24975285e+14,  8.24975285e+14,\n",
       "        9.20581940e+13,  9.20581940e+13,  9.20581940e+13, -3.76707458e+15,\n",
       "        2.41405786e+15,  2.41405786e+15,  2.41405786e+15,  2.41405786e+15,\n",
       "        2.41405786e+15, -1.03797377e+14, -1.03797377e+14, -1.03797377e+14,\n",
       "       -1.03797377e+14, -1.03797377e+14, -1.03797377e+14, -1.03797377e+14,\n",
       "       -6.89783844e+15, -6.89783844e+15, -3.76707458e+15, -3.76707458e+15,\n",
       "       -3.76707458e+15,  2.89748793e+13,  3.69225208e+15, -2.48888036e+15,\n",
       "        6.82301594e+15])"
      ]
     },
     "execution_count": 324,
     "metadata": {},
     "output_type": "execute_result"
    }
   ],
   "source": [
    "lm.coef_"
   ]
  },
  {
   "cell_type": "code",
   "execution_count": 325,
   "id": "be5d49a2",
   "metadata": {},
   "outputs": [],
   "source": [
    "def train_val(model, X_train, y_train, X_test, y_test):\n",
    "    \n",
    "    y_pred = model.predict(X_test)\n",
    "    y_train_pred = model.predict(X_train)\n",
    "    \n",
    "    scores = {\"train\": {\"R2\" : r2_score(y_train, y_train_pred),\n",
    "    \"mae\" : mean_absolute_error(y_train, y_train_pred),\n",
    "    \"mse\" : mean_squared_error(y_train, y_train_pred),                          \n",
    "    \"rmse\" : np.sqrt(mean_squared_error(y_train, y_train_pred))},\n",
    "    \n",
    "    \"test\": {\"R2\" : r2_score(y_test, y_pred),\n",
    "    \"mae\" : mean_absolute_error(y_test, y_pred),\n",
    "    \"mse\" : mean_squared_error(y_test, y_pred),\n",
    "    \"rmse\" : np.sqrt(mean_squared_error(y_test, y_pred))}}\n",
    "    \n",
    "    return pd.DataFrame(scores)"
   ]
  },
  {
   "cell_type": "markdown",
   "id": "74b943f7",
   "metadata": {},
   "source": [
    "# Random Forest"
   ]
  },
  {
   "cell_type": "code",
   "execution_count": 86,
   "id": "50870bd7",
   "metadata": {},
   "outputs": [],
   "source": [
    "from sklearn.ensemble import RandomForestRegressor"
   ]
  },
  {
   "cell_type": "code",
   "execution_count": 87,
   "id": "8a6b46b1",
   "metadata": {},
   "outputs": [
    {
     "data": {
      "text/plain": [
       "RandomForestRegressor(random_state=1)"
      ]
     },
     "execution_count": 87,
     "metadata": {},
     "output_type": "execute_result"
    }
   ],
   "source": [
    "rf_model = RandomForestRegressor(random_state=1)\n",
    "rf_model.fit(X_train,y_train)"
   ]
  },
  {
   "cell_type": "code",
   "execution_count": 88,
   "id": "c315077f",
   "metadata": {},
   "outputs": [
    {
     "data": {
      "text/html": [
       "<div>\n",
       "<style scoped>\n",
       "    .dataframe tbody tr th:only-of-type {\n",
       "        vertical-align: middle;\n",
       "    }\n",
       "\n",
       "    .dataframe tbody tr th {\n",
       "        vertical-align: top;\n",
       "    }\n",
       "\n",
       "    .dataframe thead th {\n",
       "        text-align: right;\n",
       "    }\n",
       "</style>\n",
       "<table border=\"1\" class=\"dataframe\">\n",
       "  <thead>\n",
       "    <tr style=\"text-align: right;\">\n",
       "      <th></th>\n",
       "      <th>train</th>\n",
       "      <th>test</th>\n",
       "    </tr>\n",
       "  </thead>\n",
       "  <tbody>\n",
       "    <tr>\n",
       "      <th>R2</th>\n",
       "      <td>0.905784</td>\n",
       "      <td>0.324170</td>\n",
       "    </tr>\n",
       "    <tr>\n",
       "      <th>mae</th>\n",
       "      <td>224.313242</td>\n",
       "      <td>613.736406</td>\n",
       "    </tr>\n",
       "    <tr>\n",
       "      <th>mse</th>\n",
       "      <td>84296.211905</td>\n",
       "      <td>621277.597425</td>\n",
       "    </tr>\n",
       "    <tr>\n",
       "      <th>rmse</th>\n",
       "      <td>290.338099</td>\n",
       "      <td>788.211645</td>\n",
       "    </tr>\n",
       "  </tbody>\n",
       "</table>\n",
       "</div>"
      ],
      "text/plain": [
       "             train           test\n",
       "R2        0.905784       0.324170\n",
       "mae     224.313242     613.736406\n",
       "mse   84296.211905  621277.597425\n",
       "rmse    290.338099     788.211645"
      ]
     },
     "execution_count": 88,
     "metadata": {},
     "output_type": "execute_result"
    }
   ],
   "source": [
    "train_val(rf_model, X_train, y_train, X_test, y_test)"
   ]
  },
  {
   "cell_type": "code",
   "execution_count": 89,
   "id": "2c22f2e4",
   "metadata": {},
   "outputs": [
    {
     "data": {
      "text/plain": [
       "{'bootstrap': True,\n",
       " 'ccp_alpha': 0.0,\n",
       " 'criterion': 'mse',\n",
       " 'max_depth': None,\n",
       " 'max_features': 'auto',\n",
       " 'max_leaf_nodes': None,\n",
       " 'max_samples': None,\n",
       " 'min_impurity_decrease': 0.0,\n",
       " 'min_impurity_split': None,\n",
       " 'min_samples_leaf': 1,\n",
       " 'min_samples_split': 2,\n",
       " 'min_weight_fraction_leaf': 0.0,\n",
       " 'n_estimators': 100,\n",
       " 'n_jobs': None,\n",
       " 'oob_score': False,\n",
       " 'random_state': 1,\n",
       " 'verbose': 0,\n",
       " 'warm_start': False}"
      ]
     },
     "execution_count": 89,
     "metadata": {},
     "output_type": "execute_result"
    }
   ],
   "source": [
    "rf_model.get_params()"
   ]
  },
  {
   "cell_type": "code",
   "execution_count": 90,
   "id": "1e312927",
   "metadata": {},
   "outputs": [
    {
     "data": {
      "text/plain": [
       "array([1.19682803e-01, 1.60821220e-01, 8.54174368e-02, 9.33752089e-02,\n",
       "       1.78954135e-01, 2.01626691e-01, 1.61505502e-02, 8.30798076e-03,\n",
       "       7.84132839e-03, 7.35697759e-03, 6.49148423e-03, 8.00787633e-04,\n",
       "       8.17213491e-04, 1.49530211e-03, 1.56370721e-02, 4.31933962e-03,\n",
       "       8.25454675e-03, 1.45061803e-02, 8.00309937e-03, 6.17587730e-03,\n",
       "       5.24423977e-03, 1.11730955e-03, 1.19127640e-05, 3.65020803e-05,\n",
       "       5.15035547e-04, 1.36631094e-03, 1.79999449e-03, 2.24693258e-03,\n",
       "       4.16804200e-03, 4.17599141e-03, 3.85520901e-03, 3.65291291e-03,\n",
       "       3.38590921e-03, 2.75770568e-03, 4.04548506e-03, 1.15660196e-02,\n",
       "       4.01925235e-03])"
      ]
     },
     "execution_count": 90,
     "metadata": {},
     "output_type": "execute_result"
    }
   ],
   "source": [
    "rf_model.feature_importances_"
   ]
  },
  {
   "cell_type": "markdown",
   "id": "4ca63bb1",
   "metadata": {},
   "source": [
    "# SVM"
   ]
  },
  {
   "cell_type": "code",
   "execution_count": 91,
   "id": "c29e6666",
   "metadata": {},
   "outputs": [],
   "source": [
    "from sklearn.svm import SVR, LinearSVR\n",
    "from sklearn.metrics import mean_absolute_error, mean_squared_error, r2_score"
   ]
  },
  {
   "cell_type": "code",
   "execution_count": 92,
   "id": "e9733591",
   "metadata": {},
   "outputs": [],
   "source": [
    "svr_model = LinearSVR()"
   ]
  },
  {
   "cell_type": "code",
   "execution_count": 93,
   "id": "152ba2d2",
   "metadata": {},
   "outputs": [
    {
     "data": {
      "text/plain": [
       "LinearSVR()"
      ]
     },
     "execution_count": 93,
     "metadata": {},
     "output_type": "execute_result"
    }
   ],
   "source": [
    "svr_model.fit(X_train_scaled, y_train)"
   ]
  },
  {
   "cell_type": "code",
   "execution_count": 95,
   "id": "9672635c",
   "metadata": {
    "scrolled": true
   },
   "outputs": [
    {
     "data": {
      "text/html": [
       "<div>\n",
       "<style scoped>\n",
       "    .dataframe tbody tr th:only-of-type {\n",
       "        vertical-align: middle;\n",
       "    }\n",
       "\n",
       "    .dataframe tbody tr th {\n",
       "        vertical-align: top;\n",
       "    }\n",
       "\n",
       "    .dataframe thead th {\n",
       "        text-align: right;\n",
       "    }\n",
       "</style>\n",
       "<table border=\"1\" class=\"dataframe\">\n",
       "  <thead>\n",
       "    <tr style=\"text-align: right;\">\n",
       "      <th></th>\n",
       "      <th>train</th>\n",
       "      <th>test</th>\n",
       "    </tr>\n",
       "  </thead>\n",
       "  <tbody>\n",
       "    <tr>\n",
       "      <th>R2</th>\n",
       "      <td>0.238042</td>\n",
       "      <td>0.235207</td>\n",
       "    </tr>\n",
       "    <tr>\n",
       "      <th>mae</th>\n",
       "      <td>625.442627</td>\n",
       "      <td>632.730900</td>\n",
       "    </tr>\n",
       "    <tr>\n",
       "      <th>mse</th>\n",
       "      <td>681733.297221</td>\n",
       "      <td>703059.453566</td>\n",
       "    </tr>\n",
       "    <tr>\n",
       "      <th>rmse</th>\n",
       "      <td>825.671422</td>\n",
       "      <td>838.486406</td>\n",
       "    </tr>\n",
       "  </tbody>\n",
       "</table>\n",
       "</div>"
      ],
      "text/plain": [
       "              train           test\n",
       "R2         0.238042       0.235207\n",
       "mae      625.442627     632.730900\n",
       "mse   681733.297221  703059.453566\n",
       "rmse     825.671422     838.486406"
      ]
     },
     "execution_count": 95,
     "metadata": {},
     "output_type": "execute_result"
    }
   ],
   "source": [
    "train_val(svr_model, X_train_scaled, y_train, X_test_scaled, y_test)"
   ]
  },
  {
   "cell_type": "markdown",
   "id": "960892ea",
   "metadata": {},
   "source": [
    "# XGBoost"
   ]
  },
  {
   "cell_type": "code",
   "execution_count": 326,
   "id": "7b9cef40",
   "metadata": {},
   "outputs": [],
   "source": [
    "from xgboost import XGBRegressor"
   ]
  },
  {
   "cell_type": "code",
   "execution_count": 327,
   "id": "bfc06694",
   "metadata": {},
   "outputs": [],
   "source": [
    "xgb_model = XGBRegressor(random_state=101, objective=\"reg:squarederror\") "
   ]
  },
  {
   "cell_type": "code",
   "execution_count": 328,
   "id": "62343c5d",
   "metadata": {},
   "outputs": [
    {
     "data": {
      "text/plain": [
       "XGBRegressor(base_score=0.5, booster='gbtree', colsample_bylevel=1,\n",
       "             colsample_bynode=1, colsample_bytree=1, enable_categorical=False,\n",
       "             gamma=0, gpu_id=-1, importance_type=None,\n",
       "             interaction_constraints='', learning_rate=0.300000012,\n",
       "             max_delta_step=0, max_depth=6, min_child_weight=1, missing=nan,\n",
       "             monotone_constraints='()', n_estimators=100, n_jobs=8,\n",
       "             num_parallel_tree=1, predictor='auto', random_state=101,\n",
       "             reg_alpha=0, reg_lambda=1, scale_pos_weight=1, subsample=1,\n",
       "             tree_method='exact', validate_parameters=1, verbosity=None)"
      ]
     },
     "execution_count": 328,
     "metadata": {},
     "output_type": "execute_result"
    }
   ],
   "source": [
    "xgb_model.fit(X_train, y_train)"
   ]
  },
  {
   "cell_type": "code",
   "execution_count": 329,
   "id": "3db09e62",
   "metadata": {},
   "outputs": [
    {
     "data": {
      "text/html": [
       "<div>\n",
       "<style scoped>\n",
       "    .dataframe tbody tr th:only-of-type {\n",
       "        vertical-align: middle;\n",
       "    }\n",
       "\n",
       "    .dataframe tbody tr th {\n",
       "        vertical-align: top;\n",
       "    }\n",
       "\n",
       "    .dataframe thead th {\n",
       "        text-align: right;\n",
       "    }\n",
       "</style>\n",
       "<table border=\"1\" class=\"dataframe\">\n",
       "  <thead>\n",
       "    <tr style=\"text-align: right;\">\n",
       "      <th></th>\n",
       "      <th>train</th>\n",
       "      <th>test</th>\n",
       "    </tr>\n",
       "  </thead>\n",
       "  <tbody>\n",
       "    <tr>\n",
       "      <th>R2</th>\n",
       "      <td>0.442542</td>\n",
       "      <td>0.374780</td>\n",
       "    </tr>\n",
       "    <tr>\n",
       "      <th>mae</th>\n",
       "      <td>546.039753</td>\n",
       "      <td>584.926177</td>\n",
       "    </tr>\n",
       "    <tr>\n",
       "      <th>mse</th>\n",
       "      <td>498764.257257</td>\n",
       "      <td>574752.185019</td>\n",
       "    </tr>\n",
       "    <tr>\n",
       "      <th>rmse</th>\n",
       "      <td>706.232439</td>\n",
       "      <td>758.124122</td>\n",
       "    </tr>\n",
       "  </tbody>\n",
       "</table>\n",
       "</div>"
      ],
      "text/plain": [
       "              train           test\n",
       "R2         0.442542       0.374780\n",
       "mae      546.039753     584.926177\n",
       "mse   498764.257257  574752.185019\n",
       "rmse     706.232439     758.124122"
      ]
     },
     "execution_count": 329,
     "metadata": {},
     "output_type": "execute_result"
    }
   ],
   "source": [
    "train_val(xgb_model, X_train, y_train, X_test, y_test)"
   ]
  },
  {
   "cell_type": "markdown",
   "id": "13b0f9db",
   "metadata": {},
   "source": [
    "# EDA Predicted Data"
   ]
  },
  {
   "cell_type": "code",
   "execution_count": 345,
   "id": "52a8930e",
   "metadata": {},
   "outputs": [],
   "source": [
    "df_pred = pd.read_csv('predict_data.csv')"
   ]
  },
  {
   "cell_type": "code",
   "execution_count": 346,
   "id": "9d6e7cb4",
   "metadata": {},
   "outputs": [
    {
     "name": "stdout",
     "output_type": "stream",
     "text": [
      "<class 'pandas.core.frame.DataFrame'>\n",
      "RangeIndex: 54778 entries, 0 to 54777\n",
      "Data columns (total 9 columns):\n",
      " #   Column                                        Non-Null Count  Dtype  \n",
      "---  ------                                        --------------  -----  \n",
      " 0   market_id                                     54528 non-null  float64\n",
      " 1   created_at                                    54778 non-null  object \n",
      " 2   store_id                                      54778 non-null  int64  \n",
      " 3   subtotal                                      54778 non-null  int64  \n",
      " 4   total_onshift_dashers                         50145 non-null  float64\n",
      " 5   total_busy_dashers                            50145 non-null  float64\n",
      " 6   total_outstanding_orders                      50145 non-null  float64\n",
      " 7   estimated_store_to_consumer_driving_duration  54767 non-null  float64\n",
      " 8   delivery_id                                   54778 non-null  int64  \n",
      "dtypes: float64(5), int64(3), object(1)\n",
      "memory usage: 3.8+ MB\n"
     ]
    }
   ],
   "source": [
    "df_pred.info()"
   ]
  },
  {
   "cell_type": "code",
   "execution_count": 347,
   "id": "bc2b9038",
   "metadata": {},
   "outputs": [],
   "source": [
    "df_pred = df_pred.dropna(subset=['market_id','total_onshift_dashers','total_busy_dashers','total_outstanding_orders', 'estimated_store_to_consumer_driving_duration' ])"
   ]
  },
  {
   "cell_type": "code",
   "execution_count": 348,
   "id": "d9306c81",
   "metadata": {},
   "outputs": [
    {
     "name": "stdout",
     "output_type": "stream",
     "text": [
      "<class 'pandas.core.frame.DataFrame'>\n",
      "Int64Index: 49913 entries, 0 to 54777\n",
      "Data columns (total 9 columns):\n",
      " #   Column                                        Non-Null Count  Dtype  \n",
      "---  ------                                        --------------  -----  \n",
      " 0   market_id                                     49913 non-null  float64\n",
      " 1   created_at                                    49913 non-null  object \n",
      " 2   store_id                                      49913 non-null  int64  \n",
      " 3   subtotal                                      49913 non-null  int64  \n",
      " 4   total_onshift_dashers                         49913 non-null  float64\n",
      " 5   total_busy_dashers                            49913 non-null  float64\n",
      " 6   total_outstanding_orders                      49913 non-null  float64\n",
      " 7   estimated_store_to_consumer_driving_duration  49913 non-null  float64\n",
      " 8   delivery_id                                   49913 non-null  int64  \n",
      "dtypes: float64(5), int64(3), object(1)\n",
      "memory usage: 3.8+ MB\n"
     ]
    }
   ],
   "source": [
    "df_pred.info()"
   ]
  },
  {
   "cell_type": "code",
   "execution_count": 349,
   "id": "0a0ee681",
   "metadata": {},
   "outputs": [
    {
     "data": {
      "text/html": [
       "<div>\n",
       "<style scoped>\n",
       "    .dataframe tbody tr th:only-of-type {\n",
       "        vertical-align: middle;\n",
       "    }\n",
       "\n",
       "    .dataframe tbody tr th {\n",
       "        vertical-align: top;\n",
       "    }\n",
       "\n",
       "    .dataframe thead th {\n",
       "        text-align: right;\n",
       "    }\n",
       "</style>\n",
       "<table border=\"1\" class=\"dataframe\">\n",
       "  <thead>\n",
       "    <tr style=\"text-align: right;\">\n",
       "      <th></th>\n",
       "      <th>count</th>\n",
       "      <th>mean</th>\n",
       "      <th>std</th>\n",
       "      <th>min</th>\n",
       "      <th>25%</th>\n",
       "      <th>50%</th>\n",
       "      <th>75%</th>\n",
       "      <th>max</th>\n",
       "    </tr>\n",
       "  </thead>\n",
       "  <tbody>\n",
       "    <tr>\n",
       "      <th>market_id</th>\n",
       "      <td>49913.0</td>\n",
       "      <td>2.796526</td>\n",
       "      <td>1.340086</td>\n",
       "      <td>1.0</td>\n",
       "      <td>2.0</td>\n",
       "      <td>2.0</td>\n",
       "      <td>4.0</td>\n",
       "      <td>6.0</td>\n",
       "    </tr>\n",
       "    <tr>\n",
       "      <th>store_id</th>\n",
       "      <td>49913.0</td>\n",
       "      <td>3508.048384</td>\n",
       "      <td>2053.769710</td>\n",
       "      <td>2.0</td>\n",
       "      <td>1683.0</td>\n",
       "      <td>3573.0</td>\n",
       "      <td>5268.0</td>\n",
       "      <td>6986.0</td>\n",
       "    </tr>\n",
       "    <tr>\n",
       "      <th>subtotal</th>\n",
       "      <td>49913.0</td>\n",
       "      <td>2728.935187</td>\n",
       "      <td>1901.862645</td>\n",
       "      <td>0.0</td>\n",
       "      <td>1425.0</td>\n",
       "      <td>2241.0</td>\n",
       "      <td>3448.0</td>\n",
       "      <td>29925.0</td>\n",
       "    </tr>\n",
       "    <tr>\n",
       "      <th>total_onshift_dashers</th>\n",
       "      <td>49913.0</td>\n",
       "      <td>49.070623</td>\n",
       "      <td>37.595197</td>\n",
       "      <td>-1.0</td>\n",
       "      <td>19.0</td>\n",
       "      <td>41.0</td>\n",
       "      <td>71.0</td>\n",
       "      <td>175.0</td>\n",
       "    </tr>\n",
       "    <tr>\n",
       "      <th>total_busy_dashers</th>\n",
       "      <td>49913.0</td>\n",
       "      <td>43.506221</td>\n",
       "      <td>34.046571</td>\n",
       "      <td>-4.0</td>\n",
       "      <td>16.0</td>\n",
       "      <td>36.0</td>\n",
       "      <td>63.0</td>\n",
       "      <td>169.0</td>\n",
       "    </tr>\n",
       "    <tr>\n",
       "      <th>total_outstanding_orders</th>\n",
       "      <td>49913.0</td>\n",
       "      <td>62.549356</td>\n",
       "      <td>56.363563</td>\n",
       "      <td>-9.0</td>\n",
       "      <td>19.0</td>\n",
       "      <td>45.0</td>\n",
       "      <td>91.0</td>\n",
       "      <td>292.0</td>\n",
       "    </tr>\n",
       "    <tr>\n",
       "      <th>estimated_store_to_consumer_driving_duration</th>\n",
       "      <td>49913.0</td>\n",
       "      <td>548.266844</td>\n",
       "      <td>218.932825</td>\n",
       "      <td>0.0</td>\n",
       "      <td>386.0</td>\n",
       "      <td>545.0</td>\n",
       "      <td>703.0</td>\n",
       "      <td>1550.0</td>\n",
       "    </tr>\n",
       "    <tr>\n",
       "      <th>delivery_id</th>\n",
       "      <td>49913.0</td>\n",
       "      <td>126164.703123</td>\n",
       "      <td>72713.665883</td>\n",
       "      <td>20.0</td>\n",
       "      <td>62982.0</td>\n",
       "      <td>126310.0</td>\n",
       "      <td>188951.0</td>\n",
       "      <td>252031.0</td>\n",
       "    </tr>\n",
       "  </tbody>\n",
       "</table>\n",
       "</div>"
      ],
      "text/plain": [
       "                                                count           mean  \\\n",
       "market_id                                     49913.0       2.796526   \n",
       "store_id                                      49913.0    3508.048384   \n",
       "subtotal                                      49913.0    2728.935187   \n",
       "total_onshift_dashers                         49913.0      49.070623   \n",
       "total_busy_dashers                            49913.0      43.506221   \n",
       "total_outstanding_orders                      49913.0      62.549356   \n",
       "estimated_store_to_consumer_driving_duration  49913.0     548.266844   \n",
       "delivery_id                                   49913.0  126164.703123   \n",
       "\n",
       "                                                       std   min      25%  \\\n",
       "market_id                                         1.340086   1.0      2.0   \n",
       "store_id                                       2053.769710   2.0   1683.0   \n",
       "subtotal                                       1901.862645   0.0   1425.0   \n",
       "total_onshift_dashers                            37.595197  -1.0     19.0   \n",
       "total_busy_dashers                               34.046571  -4.0     16.0   \n",
       "total_outstanding_orders                         56.363563  -9.0     19.0   \n",
       "estimated_store_to_consumer_driving_duration    218.932825   0.0    386.0   \n",
       "delivery_id                                   72713.665883  20.0  62982.0   \n",
       "\n",
       "                                                   50%       75%       max  \n",
       "market_id                                          2.0       4.0       6.0  \n",
       "store_id                                        3573.0    5268.0    6986.0  \n",
       "subtotal                                        2241.0    3448.0   29925.0  \n",
       "total_onshift_dashers                             41.0      71.0     175.0  \n",
       "total_busy_dashers                                36.0      63.0     169.0  \n",
       "total_outstanding_orders                          45.0      91.0     292.0  \n",
       "estimated_store_to_consumer_driving_duration     545.0     703.0    1550.0  \n",
       "delivery_id                                   126310.0  188951.0  252031.0  "
      ]
     },
     "execution_count": 349,
     "metadata": {},
     "output_type": "execute_result"
    }
   ],
   "source": [
    "df_pred.describe().T"
   ]
  },
  {
   "cell_type": "code",
   "execution_count": 350,
   "id": "269b0c49",
   "metadata": {},
   "outputs": [],
   "source": [
    "df_pred = df_pred[(df_pred.total_onshift_dashers > 0) | (df_pred.total_busy_dashers > 0) | (df_pred.total_outstanding_orders > 0)]"
   ]
  },
  {
   "cell_type": "code",
   "execution_count": 351,
   "id": "a974cc43",
   "metadata": {},
   "outputs": [
    {
     "data": {
      "text/plain": [
       "(49046, 9)"
      ]
     },
     "execution_count": 351,
     "metadata": {},
     "output_type": "execute_result"
    }
   ],
   "source": [
    "df_pred.shape"
   ]
  },
  {
   "cell_type": "markdown",
   "id": "79f02033",
   "metadata": {},
   "source": [
    "# Checking Ourliers"
   ]
  },
  {
   "cell_type": "code",
   "execution_count": 352,
   "id": "7039fafc",
   "metadata": {},
   "outputs": [
    {
     "data": {
      "text/plain": [
       "<AxesSubplot:xlabel='total_outstanding_orders'>"
      ]
     },
     "execution_count": 352,
     "metadata": {},
     "output_type": "execute_result"
    },
    {
     "data": {
      "image/png": "[encoded data removed]",
      "text/plain": [
       "<Figure size 720x432 with 1 Axes>"
      ]
     },
     "metadata": {
      "needs_background": "light"
     },
     "output_type": "display_data"
    }
   ],
   "source": [
    "sns.boxplot(df_pred.total_outstanding_orders)"
   ]
  },
  {
   "cell_type": "code",
   "execution_count": 353,
   "id": "e89f8172",
   "metadata": {},
   "outputs": [
    {
     "data": {
      "text/plain": [
       "<AxesSubplot:xlabel='total_busy_dashers'>"
      ]
     },
     "execution_count": 353,
     "metadata": {},
     "output_type": "execute_result"
    },
    {
     "data": {
      "image/png": "[encoded data removed]",
      "text/plain": [
       "<Figure size 720x432 with 1 Axes>"
      ]
     },
     "metadata": {
      "needs_background": "light"
     },
     "output_type": "display_data"
    }
   ],
   "source": [
    "sns.boxplot(df_pred.total_busy_dashers)"
   ]
  },
  {
   "cell_type": "code",
   "execution_count": 354,
   "id": "f71802f4",
   "metadata": {},
   "outputs": [
    {
     "data": {
      "text/plain": [
       "<AxesSubplot:xlabel='total_onshift_dashers'>"
      ]
     },
     "execution_count": 354,
     "metadata": {},
     "output_type": "execute_result"
    },
    {
     "data": {
      "image/png": "[encoded data removed]",
      "text/plain": [
       "<Figure size 720x432 with 1 Axes>"
      ]
     },
     "metadata": {
      "needs_background": "light"
     },
     "output_type": "display_data"
    }
   ],
   "source": [
    "sns.boxplot(df_pred.total_onshift_dashers)"
   ]
  },
  {
   "cell_type": "code",
   "execution_count": 355,
   "id": "c4116df5",
   "metadata": {},
   "outputs": [
    {
     "data": {
      "text/plain": [
       "<AxesSubplot:xlabel='estimated_store_to_consumer_driving_duration'>"
      ]
     },
     "execution_count": 355,
     "metadata": {},
     "output_type": "execute_result"
    },
    {
     "data": {
      "image/png": "[encoded data removed]",
      "text/plain": [
       "<Figure size 720x432 with 1 Axes>"
      ]
     },
     "metadata": {
      "needs_background": "light"
     },
     "output_type": "display_data"
    }
   ],
   "source": [
    "sns.boxplot(df_pred.estimated_store_to_consumer_driving_duration)"
   ]
  },
  {
   "cell_type": "code",
   "execution_count": 356,
   "id": "6dd3c0cb",
   "metadata": {},
   "outputs": [
    {
     "data": {
      "text/html": [
       "<div>\n",
       "<style scoped>\n",
       "    .dataframe tbody tr th:only-of-type {\n",
       "        vertical-align: middle;\n",
       "    }\n",
       "\n",
       "    .dataframe tbody tr th {\n",
       "        vertical-align: top;\n",
       "    }\n",
       "\n",
       "    .dataframe thead th {\n",
       "        text-align: right;\n",
       "    }\n",
       "</style>\n",
       "<table border=\"1\" class=\"dataframe\">\n",
       "  <thead>\n",
       "    <tr style=\"text-align: right;\">\n",
       "      <th></th>\n",
       "      <th>market_id</th>\n",
       "      <th>created_at</th>\n",
       "      <th>store_id</th>\n",
       "      <th>subtotal</th>\n",
       "      <th>total_onshift_dashers</th>\n",
       "      <th>total_busy_dashers</th>\n",
       "      <th>total_outstanding_orders</th>\n",
       "      <th>estimated_store_to_consumer_driving_duration</th>\n",
       "      <th>delivery_id</th>\n",
       "    </tr>\n",
       "  </thead>\n",
       "  <tbody>\n",
       "    <tr>\n",
       "      <th>8</th>\n",
       "      <td>1.0</td>\n",
       "      <td>2015-02-25 04:19:59</td>\n",
       "      <td>5058</td>\n",
       "      <td>2179</td>\n",
       "      <td>20.0</td>\n",
       "      <td>24.0</td>\n",
       "      <td>28.0</td>\n",
       "      <td>54.0</td>\n",
       "      <td>107026</td>\n",
       "    </tr>\n",
       "    <tr>\n",
       "      <th>9</th>\n",
       "      <td>1.0</td>\n",
       "      <td>2015-02-22 02:24:32</td>\n",
       "      <td>5058</td>\n",
       "      <td>1800</td>\n",
       "      <td>26.0</td>\n",
       "      <td>26.0</td>\n",
       "      <td>20.0</td>\n",
       "      <td>54.0</td>\n",
       "      <td>90341</td>\n",
       "    </tr>\n",
       "    <tr>\n",
       "      <th>631</th>\n",
       "      <td>4.0</td>\n",
       "      <td>2015-02-22 03:52:53</td>\n",
       "      <td>265</td>\n",
       "      <td>5680</td>\n",
       "      <td>79.0</td>\n",
       "      <td>65.0</td>\n",
       "      <td>114.0</td>\n",
       "      <td>34.0</td>\n",
       "      <td>227540</td>\n",
       "    </tr>\n",
       "    <tr>\n",
       "      <th>1927</th>\n",
       "      <td>4.0</td>\n",
       "      <td>2015-02-22 00:44:26</td>\n",
       "      <td>703</td>\n",
       "      <td>2361</td>\n",
       "      <td>36.0</td>\n",
       "      <td>33.0</td>\n",
       "      <td>52.0</td>\n",
       "      <td>39.0</td>\n",
       "      <td>19786</td>\n",
       "    </tr>\n",
       "    <tr>\n",
       "      <th>2067</th>\n",
       "      <td>3.0</td>\n",
       "      <td>2015-02-22 03:47:03</td>\n",
       "      <td>4703</td>\n",
       "      <td>9460</td>\n",
       "      <td>42.0</td>\n",
       "      <td>41.0</td>\n",
       "      <td>44.0</td>\n",
       "      <td>49.0</td>\n",
       "      <td>41166</td>\n",
       "    </tr>\n",
       "    <tr>\n",
       "      <th>...</th>\n",
       "      <td>...</td>\n",
       "      <td>...</td>\n",
       "      <td>...</td>\n",
       "      <td>...</td>\n",
       "      <td>...</td>\n",
       "      <td>...</td>\n",
       "      <td>...</td>\n",
       "      <td>...</td>\n",
       "      <td>...</td>\n",
       "    </tr>\n",
       "    <tr>\n",
       "      <th>48279</th>\n",
       "      <td>4.0</td>\n",
       "      <td>2015-02-21 03:10:08</td>\n",
       "      <td>377</td>\n",
       "      <td>1450</td>\n",
       "      <td>101.0</td>\n",
       "      <td>98.0</td>\n",
       "      <td>174.0</td>\n",
       "      <td>58.0</td>\n",
       "      <td>135174</td>\n",
       "    </tr>\n",
       "    <tr>\n",
       "      <th>50984</th>\n",
       "      <td>2.0</td>\n",
       "      <td>2015-02-24 03:46:34</td>\n",
       "      <td>2130</td>\n",
       "      <td>2940</td>\n",
       "      <td>73.0</td>\n",
       "      <td>69.0</td>\n",
       "      <td>90.0</td>\n",
       "      <td>38.0</td>\n",
       "      <td>100838</td>\n",
       "    </tr>\n",
       "    <tr>\n",
       "      <th>51800</th>\n",
       "      <td>1.0</td>\n",
       "      <td>2015-02-22 17:39:09</td>\n",
       "      <td>6171</td>\n",
       "      <td>2095</td>\n",
       "      <td>5.0</td>\n",
       "      <td>5.0</td>\n",
       "      <td>5.0</td>\n",
       "      <td>56.0</td>\n",
       "      <td>116348</td>\n",
       "    </tr>\n",
       "    <tr>\n",
       "      <th>52565</th>\n",
       "      <td>1.0</td>\n",
       "      <td>2015-02-21 06:30:02</td>\n",
       "      <td>3463</td>\n",
       "      <td>1025</td>\n",
       "      <td>1.0</td>\n",
       "      <td>1.0</td>\n",
       "      <td>4.0</td>\n",
       "      <td>51.0</td>\n",
       "      <td>43972</td>\n",
       "    </tr>\n",
       "    <tr>\n",
       "      <th>54086</th>\n",
       "      <td>1.0</td>\n",
       "      <td>2015-02-24 19:59:31</td>\n",
       "      <td>3976</td>\n",
       "      <td>1699</td>\n",
       "      <td>15.0</td>\n",
       "      <td>15.0</td>\n",
       "      <td>23.0</td>\n",
       "      <td>37.0</td>\n",
       "      <td>107845</td>\n",
       "    </tr>\n",
       "  </tbody>\n",
       "</table>\n",
       "<p>71 rows × 9 columns</p>\n",
       "</div>"
      ],
      "text/plain": [
       "       market_id           created_at  store_id  subtotal  \\\n",
       "8            1.0  2015-02-25 04:19:59      5058      2179   \n",
       "9            1.0  2015-02-22 02:24:32      5058      1800   \n",
       "631          4.0  2015-02-22 03:52:53       265      5680   \n",
       "1927         4.0  2015-02-22 00:44:26       703      2361   \n",
       "2067         3.0  2015-02-22 03:47:03      4703      9460   \n",
       "...          ...                  ...       ...       ...   \n",
       "48279        4.0  2015-02-21 03:10:08       377      1450   \n",
       "50984        2.0  2015-02-24 03:46:34      2130      2940   \n",
       "51800        1.0  2015-02-22 17:39:09      6171      2095   \n",
       "52565        1.0  2015-02-21 06:30:02      3463      1025   \n",
       "54086        1.0  2015-02-24 19:59:31      3976      1699   \n",
       "\n",
       "       total_onshift_dashers  total_busy_dashers  total_outstanding_orders  \\\n",
       "8                       20.0                24.0                      28.0   \n",
       "9                       26.0                26.0                      20.0   \n",
       "631                     79.0                65.0                     114.0   \n",
       "1927                    36.0                33.0                      52.0   \n",
       "2067                    42.0                41.0                      44.0   \n",
       "...                      ...                 ...                       ...   \n",
       "48279                  101.0                98.0                     174.0   \n",
       "50984                   73.0                69.0                      90.0   \n",
       "51800                    5.0                 5.0                       5.0   \n",
       "52565                    1.0                 1.0                       4.0   \n",
       "54086                   15.0                15.0                      23.0   \n",
       "\n",
       "       estimated_store_to_consumer_driving_duration  delivery_id  \n",
       "8                                              54.0       107026  \n",
       "9                                              54.0        90341  \n",
       "631                                            34.0       227540  \n",
       "1927                                           39.0        19786  \n",
       "2067                                           49.0        41166  \n",
       "...                                             ...          ...  \n",
       "48279                                          58.0       135174  \n",
       "50984                                          38.0       100838  \n",
       "51800                                          56.0       116348  \n",
       "52565                                          51.0        43972  \n",
       "54086                                          37.0       107845  \n",
       "\n",
       "[71 rows x 9 columns]"
      ]
     },
     "execution_count": 356,
     "metadata": {},
     "output_type": "execute_result"
    }
   ],
   "source": [
    "df_pred[df_pred.estimated_store_to_consumer_driving_duration <60]"
   ]
  },
  {
   "cell_type": "code",
   "execution_count": 357,
   "id": "916e2f02",
   "metadata": {},
   "outputs": [],
   "source": [
    "df_pred = df_pred[df_pred.estimated_store_to_consumer_driving_duration >60]"
   ]
  },
  {
   "cell_type": "code",
   "execution_count": 358,
   "id": "103a08ef",
   "metadata": {},
   "outputs": [],
   "source": [
    "df_pred['created_at'] =  pd.to_datetime(df_pred['created_at'])"
   ]
  },
  {
   "cell_type": "code",
   "execution_count": 359,
   "id": "d1430bf9",
   "metadata": {},
   "outputs": [],
   "source": [
    "def store_speed_pred(st_id):\n",
    "    \n",
    "    if st_id in df.store_id.unique():\n",
    "        val = df[df.store_id==st_id].iloc[0].Store_Speed\n",
    "    else:\n",
    "        val = 'Normal'\n",
    "    return val"
   ]
  },
  {
   "cell_type": "code",
   "execution_count": 419,
   "id": "feba3935",
   "metadata": {},
   "outputs": [],
   "source": [
    "df_pred['Store_Speed'] = df_pred['store_id'].apply(store_speed_pred)"
   ]
  },
  {
   "cell_type": "code",
   "execution_count": 361,
   "id": "9b6b246f",
   "metadata": {},
   "outputs": [
    {
     "data": {
      "text/html": [
       "<div>\n",
       "<style scoped>\n",
       "    .dataframe tbody tr th:only-of-type {\n",
       "        vertical-align: middle;\n",
       "    }\n",
       "\n",
       "    .dataframe tbody tr th {\n",
       "        vertical-align: top;\n",
       "    }\n",
       "\n",
       "    .dataframe thead th {\n",
       "        text-align: right;\n",
       "    }\n",
       "</style>\n",
       "<table border=\"1\" class=\"dataframe\">\n",
       "  <thead>\n",
       "    <tr style=\"text-align: right;\">\n",
       "      <th></th>\n",
       "      <th>market_id</th>\n",
       "      <th>created_at</th>\n",
       "      <th>store_id</th>\n",
       "      <th>subtotal</th>\n",
       "      <th>total_onshift_dashers</th>\n",
       "      <th>total_busy_dashers</th>\n",
       "      <th>total_outstanding_orders</th>\n",
       "      <th>estimated_store_to_consumer_driving_duration</th>\n",
       "      <th>delivery_id</th>\n",
       "    </tr>\n",
       "  </thead>\n",
       "  <tbody>\n",
       "    <tr>\n",
       "      <th>0</th>\n",
       "      <td>3.0</td>\n",
       "      <td>2015-02-25 02:22:30</td>\n",
       "      <td>5477</td>\n",
       "      <td>7500</td>\n",
       "      <td>4.0</td>\n",
       "      <td>4.0</td>\n",
       "      <td>4.0</td>\n",
       "      <td>670.0</td>\n",
       "      <td>194096</td>\n",
       "    </tr>\n",
       "    <tr>\n",
       "      <th>1</th>\n",
       "      <td>3.0</td>\n",
       "      <td>2015-02-25 01:14:19</td>\n",
       "      <td>5477</td>\n",
       "      <td>7100</td>\n",
       "      <td>4.0</td>\n",
       "      <td>1.0</td>\n",
       "      <td>1.0</td>\n",
       "      <td>446.0</td>\n",
       "      <td>236895</td>\n",
       "    </tr>\n",
       "    <tr>\n",
       "      <th>2</th>\n",
       "      <td>4.0</td>\n",
       "      <td>2015-02-22 02:27:44</td>\n",
       "      <td>5477</td>\n",
       "      <td>4500</td>\n",
       "      <td>9.0</td>\n",
       "      <td>7.0</td>\n",
       "      <td>6.0</td>\n",
       "      <td>504.0</td>\n",
       "      <td>190868</td>\n",
       "    </tr>\n",
       "    <tr>\n",
       "      <th>3</th>\n",
       "      <td>3.0</td>\n",
       "      <td>2015-02-25 01:32:39</td>\n",
       "      <td>5477</td>\n",
       "      <td>1700</td>\n",
       "      <td>3.0</td>\n",
       "      <td>3.0</td>\n",
       "      <td>3.0</td>\n",
       "      <td>687.0</td>\n",
       "      <td>183076</td>\n",
       "    </tr>\n",
       "    <tr>\n",
       "      <th>4</th>\n",
       "      <td>1.0</td>\n",
       "      <td>2015-02-24 05:20:45</td>\n",
       "      <td>2841</td>\n",
       "      <td>3150</td>\n",
       "      <td>4.0</td>\n",
       "      <td>4.0</td>\n",
       "      <td>4.0</td>\n",
       "      <td>528.0</td>\n",
       "      <td>186200</td>\n",
       "    </tr>\n",
       "  </tbody>\n",
       "</table>\n",
       "</div>"
      ],
      "text/plain": [
       "   market_id          created_at  store_id  subtotal  total_onshift_dashers  \\\n",
       "0        3.0 2015-02-25 02:22:30      5477      7500                    4.0   \n",
       "1        3.0 2015-02-25 01:14:19      5477      7100                    4.0   \n",
       "2        4.0 2015-02-22 02:27:44      5477      4500                    9.0   \n",
       "3        3.0 2015-02-25 01:32:39      5477      1700                    3.0   \n",
       "4        1.0 2015-02-24 05:20:45      2841      3150                    4.0   \n",
       "\n",
       "   total_busy_dashers  total_outstanding_orders  \\\n",
       "0                 4.0                       4.0   \n",
       "1                 1.0                       1.0   \n",
       "2                 7.0                       6.0   \n",
       "3                 3.0                       3.0   \n",
       "4                 4.0                       4.0   \n",
       "\n",
       "   estimated_store_to_consumer_driving_duration  delivery_id  \n",
       "0                                         670.0       194096  \n",
       "1                                         446.0       236895  \n",
       "2                                         504.0       190868  \n",
       "3                                         687.0       183076  \n",
       "4                                         528.0       186200  "
      ]
     },
     "execution_count": 361,
     "metadata": {},
     "output_type": "execute_result"
    }
   ],
   "source": [
    "df_pred.head()"
   ]
  },
  {
   "cell_type": "code",
   "execution_count": 229,
   "id": "5503d360",
   "metadata": {},
   "outputs": [],
   "source": [
    "df_pred['created_at'] =  pd.to_datetime(df_pred['created_at'])"
   ]
  },
  {
   "cell_type": "code",
   "execution_count": 230,
   "id": "06e50f55",
   "metadata": {},
   "outputs": [
    {
     "name": "stdout",
     "output_type": "stream",
     "text": [
      "<class 'pandas.core.frame.DataFrame'>\n",
      "Int64Index: 48975 entries, 0 to 54777\n",
      "Data columns (total 10 columns):\n",
      " #   Column                                        Non-Null Count  Dtype         \n",
      "---  ------                                        --------------  -----         \n",
      " 0   market_id                                     48975 non-null  float64       \n",
      " 1   created_at                                    48975 non-null  datetime64[ns]\n",
      " 2   store_id                                      48975 non-null  int64         \n",
      " 3   subtotal                                      48975 non-null  int64         \n",
      " 4   total_onshift_dashers                         48975 non-null  float64       \n",
      " 5   total_busy_dashers                            48975 non-null  float64       \n",
      " 6   total_outstanding_orders                      48975 non-null  float64       \n",
      " 7   estimated_store_to_consumer_driving_duration  48975 non-null  float64       \n",
      " 8   delivery_id                                   48975 non-null  int64         \n",
      " 9   Store_Speed                                   48975 non-null  object        \n",
      "dtypes: datetime64[ns](1), float64(5), int64(3), object(1)\n",
      "memory usage: 4.1+ MB\n"
     ]
    }
   ],
   "source": [
    "df_pred.info()"
   ]
  },
  {
   "cell_type": "code",
   "execution_count": 231,
   "id": "675e6d16",
   "metadata": {},
   "outputs": [],
   "source": [
    "df_pred['orders_hours'] = df_pred.created_at.dt.hour"
   ]
  },
  {
   "cell_type": "code",
   "execution_count": 232,
   "id": "1dfc6fb5",
   "metadata": {},
   "outputs": [
    {
     "data": {
      "text/plain": [
       "0         2\n",
       "1         1\n",
       "2         2\n",
       "3         1\n",
       "4         5\n",
       "         ..\n",
       "54773    18\n",
       "54774    21\n",
       "54775    18\n",
       "54776    23\n",
       "54777     2\n",
       "Name: orders_hours, Length: 48975, dtype: int64"
      ]
     },
     "execution_count": 232,
     "metadata": {},
     "output_type": "execute_result"
    }
   ],
   "source": [
    "df_pred['orders_hours']"
   ]
  },
  {
   "cell_type": "code",
   "execution_count": 233,
   "id": "055ccebb",
   "metadata": {},
   "outputs": [],
   "source": [
    "def f(data):\n",
    "    if (data >20 ) or (data == 0):\n",
    "        val = 'Midnight'\n",
    "    elif (data >18) and (data < 21):\n",
    "        val = 'Night'\n",
    "    elif (data > 0) and (data < 6):\n",
    "        val = 'Morning'       \n",
    "    else:\n",
    "        val = 'Daytime'\n",
    "    return val\n"
   ]
  },
  {
   "cell_type": "code",
   "execution_count": 234,
   "id": "44c2be09",
   "metadata": {},
   "outputs": [],
   "source": [
    "df_pred['Time_Category'] = df_pred['orders_hours'].apply(f)"
   ]
  },
  {
   "cell_type": "code",
   "execution_count": 235,
   "id": "f93f12ba",
   "metadata": {},
   "outputs": [
    {
     "data": {
      "text/html": [
       "<div>\n",
       "<style scoped>\n",
       "    .dataframe tbody tr th:only-of-type {\n",
       "        vertical-align: middle;\n",
       "    }\n",
       "\n",
       "    .dataframe tbody tr th {\n",
       "        vertical-align: top;\n",
       "    }\n",
       "\n",
       "    .dataframe thead th {\n",
       "        text-align: right;\n",
       "    }\n",
       "</style>\n",
       "<table border=\"1\" class=\"dataframe\">\n",
       "  <thead>\n",
       "    <tr style=\"text-align: right;\">\n",
       "      <th></th>\n",
       "      <th>market_id</th>\n",
       "      <th>created_at</th>\n",
       "      <th>store_id</th>\n",
       "      <th>subtotal</th>\n",
       "      <th>total_onshift_dashers</th>\n",
       "      <th>total_busy_dashers</th>\n",
       "      <th>total_outstanding_orders</th>\n",
       "      <th>estimated_store_to_consumer_driving_duration</th>\n",
       "      <th>delivery_id</th>\n",
       "      <th>Store_Speed</th>\n",
       "      <th>orders_hours</th>\n",
       "      <th>Time_Category</th>\n",
       "    </tr>\n",
       "  </thead>\n",
       "  <tbody>\n",
       "    <tr>\n",
       "      <th>0</th>\n",
       "      <td>3.0</td>\n",
       "      <td>2015-02-25 02:22:30</td>\n",
       "      <td>5477</td>\n",
       "      <td>7500</td>\n",
       "      <td>4.0</td>\n",
       "      <td>4.0</td>\n",
       "      <td>4.0</td>\n",
       "      <td>670.0</td>\n",
       "      <td>194096</td>\n",
       "      <td>Normal</td>\n",
       "      <td>2</td>\n",
       "      <td>Morning</td>\n",
       "    </tr>\n",
       "    <tr>\n",
       "      <th>1</th>\n",
       "      <td>3.0</td>\n",
       "      <td>2015-02-25 01:14:19</td>\n",
       "      <td>5477</td>\n",
       "      <td>7100</td>\n",
       "      <td>4.0</td>\n",
       "      <td>1.0</td>\n",
       "      <td>1.0</td>\n",
       "      <td>446.0</td>\n",
       "      <td>236895</td>\n",
       "      <td>Normal</td>\n",
       "      <td>1</td>\n",
       "      <td>Morning</td>\n",
       "    </tr>\n",
       "    <tr>\n",
       "      <th>2</th>\n",
       "      <td>4.0</td>\n",
       "      <td>2015-02-22 02:27:44</td>\n",
       "      <td>5477</td>\n",
       "      <td>4500</td>\n",
       "      <td>9.0</td>\n",
       "      <td>7.0</td>\n",
       "      <td>6.0</td>\n",
       "      <td>504.0</td>\n",
       "      <td>190868</td>\n",
       "      <td>Normal</td>\n",
       "      <td>2</td>\n",
       "      <td>Morning</td>\n",
       "    </tr>\n",
       "    <tr>\n",
       "      <th>3</th>\n",
       "      <td>3.0</td>\n",
       "      <td>2015-02-25 01:32:39</td>\n",
       "      <td>5477</td>\n",
       "      <td>1700</td>\n",
       "      <td>3.0</td>\n",
       "      <td>3.0</td>\n",
       "      <td>3.0</td>\n",
       "      <td>687.0</td>\n",
       "      <td>183076</td>\n",
       "      <td>Normal</td>\n",
       "      <td>1</td>\n",
       "      <td>Morning</td>\n",
       "    </tr>\n",
       "    <tr>\n",
       "      <th>4</th>\n",
       "      <td>1.0</td>\n",
       "      <td>2015-02-24 05:20:45</td>\n",
       "      <td>2841</td>\n",
       "      <td>3150</td>\n",
       "      <td>4.0</td>\n",
       "      <td>4.0</td>\n",
       "      <td>4.0</td>\n",
       "      <td>528.0</td>\n",
       "      <td>186200</td>\n",
       "      <td>Normal</td>\n",
       "      <td>5</td>\n",
       "      <td>Morning</td>\n",
       "    </tr>\n",
       "  </tbody>\n",
       "</table>\n",
       "</div>"
      ],
      "text/plain": [
       "   market_id          created_at  store_id  subtotal  total_onshift_dashers  \\\n",
       "0        3.0 2015-02-25 02:22:30      5477      7500                    4.0   \n",
       "1        3.0 2015-02-25 01:14:19      5477      7100                    4.0   \n",
       "2        4.0 2015-02-22 02:27:44      5477      4500                    9.0   \n",
       "3        3.0 2015-02-25 01:32:39      5477      1700                    3.0   \n",
       "4        1.0 2015-02-24 05:20:45      2841      3150                    4.0   \n",
       "\n",
       "   total_busy_dashers  total_outstanding_orders  \\\n",
       "0                 4.0                       4.0   \n",
       "1                 1.0                       1.0   \n",
       "2                 7.0                       6.0   \n",
       "3                 3.0                       3.0   \n",
       "4                 4.0                       4.0   \n",
       "\n",
       "   estimated_store_to_consumer_driving_duration  delivery_id Store_Speed  \\\n",
       "0                                         670.0       194096      Normal   \n",
       "1                                         446.0       236895      Normal   \n",
       "2                                         504.0       190868      Normal   \n",
       "3                                         687.0       183076      Normal   \n",
       "4                                         528.0       186200      Normal   \n",
       "\n",
       "   orders_hours Time_Category  \n",
       "0             2       Morning  \n",
       "1             1       Morning  \n",
       "2             2       Morning  \n",
       "3             1       Morning  \n",
       "4             5       Morning  "
      ]
     },
     "execution_count": 235,
     "metadata": {},
     "output_type": "execute_result"
    }
   ],
   "source": [
    "df_pred.head()"
   ]
  },
  {
   "cell_type": "code",
   "execution_count": 236,
   "id": "93abab2b",
   "metadata": {},
   "outputs": [],
   "source": [
    "df_pred['unassigned_orders'] = df_pred.total_outstanding_orders - df_pred.total_onshift_dashers"
   ]
  },
  {
   "cell_type": "code",
   "execution_count": 237,
   "id": "3a5ef004",
   "metadata": {},
   "outputs": [
    {
     "data": {
      "text/html": [
       "<div>\n",
       "<style scoped>\n",
       "    .dataframe tbody tr th:only-of-type {\n",
       "        vertical-align: middle;\n",
       "    }\n",
       "\n",
       "    .dataframe tbody tr th {\n",
       "        vertical-align: top;\n",
       "    }\n",
       "\n",
       "    .dataframe thead th {\n",
       "        text-align: right;\n",
       "    }\n",
       "</style>\n",
       "<table border=\"1\" class=\"dataframe\">\n",
       "  <thead>\n",
       "    <tr style=\"text-align: right;\">\n",
       "      <th></th>\n",
       "      <th>market_id</th>\n",
       "      <th>created_at</th>\n",
       "      <th>store_id</th>\n",
       "      <th>subtotal</th>\n",
       "      <th>total_onshift_dashers</th>\n",
       "      <th>total_busy_dashers</th>\n",
       "      <th>total_outstanding_orders</th>\n",
       "      <th>estimated_store_to_consumer_driving_duration</th>\n",
       "      <th>delivery_id</th>\n",
       "      <th>Store_Speed</th>\n",
       "      <th>orders_hours</th>\n",
       "      <th>Time_Category</th>\n",
       "      <th>unassigned_orders</th>\n",
       "    </tr>\n",
       "  </thead>\n",
       "  <tbody>\n",
       "    <tr>\n",
       "      <th>0</th>\n",
       "      <td>3.0</td>\n",
       "      <td>2015-02-25 02:22:30</td>\n",
       "      <td>5477</td>\n",
       "      <td>7500</td>\n",
       "      <td>4.0</td>\n",
       "      <td>4.0</td>\n",
       "      <td>4.0</td>\n",
       "      <td>670.0</td>\n",
       "      <td>194096</td>\n",
       "      <td>Normal</td>\n",
       "      <td>2</td>\n",
       "      <td>Morning</td>\n",
       "      <td>0.0</td>\n",
       "    </tr>\n",
       "    <tr>\n",
       "      <th>1</th>\n",
       "      <td>3.0</td>\n",
       "      <td>2015-02-25 01:14:19</td>\n",
       "      <td>5477</td>\n",
       "      <td>7100</td>\n",
       "      <td>4.0</td>\n",
       "      <td>1.0</td>\n",
       "      <td>1.0</td>\n",
       "      <td>446.0</td>\n",
       "      <td>236895</td>\n",
       "      <td>Normal</td>\n",
       "      <td>1</td>\n",
       "      <td>Morning</td>\n",
       "      <td>-3.0</td>\n",
       "    </tr>\n",
       "    <tr>\n",
       "      <th>2</th>\n",
       "      <td>4.0</td>\n",
       "      <td>2015-02-22 02:27:44</td>\n",
       "      <td>5477</td>\n",
       "      <td>4500</td>\n",
       "      <td>9.0</td>\n",
       "      <td>7.0</td>\n",
       "      <td>6.0</td>\n",
       "      <td>504.0</td>\n",
       "      <td>190868</td>\n",
       "      <td>Normal</td>\n",
       "      <td>2</td>\n",
       "      <td>Morning</td>\n",
       "      <td>-3.0</td>\n",
       "    </tr>\n",
       "    <tr>\n",
       "      <th>3</th>\n",
       "      <td>3.0</td>\n",
       "      <td>2015-02-25 01:32:39</td>\n",
       "      <td>5477</td>\n",
       "      <td>1700</td>\n",
       "      <td>3.0</td>\n",
       "      <td>3.0</td>\n",
       "      <td>3.0</td>\n",
       "      <td>687.0</td>\n",
       "      <td>183076</td>\n",
       "      <td>Normal</td>\n",
       "      <td>1</td>\n",
       "      <td>Morning</td>\n",
       "      <td>0.0</td>\n",
       "    </tr>\n",
       "    <tr>\n",
       "      <th>4</th>\n",
       "      <td>1.0</td>\n",
       "      <td>2015-02-24 05:20:45</td>\n",
       "      <td>2841</td>\n",
       "      <td>3150</td>\n",
       "      <td>4.0</td>\n",
       "      <td>4.0</td>\n",
       "      <td>4.0</td>\n",
       "      <td>528.0</td>\n",
       "      <td>186200</td>\n",
       "      <td>Normal</td>\n",
       "      <td>5</td>\n",
       "      <td>Morning</td>\n",
       "      <td>0.0</td>\n",
       "    </tr>\n",
       "  </tbody>\n",
       "</table>\n",
       "</div>"
      ],
      "text/plain": [
       "   market_id          created_at  store_id  subtotal  total_onshift_dashers  \\\n",
       "0        3.0 2015-02-25 02:22:30      5477      7500                    4.0   \n",
       "1        3.0 2015-02-25 01:14:19      5477      7100                    4.0   \n",
       "2        4.0 2015-02-22 02:27:44      5477      4500                    9.0   \n",
       "3        3.0 2015-02-25 01:32:39      5477      1700                    3.0   \n",
       "4        1.0 2015-02-24 05:20:45      2841      3150                    4.0   \n",
       "\n",
       "   total_busy_dashers  total_outstanding_orders  \\\n",
       "0                 4.0                       4.0   \n",
       "1                 1.0                       1.0   \n",
       "2                 7.0                       6.0   \n",
       "3                 3.0                       3.0   \n",
       "4                 4.0                       4.0   \n",
       "\n",
       "   estimated_store_to_consumer_driving_duration  delivery_id Store_Speed  \\\n",
       "0                                         670.0       194096      Normal   \n",
       "1                                         446.0       236895      Normal   \n",
       "2                                         504.0       190868      Normal   \n",
       "3                                         687.0       183076      Normal   \n",
       "4                                         528.0       186200      Normal   \n",
       "\n",
       "   orders_hours Time_Category  unassigned_orders  \n",
       "0             2       Morning                0.0  \n",
       "1             1       Morning               -3.0  \n",
       "2             2       Morning               -3.0  \n",
       "3             1       Morning                0.0  \n",
       "4             5       Morning                0.0  "
      ]
     },
     "execution_count": 237,
     "metadata": {},
     "output_type": "execute_result"
    }
   ],
   "source": [
    "df_pred.head()"
   ]
  },
  {
   "cell_type": "code",
   "execution_count": 238,
   "id": "22851a25",
   "metadata": {},
   "outputs": [],
   "source": [
    "df_pred['market_id'] = df_pred['market_id'].astype(object)"
   ]
  },
  {
   "cell_type": "code",
   "execution_count": 239,
   "id": "0876dae6",
   "metadata": {},
   "outputs": [],
   "source": [
    "df_pred['orders_hours'] = df_pred['orders_hours'].astype(object)"
   ]
  },
  {
   "cell_type": "code",
   "execution_count": 240,
   "id": "40c89688",
   "metadata": {},
   "outputs": [],
   "source": [
    "df_pred.drop(['created_at', 'total_outstanding_orders'], inplace=True, axis = 1)"
   ]
  },
  {
   "cell_type": "code",
   "execution_count": 241,
   "id": "a8f822af",
   "metadata": {},
   "outputs": [
    {
     "data": {
      "text/html": [
       "<div>\n",
       "<style scoped>\n",
       "    .dataframe tbody tr th:only-of-type {\n",
       "        vertical-align: middle;\n",
       "    }\n",
       "\n",
       "    .dataframe tbody tr th {\n",
       "        vertical-align: top;\n",
       "    }\n",
       "\n",
       "    .dataframe thead th {\n",
       "        text-align: right;\n",
       "    }\n",
       "</style>\n",
       "<table border=\"1\" class=\"dataframe\">\n",
       "  <thead>\n",
       "    <tr style=\"text-align: right;\">\n",
       "      <th></th>\n",
       "      <th>market_id</th>\n",
       "      <th>store_id</th>\n",
       "      <th>subtotal</th>\n",
       "      <th>total_onshift_dashers</th>\n",
       "      <th>total_busy_dashers</th>\n",
       "      <th>estimated_store_to_consumer_driving_duration</th>\n",
       "      <th>delivery_id</th>\n",
       "      <th>Store_Speed</th>\n",
       "      <th>orders_hours</th>\n",
       "      <th>Time_Category</th>\n",
       "      <th>unassigned_orders</th>\n",
       "    </tr>\n",
       "  </thead>\n",
       "  <tbody>\n",
       "    <tr>\n",
       "      <th>0</th>\n",
       "      <td>3.0</td>\n",
       "      <td>5477</td>\n",
       "      <td>7500</td>\n",
       "      <td>4.0</td>\n",
       "      <td>4.0</td>\n",
       "      <td>670.0</td>\n",
       "      <td>194096</td>\n",
       "      <td>Normal</td>\n",
       "      <td>2</td>\n",
       "      <td>Morning</td>\n",
       "      <td>0.0</td>\n",
       "    </tr>\n",
       "    <tr>\n",
       "      <th>1</th>\n",
       "      <td>3.0</td>\n",
       "      <td>5477</td>\n",
       "      <td>7100</td>\n",
       "      <td>4.0</td>\n",
       "      <td>1.0</td>\n",
       "      <td>446.0</td>\n",
       "      <td>236895</td>\n",
       "      <td>Normal</td>\n",
       "      <td>1</td>\n",
       "      <td>Morning</td>\n",
       "      <td>-3.0</td>\n",
       "    </tr>\n",
       "    <tr>\n",
       "      <th>2</th>\n",
       "      <td>4.0</td>\n",
       "      <td>5477</td>\n",
       "      <td>4500</td>\n",
       "      <td>9.0</td>\n",
       "      <td>7.0</td>\n",
       "      <td>504.0</td>\n",
       "      <td>190868</td>\n",
       "      <td>Normal</td>\n",
       "      <td>2</td>\n",
       "      <td>Morning</td>\n",
       "      <td>-3.0</td>\n",
       "    </tr>\n",
       "    <tr>\n",
       "      <th>3</th>\n",
       "      <td>3.0</td>\n",
       "      <td>5477</td>\n",
       "      <td>1700</td>\n",
       "      <td>3.0</td>\n",
       "      <td>3.0</td>\n",
       "      <td>687.0</td>\n",
       "      <td>183076</td>\n",
       "      <td>Normal</td>\n",
       "      <td>1</td>\n",
       "      <td>Morning</td>\n",
       "      <td>0.0</td>\n",
       "    </tr>\n",
       "    <tr>\n",
       "      <th>4</th>\n",
       "      <td>1.0</td>\n",
       "      <td>2841</td>\n",
       "      <td>3150</td>\n",
       "      <td>4.0</td>\n",
       "      <td>4.0</td>\n",
       "      <td>528.0</td>\n",
       "      <td>186200</td>\n",
       "      <td>Normal</td>\n",
       "      <td>5</td>\n",
       "      <td>Morning</td>\n",
       "      <td>0.0</td>\n",
       "    </tr>\n",
       "  </tbody>\n",
       "</table>\n",
       "</div>"
      ],
      "text/plain": [
       "  market_id  store_id  subtotal  total_onshift_dashers  total_busy_dashers  \\\n",
       "0       3.0      5477      7500                    4.0                 4.0   \n",
       "1       3.0      5477      7100                    4.0                 1.0   \n",
       "2       4.0      5477      4500                    9.0                 7.0   \n",
       "3       3.0      5477      1700                    3.0                 3.0   \n",
       "4       1.0      2841      3150                    4.0                 4.0   \n",
       "\n",
       "   estimated_store_to_consumer_driving_duration  delivery_id Store_Speed  \\\n",
       "0                                         670.0       194096      Normal   \n",
       "1                                         446.0       236895      Normal   \n",
       "2                                         504.0       190868      Normal   \n",
       "3                                         687.0       183076      Normal   \n",
       "4                                         528.0       186200      Normal   \n",
       "\n",
       "  orders_hours Time_Category  unassigned_orders  \n",
       "0            2       Morning                0.0  \n",
       "1            1       Morning               -3.0  \n",
       "2            2       Morning               -3.0  \n",
       "3            1       Morning                0.0  \n",
       "4            5       Morning                0.0  "
      ]
     },
     "execution_count": 241,
     "metadata": {},
     "output_type": "execute_result"
    }
   ],
   "source": [
    "df_pred.head()"
   ]
  },
  {
   "cell_type": "code",
   "execution_count": 422,
   "id": "0b9ed267",
   "metadata": {},
   "outputs": [],
   "source": [
    "df_pred_delivery_id = df_pred['delivery_id']"
   ]
  },
  {
   "cell_type": "code",
   "execution_count": 244,
   "id": "04efbba4",
   "metadata": {},
   "outputs": [],
   "source": [
    "df_pred = df_pred.drop('delivery_id', axis = 1)"
   ]
  },
  {
   "cell_type": "code",
   "execution_count": 246,
   "id": "0b1fa67c",
   "metadata": {},
   "outputs": [],
   "source": [
    "df_pred = pd.get_dummies(df_pred)"
   ]
  },
  {
   "cell_type": "code",
   "execution_count": 247,
   "id": "d9560f1c",
   "metadata": {},
   "outputs": [
    {
     "data": {
      "text/html": [
       "<div>\n",
       "<style scoped>\n",
       "    .dataframe tbody tr th:only-of-type {\n",
       "        vertical-align: middle;\n",
       "    }\n",
       "\n",
       "    .dataframe tbody tr th {\n",
       "        vertical-align: top;\n",
       "    }\n",
       "\n",
       "    .dataframe thead th {\n",
       "        text-align: right;\n",
       "    }\n",
       "</style>\n",
       "<table border=\"1\" class=\"dataframe\">\n",
       "  <thead>\n",
       "    <tr style=\"text-align: right;\">\n",
       "      <th></th>\n",
       "      <th>store_id</th>\n",
       "      <th>subtotal</th>\n",
       "      <th>total_onshift_dashers</th>\n",
       "      <th>total_busy_dashers</th>\n",
       "      <th>estimated_store_to_consumer_driving_duration</th>\n",
       "      <th>unassigned_orders</th>\n",
       "      <th>market_id_1.0</th>\n",
       "      <th>market_id_2.0</th>\n",
       "      <th>market_id_3.0</th>\n",
       "      <th>market_id_4.0</th>\n",
       "      <th>market_id_5.0</th>\n",
       "      <th>market_id_6.0</th>\n",
       "      <th>Store_Speed_Fast</th>\n",
       "      <th>Store_Speed_Normal</th>\n",
       "      <th>Store_Speed_Slow</th>\n",
       "      <th>orders_hours_0</th>\n",
       "      <th>orders_hours_1</th>\n",
       "      <th>orders_hours_2</th>\n",
       "      <th>orders_hours_3</th>\n",
       "      <th>orders_hours_4</th>\n",
       "      <th>orders_hours_5</th>\n",
       "      <th>orders_hours_6</th>\n",
       "      <th>orders_hours_7</th>\n",
       "      <th>orders_hours_14</th>\n",
       "      <th>orders_hours_15</th>\n",
       "      <th>orders_hours_16</th>\n",
       "      <th>orders_hours_17</th>\n",
       "      <th>orders_hours_18</th>\n",
       "      <th>orders_hours_19</th>\n",
       "      <th>orders_hours_20</th>\n",
       "      <th>orders_hours_21</th>\n",
       "      <th>orders_hours_22</th>\n",
       "      <th>orders_hours_23</th>\n",
       "      <th>Time_Category_Daytime</th>\n",
       "      <th>Time_Category_Midnight</th>\n",
       "      <th>Time_Category_Morning</th>\n",
       "      <th>Time_Category_Night</th>\n",
       "    </tr>\n",
       "  </thead>\n",
       "  <tbody>\n",
       "    <tr>\n",
       "      <th>0</th>\n",
       "      <td>5477</td>\n",
       "      <td>7500</td>\n",
       "      <td>4.0</td>\n",
       "      <td>4.0</td>\n",
       "      <td>670.0</td>\n",
       "      <td>0.0</td>\n",
       "      <td>0</td>\n",
       "      <td>0</td>\n",
       "      <td>1</td>\n",
       "      <td>0</td>\n",
       "      <td>0</td>\n",
       "      <td>0</td>\n",
       "      <td>0</td>\n",
       "      <td>1</td>\n",
       "      <td>0</td>\n",
       "      <td>0</td>\n",
       "      <td>0</td>\n",
       "      <td>1</td>\n",
       "      <td>0</td>\n",
       "      <td>0</td>\n",
       "      <td>0</td>\n",
       "      <td>0</td>\n",
       "      <td>0</td>\n",
       "      <td>0</td>\n",
       "      <td>0</td>\n",
       "      <td>0</td>\n",
       "      <td>0</td>\n",
       "      <td>0</td>\n",
       "      <td>0</td>\n",
       "      <td>0</td>\n",
       "      <td>0</td>\n",
       "      <td>0</td>\n",
       "      <td>0</td>\n",
       "      <td>0</td>\n",
       "      <td>0</td>\n",
       "      <td>1</td>\n",
       "      <td>0</td>\n",
       "    </tr>\n",
       "    <tr>\n",
       "      <th>1</th>\n",
       "      <td>5477</td>\n",
       "      <td>7100</td>\n",
       "      <td>4.0</td>\n",
       "      <td>1.0</td>\n",
       "      <td>446.0</td>\n",
       "      <td>-3.0</td>\n",
       "      <td>0</td>\n",
       "      <td>0</td>\n",
       "      <td>1</td>\n",
       "      <td>0</td>\n",
       "      <td>0</td>\n",
       "      <td>0</td>\n",
       "      <td>0</td>\n",
       "      <td>1</td>\n",
       "      <td>0</td>\n",
       "      <td>0</td>\n",
       "      <td>1</td>\n",
       "      <td>0</td>\n",
       "      <td>0</td>\n",
       "      <td>0</td>\n",
       "      <td>0</td>\n",
       "      <td>0</td>\n",
       "      <td>0</td>\n",
       "      <td>0</td>\n",
       "      <td>0</td>\n",
       "      <td>0</td>\n",
       "      <td>0</td>\n",
       "      <td>0</td>\n",
       "      <td>0</td>\n",
       "      <td>0</td>\n",
       "      <td>0</td>\n",
       "      <td>0</td>\n",
       "      <td>0</td>\n",
       "      <td>0</td>\n",
       "      <td>0</td>\n",
       "      <td>1</td>\n",
       "      <td>0</td>\n",
       "    </tr>\n",
       "    <tr>\n",
       "      <th>2</th>\n",
       "      <td>5477</td>\n",
       "      <td>4500</td>\n",
       "      <td>9.0</td>\n",
       "      <td>7.0</td>\n",
       "      <td>504.0</td>\n",
       "      <td>-3.0</td>\n",
       "      <td>0</td>\n",
       "      <td>0</td>\n",
       "      <td>0</td>\n",
       "      <td>1</td>\n",
       "      <td>0</td>\n",
       "      <td>0</td>\n",
       "      <td>0</td>\n",
       "      <td>1</td>\n",
       "      <td>0</td>\n",
       "      <td>0</td>\n",
       "      <td>0</td>\n",
       "      <td>1</td>\n",
       "      <td>0</td>\n",
       "      <td>0</td>\n",
       "      <td>0</td>\n",
       "      <td>0</td>\n",
       "      <td>0</td>\n",
       "      <td>0</td>\n",
       "      <td>0</td>\n",
       "      <td>0</td>\n",
       "      <td>0</td>\n",
       "      <td>0</td>\n",
       "      <td>0</td>\n",
       "      <td>0</td>\n",
       "      <td>0</td>\n",
       "      <td>0</td>\n",
       "      <td>0</td>\n",
       "      <td>0</td>\n",
       "      <td>0</td>\n",
       "      <td>1</td>\n",
       "      <td>0</td>\n",
       "    </tr>\n",
       "    <tr>\n",
       "      <th>3</th>\n",
       "      <td>5477</td>\n",
       "      <td>1700</td>\n",
       "      <td>3.0</td>\n",
       "      <td>3.0</td>\n",
       "      <td>687.0</td>\n",
       "      <td>0.0</td>\n",
       "      <td>0</td>\n",
       "      <td>0</td>\n",
       "      <td>1</td>\n",
       "      <td>0</td>\n",
       "      <td>0</td>\n",
       "      <td>0</td>\n",
       "      <td>0</td>\n",
       "      <td>1</td>\n",
       "      <td>0</td>\n",
       "      <td>0</td>\n",
       "      <td>1</td>\n",
       "      <td>0</td>\n",
       "      <td>0</td>\n",
       "      <td>0</td>\n",
       "      <td>0</td>\n",
       "      <td>0</td>\n",
       "      <td>0</td>\n",
       "      <td>0</td>\n",
       "      <td>0</td>\n",
       "      <td>0</td>\n",
       "      <td>0</td>\n",
       "      <td>0</td>\n",
       "      <td>0</td>\n",
       "      <td>0</td>\n",
       "      <td>0</td>\n",
       "      <td>0</td>\n",
       "      <td>0</td>\n",
       "      <td>0</td>\n",
       "      <td>0</td>\n",
       "      <td>1</td>\n",
       "      <td>0</td>\n",
       "    </tr>\n",
       "    <tr>\n",
       "      <th>4</th>\n",
       "      <td>2841</td>\n",
       "      <td>3150</td>\n",
       "      <td>4.0</td>\n",
       "      <td>4.0</td>\n",
       "      <td>528.0</td>\n",
       "      <td>0.0</td>\n",
       "      <td>1</td>\n",
       "      <td>0</td>\n",
       "      <td>0</td>\n",
       "      <td>0</td>\n",
       "      <td>0</td>\n",
       "      <td>0</td>\n",
       "      <td>0</td>\n",
       "      <td>1</td>\n",
       "      <td>0</td>\n",
       "      <td>0</td>\n",
       "      <td>0</td>\n",
       "      <td>0</td>\n",
       "      <td>0</td>\n",
       "      <td>0</td>\n",
       "      <td>1</td>\n",
       "      <td>0</td>\n",
       "      <td>0</td>\n",
       "      <td>0</td>\n",
       "      <td>0</td>\n",
       "      <td>0</td>\n",
       "      <td>0</td>\n",
       "      <td>0</td>\n",
       "      <td>0</td>\n",
       "      <td>0</td>\n",
       "      <td>0</td>\n",
       "      <td>0</td>\n",
       "      <td>0</td>\n",
       "      <td>0</td>\n",
       "      <td>0</td>\n",
       "      <td>1</td>\n",
       "      <td>0</td>\n",
       "    </tr>\n",
       "  </tbody>\n",
       "</table>\n",
       "</div>"
      ],
      "text/plain": [
       "   store_id  subtotal  total_onshift_dashers  total_busy_dashers  \\\n",
       "0      5477      7500                    4.0                 4.0   \n",
       "1      5477      7100                    4.0                 1.0   \n",
       "2      5477      4500                    9.0                 7.0   \n",
       "3      5477      1700                    3.0                 3.0   \n",
       "4      2841      3150                    4.0                 4.0   \n",
       "\n",
       "   estimated_store_to_consumer_driving_duration  unassigned_orders  \\\n",
       "0                                         670.0                0.0   \n",
       "1                                         446.0               -3.0   \n",
       "2                                         504.0               -3.0   \n",
       "3                                         687.0                0.0   \n",
       "4                                         528.0                0.0   \n",
       "\n",
       "   market_id_1.0  market_id_2.0  market_id_3.0  market_id_4.0  market_id_5.0  \\\n",
       "0              0              0              1              0              0   \n",
       "1              0              0              1              0              0   \n",
       "2              0              0              0              1              0   \n",
       "3              0              0              1              0              0   \n",
       "4              1              0              0              0              0   \n",
       "\n",
       "   market_id_6.0  Store_Speed_Fast  Store_Speed_Normal  Store_Speed_Slow  \\\n",
       "0              0                 0                   1                 0   \n",
       "1              0                 0                   1                 0   \n",
       "2              0                 0                   1                 0   \n",
       "3              0                 0                   1                 0   \n",
       "4              0                 0                   1                 0   \n",
       "\n",
       "   orders_hours_0  orders_hours_1  orders_hours_2  orders_hours_3  \\\n",
       "0               0               0               1               0   \n",
       "1               0               1               0               0   \n",
       "2               0               0               1               0   \n",
       "3               0               1               0               0   \n",
       "4               0               0               0               0   \n",
       "\n",
       "   orders_hours_4  orders_hours_5  orders_hours_6  orders_hours_7  \\\n",
       "0               0               0               0               0   \n",
       "1               0               0               0               0   \n",
       "2               0               0               0               0   \n",
       "3               0               0               0               0   \n",
       "4               0               1               0               0   \n",
       "\n",
       "   orders_hours_14  orders_hours_15  orders_hours_16  orders_hours_17  \\\n",
       "0                0                0                0                0   \n",
       "1                0                0                0                0   \n",
       "2                0                0                0                0   \n",
       "3                0                0                0                0   \n",
       "4                0                0                0                0   \n",
       "\n",
       "   orders_hours_18  orders_hours_19  orders_hours_20  orders_hours_21  \\\n",
       "0                0                0                0                0   \n",
       "1                0                0                0                0   \n",
       "2                0                0                0                0   \n",
       "3                0                0                0                0   \n",
       "4                0                0                0                0   \n",
       "\n",
       "   orders_hours_22  orders_hours_23  Time_Category_Daytime  \\\n",
       "0                0                0                      0   \n",
       "1                0                0                      0   \n",
       "2                0                0                      0   \n",
       "3                0                0                      0   \n",
       "4                0                0                      0   \n",
       "\n",
       "   Time_Category_Midnight  Time_Category_Morning  Time_Category_Night  \n",
       "0                       0                      1                    0  \n",
       "1                       0                      1                    0  \n",
       "2                       0                      1                    0  \n",
       "3                       0                      1                    0  \n",
       "4                       0                      1                    0  "
      ]
     },
     "execution_count": 247,
     "metadata": {},
     "output_type": "execute_result"
    }
   ],
   "source": [
    "df_pred.head()"
   ]
  },
  {
   "cell_type": "code",
   "execution_count": 248,
   "id": "8dae610f",
   "metadata": {},
   "outputs": [],
   "source": [
    "df_pred_2 = df_pred.copy()"
   ]
  },
  {
   "cell_type": "markdown",
   "id": "2f9c6646",
   "metadata": {},
   "source": [
    "# XGBOOST"
   ]
  },
  {
   "cell_type": "code",
   "execution_count": 330,
   "id": "89ea4434",
   "metadata": {},
   "outputs": [],
   "source": [
    "y_pred = xgb_model.predict(df_pred)"
   ]
  },
  {
   "cell_type": "code",
   "execution_count": 421,
   "id": "e63904b5",
   "metadata": {},
   "outputs": [
    {
     "data": {
      "text/plain": [
       "array([3360.6511, 2942.3818, 3190.153 , ..., 2476.0771, 3250.9568,\n",
       "       2560.7698], dtype=float32)"
      ]
     },
     "execution_count": 421,
     "metadata": {},
     "output_type": "execute_result"
    }
   ],
   "source": [
    "y_pred"
   ]
  },
  {
   "cell_type": "code",
   "execution_count": 439,
   "id": "ca550cf4",
   "metadata": {},
   "outputs": [
    {
     "data": {
      "text/plain": [
       "0        194096\n",
       "1        236895\n",
       "2        190868\n",
       "3        183076\n",
       "4        186200\n",
       "          ...  \n",
       "54773    174203\n",
       "54774    138333\n",
       "54775     34110\n",
       "54776    178028\n",
       "54777    132824\n",
       "Name: delivery_id, Length: 48975, dtype: int64"
      ]
     },
     "execution_count": 439,
     "metadata": {},
     "output_type": "execute_result"
    }
   ],
   "source": [
    "df_pred_delivery_id"
   ]
  },
  {
   "cell_type": "code",
   "execution_count": 454,
   "id": "18058311",
   "metadata": {},
   "outputs": [],
   "source": [
    "y_pred_dataframe = pd.DataFrame({'prediction':y_pred})"
   ]
  },
  {
   "cell_type": "code",
   "execution_count": 455,
   "id": "e12bced6",
   "metadata": {},
   "outputs": [
    {
     "data": {
      "text/html": [
       "<div>\n",
       "<style scoped>\n",
       "    .dataframe tbody tr th:only-of-type {\n",
       "        vertical-align: middle;\n",
       "    }\n",
       "\n",
       "    .dataframe tbody tr th {\n",
       "        vertical-align: top;\n",
       "    }\n",
       "\n",
       "    .dataframe thead th {\n",
       "        text-align: right;\n",
       "    }\n",
       "</style>\n",
       "<table border=\"1\" class=\"dataframe\">\n",
       "  <thead>\n",
       "    <tr style=\"text-align: right;\">\n",
       "      <th></th>\n",
       "      <th>prediction</th>\n",
       "    </tr>\n",
       "  </thead>\n",
       "  <tbody>\n",
       "    <tr>\n",
       "      <th>0</th>\n",
       "      <td>3360.651123</td>\n",
       "    </tr>\n",
       "    <tr>\n",
       "      <th>1</th>\n",
       "      <td>2942.381836</td>\n",
       "    </tr>\n",
       "    <tr>\n",
       "      <th>2</th>\n",
       "      <td>3190.153076</td>\n",
       "    </tr>\n",
       "    <tr>\n",
       "      <th>3</th>\n",
       "      <td>3137.136719</td>\n",
       "    </tr>\n",
       "    <tr>\n",
       "      <th>4</th>\n",
       "      <td>2583.924805</td>\n",
       "    </tr>\n",
       "    <tr>\n",
       "      <th>...</th>\n",
       "      <td>...</td>\n",
       "    </tr>\n",
       "    <tr>\n",
       "      <th>48970</th>\n",
       "      <td>2700.897217</td>\n",
       "    </tr>\n",
       "    <tr>\n",
       "      <th>48971</th>\n",
       "      <td>2566.305664</td>\n",
       "    </tr>\n",
       "    <tr>\n",
       "      <th>48972</th>\n",
       "      <td>2476.077148</td>\n",
       "    </tr>\n",
       "    <tr>\n",
       "      <th>48973</th>\n",
       "      <td>3250.956787</td>\n",
       "    </tr>\n",
       "    <tr>\n",
       "      <th>48974</th>\n",
       "      <td>2560.769775</td>\n",
       "    </tr>\n",
       "  </tbody>\n",
       "</table>\n",
       "<p>48975 rows × 1 columns</p>\n",
       "</div>"
      ],
      "text/plain": [
       "        prediction\n",
       "0      3360.651123\n",
       "1      2942.381836\n",
       "2      3190.153076\n",
       "3      3137.136719\n",
       "4      2583.924805\n",
       "...            ...\n",
       "48970  2700.897217\n",
       "48971  2566.305664\n",
       "48972  2476.077148\n",
       "48973  3250.956787\n",
       "48974  2560.769775\n",
       "\n",
       "[48975 rows x 1 columns]"
      ]
     },
     "execution_count": 455,
     "metadata": {},
     "output_type": "execute_result"
    }
   ],
   "source": [
    "y_pred_dataframe"
   ]
  },
  {
   "cell_type": "code",
   "execution_count": 440,
   "id": "bc05abee",
   "metadata": {},
   "outputs": [],
   "source": [
    "df_pred_delivery_id = df_pred_delivery_id.reset_index(drop=True)"
   ]
  },
  {
   "cell_type": "code",
   "execution_count": 441,
   "id": "6680479c",
   "metadata": {},
   "outputs": [
    {
     "data": {
      "text/plain": [
       "0        194096\n",
       "1        236895\n",
       "2        190868\n",
       "3        183076\n",
       "4        186200\n",
       "          ...  \n",
       "48970    174203\n",
       "48971    138333\n",
       "48972     34110\n",
       "48973    178028\n",
       "48974    132824\n",
       "Name: delivery_id, Length: 48975, dtype: int64"
      ]
     },
     "execution_count": 441,
     "metadata": {},
     "output_type": "execute_result"
    }
   ],
   "source": [
    "df_pred_delivery_id"
   ]
  },
  {
   "cell_type": "code",
   "execution_count": 456,
   "id": "364e20ec",
   "metadata": {},
   "outputs": [],
   "source": [
    "final_pred = pd.concat([df_pred_delivery_id, y_pred_dataframe ], axis = 1)"
   ]
  },
  {
   "cell_type": "code",
   "execution_count": 457,
   "id": "debbceb2",
   "metadata": {},
   "outputs": [
    {
     "data": {
      "text/html": [
       "<div>\n",
       "<style scoped>\n",
       "    .dataframe tbody tr th:only-of-type {\n",
       "        vertical-align: middle;\n",
       "    }\n",
       "\n",
       "    .dataframe tbody tr th {\n",
       "        vertical-align: top;\n",
       "    }\n",
       "\n",
       "    .dataframe thead th {\n",
       "        text-align: right;\n",
       "    }\n",
       "</style>\n",
       "<table border=\"1\" class=\"dataframe\">\n",
       "  <thead>\n",
       "    <tr style=\"text-align: right;\">\n",
       "      <th></th>\n",
       "      <th>delivery_id</th>\n",
       "      <th>prediction</th>\n",
       "    </tr>\n",
       "  </thead>\n",
       "  <tbody>\n",
       "    <tr>\n",
       "      <th>0</th>\n",
       "      <td>194096</td>\n",
       "      <td>3360.651123</td>\n",
       "    </tr>\n",
       "    <tr>\n",
       "      <th>1</th>\n",
       "      <td>236895</td>\n",
       "      <td>2942.381836</td>\n",
       "    </tr>\n",
       "    <tr>\n",
       "      <th>2</th>\n",
       "      <td>190868</td>\n",
       "      <td>3190.153076</td>\n",
       "    </tr>\n",
       "    <tr>\n",
       "      <th>3</th>\n",
       "      <td>183076</td>\n",
       "      <td>3137.136719</td>\n",
       "    </tr>\n",
       "    <tr>\n",
       "      <th>4</th>\n",
       "      <td>186200</td>\n",
       "      <td>2583.924805</td>\n",
       "    </tr>\n",
       "    <tr>\n",
       "      <th>...</th>\n",
       "      <td>...</td>\n",
       "      <td>...</td>\n",
       "    </tr>\n",
       "    <tr>\n",
       "      <th>48970</th>\n",
       "      <td>174203</td>\n",
       "      <td>2700.897217</td>\n",
       "    </tr>\n",
       "    <tr>\n",
       "      <th>48971</th>\n",
       "      <td>138333</td>\n",
       "      <td>2566.305664</td>\n",
       "    </tr>\n",
       "    <tr>\n",
       "      <th>48972</th>\n",
       "      <td>34110</td>\n",
       "      <td>2476.077148</td>\n",
       "    </tr>\n",
       "    <tr>\n",
       "      <th>48973</th>\n",
       "      <td>178028</td>\n",
       "      <td>3250.956787</td>\n",
       "    </tr>\n",
       "    <tr>\n",
       "      <th>48974</th>\n",
       "      <td>132824</td>\n",
       "      <td>2560.769775</td>\n",
       "    </tr>\n",
       "  </tbody>\n",
       "</table>\n",
       "<p>48975 rows × 2 columns</p>\n",
       "</div>"
      ],
      "text/plain": [
       "       delivery_id   prediction\n",
       "0           194096  3360.651123\n",
       "1           236895  2942.381836\n",
       "2           190868  3190.153076\n",
       "3           183076  3137.136719\n",
       "4           186200  2583.924805\n",
       "...            ...          ...\n",
       "48970       174203  2700.897217\n",
       "48971       138333  2566.305664\n",
       "48972        34110  2476.077148\n",
       "48973       178028  3250.956787\n",
       "48974       132824  2560.769775\n",
       "\n",
       "[48975 rows x 2 columns]"
      ]
     },
     "execution_count": 457,
     "metadata": {},
     "output_type": "execute_result"
    }
   ],
   "source": [
    "final_pred"
   ]
  },
  {
   "cell_type": "code",
   "execution_count": 460,
   "id": "f140f96e",
   "metadata": {},
   "outputs": [],
   "source": [
    "final_pred.to_csv('a1.csv', encoding='utf-8', index=False)"
   ]
  },
  {
   "cell_type": "code",
   "execution_count": null,
   "id": "d9888b2a",
   "metadata": {},
   "outputs": [],
   "source": []
  }
 ],
 "metadata": {
  "kernelspec": {
   "display_name": "Python 3 (ipykernel)",
   "language": "python",
   "name": "python3"
  },
  "language_info": {
   "codemirror_mode": {
    "name": "ipython",
    "version": 3
   },
   "file_extension": ".py",
   "mimetype": "text/x-python",
   "name": "python",
   "nbconvert_exporter": "python",
   "pygments_lexer": "ipython3",
   "version": "3.9.7"
  }
 },
 "nbformat": 4,
 "nbformat_minor": 5
}
